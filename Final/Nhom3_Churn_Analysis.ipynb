﻿{
  "metadata": {
    "name": "Nhom3_Churn_Analysis",
    "kernelspec": {
      "language": "scala",
      "name": "spark2-scala"
    },
    "language_info": {
      "codemirror_mode": "text/x-scala",
      "file_extension": ".scala",
      "mimetype": "text/x-scala",
      "name": "scala",
      "pygments_lexer": "scala"
    }
  },
  "nbformat": 4,
  "nbformat_minor": 2,
  "cells": [
    {
      "cell_type": "markdown",
      "metadata": {},
      "source": "# PHÂN TÍCH KHẢ NĂNG KHÁCH HÀNG CÓ THỂ TỪ BỎ DỊCH VỤ ĐANG SỬ DỤNG\n"
    },
    {
      "cell_type": "markdown",
      "metadata": {},
      "source": "# Tổng quan về đề tài"
    },
    {
      "cell_type": "markdown",
      "metadata": {},
      "source": "## Lý do chọn đề tài\nLựa chọn đề tài **“*Phân tích và dự đoán khả năng khách hàng có thể từ bỏ dịch vụ đang sử dụng*”** mang lại nhiều lợi ích quan trọng trong lĩnh vực kinh doanh và quản lý khách hàng. Dưới đây là một số lý do nhóm chúng em chọn đề tài này.\n\n*Nắm bắt yếu tố ảnh hưởng và cải thiện dịch vụ:* Phân tích dữ liệu từ khách hàng giúp xác định vấn đề chung và tìm ra giải pháp cải thiện dịch vụ, tăng cường sự hài lòng của khách hàng.\nGiảm tỷ lệ từ bỏ dịch vụ: Dự đoán khả năng từ bỏ giúp xác định nhóm khách hàng có nguy cơ cao từ bỏ và triển khai biện pháp giữ chân, giảm thiểu tỷ lệ này.\n\n*Cải thiện trải nghiệm khách hàng:* Phân tích dữ liệu giúp nhận ra điểm yếu trong trải nghiệm khách hàng và cải thiện chúng, tạo ra trải nghiệm tốt hơn và tăng cường lòng trung thành của khách hàng.\n\n*Tối ưu hóa chi phí và tài nguyên:* Tập trung vào duy trì và giữ chân khách hàng hiện tại giúp giảm chi phí tiếp thị và quảng cáo, tăng hiệu quả trong việc duy trì mạng lưới khách hàng.\n\n*Đồng bộ hóa chiến lược phát triển:* Phân tích và dự đoán từ bỏ dịch vụ giúp nhận biết các khía cạnh không hài lòng của khách hàng và thay đổi sản phẩm, dịch vụ để đáp ứng tốt hơn nhu cầu của họ.\n\n*Áp dụng kiến thức vào thực tế:* Thực hiện dự án giúp sinh viên áp dụng kiến thức vào thực tế thông qua các bước phân tích dữ liệu thực tế, hiểu rõ hơn về quá trình làm việc với dữ liệu và áp dụng các phương pháp trong lĩnh vực khoa học dữ liệu.\n"
    },
    {
      "cell_type": "markdown",
      "metadata": {},
      "source": "## Mô tả đề tài\nĐề tài tập trung vào việc phân tích và dự đoán khả năng khách hàng từ bỏ dịch vụ mà họ đang sử dụng. Nghiên cứu sẽ tập trung vào việc hiểu rõ các yếu tố nào ảnh hưởng đến quyết định này và làm thế nào để chúng ta có thể dự đoán khả năng từ bỏ dịch vụ của khách hàng từ đó đưa ra được các chiến lược giúp giảm thiểu hành vi này trong tương lai.\n\nĐồ án này sẽ được thực hiện trong khoảng thời gian học kỳ 2 của năm 3 (từ tháng 1/2024 đến tháng 5/2024). Phạm vi nghiên cứu của đề tài sẽ không chỉ tập trung vào các khách hàng đã từ bỏ dịch vụ, mà đồng thời sẽ mở rộng để xem xét các yếu tố nền tảng khác có thể kể đến như thị trường, xu hướng ngành và các yếu tố về kinh tế.\n\nĐối tượng nghiên cứu của đề tài sẽ tập trung vào các khách hàng đang sử dụng dịch vụ và những đối tượng liên quan trong hệ sinh thái dịch vụ đó. Cụ thể hơn, nghiên cứu sẽ xem xét đến các yếu tố quan trọng có thể đo lường và quan sát được, có thể kể đến các yếu tố như hành vi sử dụng dịch vụ, hậu quả kinh tế, hậu quả dịch bệnh và các đánh giá về chất lượng dịch vụ. Dựa vào đó, ta có thể quan sát và đo lường trên một tập đối tượng để có thể đưa ra được những kết luận, áp dụng cho đối tượng mục tiêu lớn hơn.\n\nNghiên cứu cũng sẽ xem xét đến các yếu tố có thể ảnh hưởng đến độ hữu ích của dữ liệu. Có thể kể đến như tác động của thời gian, khi mà dữ liệu được nghiên cứu có khả năng không phản ánh đúng tình hình hiện tại hoặc các yếu tố địa lý như văn hóa, dân số, môi trường, và pháp luật cũng cần phải được xem xét kỹ lưỡng do các yếu tố trên cũng ảnh hưởng đến quyết định từ bỏ dịch vụ của khách hàng. \n\nNgoài ra, đối với đối tượng mẫu, đồ án cũng sẽ xác định những yếu tố phổ biến quan trọng như chi phí, chất lượng dịch vụ, sự hài lòng và các yếu tố tâm lý khác. Thông qua đó, ta có thể nghiên cứu được những yếu tố ảnh hưởng đến quyết địch từ bỏ dịch vụ, bao gồm cả yếu tố nội tại (như sự hài lòng của khách hàng) và các yếu tố ngoại vi (như thị trường cạnh tranh).\n\nVề phương thức thu thập dữ liệu, nghiên cứu sẽ tập trung chủ yếu vào các dữ liệu có sẵn từ các nền tảng trực tuyến do số lượng và chất lượng của các dữ liệu đó đa phần đều đã được kiểm chứng.\n"
    },
    {
      "cell_type": "markdown",
      "metadata": {},
      "source": "## Tập dữ liệu được sử dụng \n-\t“Internet Service Provider Customer Churn”,\nhttps://www.kaggle.com/datasets/mehmetsabrikunt/internet-service-churn\n-\t“Credit Card Churn Prediction”,\nhttps://www.kaggle.com/datasets/anwarsan/credit-card-bank-churn\n-\t“Telecom Company Churn Rate, Call Center Data”,\nhttps://www.kaggle.com/datasets/datazng/telecom-company-churn-rate-call-center-data/data\n"
    },
    {
      "cell_type": "markdown",
      "metadata": {},
      "source": "# Phân tích tập dữ liệu\n## Tập dữ liệu thứ nhất: Internet Service Provider Customer Churn"
    },
    {
      "cell_type": "markdown",
      "metadata": {},
      "source": "## 1. Giới thiệu chung về bối cảnh, khó khăn trong việc giữ chân khách hàng của dịch vụ Internet\nDịch vụ Internet đã trở thành một phần không thể thiếu trong cuộc sống hàng ngày của chúng ta. Với sự phát triển nhanh chóng của công nghệ và sự gia tăng của các ứng dụng trực tuyến, người dùng ngày càng có nhu cầu cao về kết nối Internet ổn định và tốc độ nhanh.Tuy nhiên, ngành công nghiệp Internet Service Provider (ISP) cũng đối mặt với những thách thức lớn trong việc giữ chân khách hàng. Việc giảm tỷ lệ churn, tức là việc ngăn chặn khách hàng hủy dịch vụ và chuyển sang nhà cung cấp khác, đang trở thành vấn đề quan trọng. \n\nMột trong những khó khăn chính là sự cạnh tranh gay gắt giữa các nhà cung cấp dịch vụ Internet. Có nhiều công ty cung cấp dịch vụ tương tự và khách hàng có nhiều lựa chọn để chuyển đổi nếu họ không hài lòng với dịch vụ hiện tại. Điều này tạo ra một môi trường cạnh tranh mạnh mẽ, khiến việc giữ chân khách hàng trở nên khó khăn hơn.\n\nMột thách thức khác là sự không ổn định trong chất lượng dịch vụ Internet. Khách hàng yêu cầu một kết nối ổn định và tốc độ cao để có thể truy cập các ứng dụng trực tuyến mà họ cần. Nếu mạng Internet của một nhà cung cấp không đáp ứng được yêu cầu này, khách hàng có thể sẽ tìm kiếm các lựa chọn khác.\n\nThành công trong việc giữ chân khách hàng của ISP cũng phụ thuộc vào mối quan hệ tốt với khách hàng. Sự hài lòng của khách hàng với dịch vụ, hỗ trợ và tương tác với nhân viên đóng vai trò quan trọng trong việc quyết định khách hàng có tiếp tục sử dụng dịch vụ hay không. Các công ty cũng phải đối mặt với việc xử lý các yếu tố giá cả và sản phẩm. Khách hàng có thể chuyển đổi sang nhà cung cấp khác nếu họ tìm thấy một gói sản phẩm tốt hơn hoặc giá cả cạnh tranh hơn.\n\nĐể giảm tỷ lệ churn, các nhà cung cấp dịch vụ Internet cần tìm hiểu và đáp ứng nhu cầu của khách hàng một cách tốt nhất. Điều này bao gồm cải thiện chất lượng dịch vụ, cung cấp giá cả cạnh tranh, tạo mối quan hệ tốt với khách hàng và tăng cường hoạt động tiếp thị để tạo niềm tin và sự hài lòng từ phía khách hàng.\n\nViệc giữ chân khách hàng là một thách thức quan trọng đối với các nhà cung cấp dịch vụ Internet. Để thành công trong việc giảm tỷ lệ churn, họ cần tập trung vào cải thiện chất lượng dịch vụ, xây dựng mối quan hệ tốt với khách hàng và đáp ứng các yêu cầu và mong muốn của khách hàng một cách tốt nhất."
    },
    {
      "cell_type": "markdown",
      "metadata": {},
      "source": "\u003c!DOCTYPE html\u003e\n\u003chtml lang\u003d\"vi\"\u003e\n\u003chead\u003e\n    \u003cmeta charset\u003d\"UTF-8\"\u003e\n    \u003cmeta name\u003d\"viewport\" content\u003d\"width\u003ddevice-width, initial-scale\u003d1.0\"\u003e\n    \u003cstyle\u003e\n        table {\n            width: 100%;\n            border-collapse: collapse;\n        }\n        th, td {\n            padding: 8px;\n            text-align: left;\n            border-bottom: 1px solid #ddd;\n        }\n        th {\n            background-color: #f2f2f2;\n        }\n        tr:hover {\n            background-color: #f5f5f5;\n        }\n    \u003c/style\u003e\n\u003c/head\u003e\n\u003cbody\u003e\n\n\u003ch2\u003e2. Giới thiệu về dataset sử dụng\u003c/h2\u003e\n\n\u003cp\u003eBộ dữ liệu “Internet Service Provider Customer Churn” cung cấp thông tin về việc liệu khách hàng có khả năng từ bỏ nhà cung cấp dịch vụ Internet hay không, đồng thời chứa các thuộc tính có thể ảnh hưởng đến quyết định này.\u003c/p\u003e\n\n\u003ch3\u003eTổng quan về dữ liệu:\u003c/h3\u003e\n\u003cul\u003e\n    \u003cli\u003eNăm thu thập: 2022\u003c/li\u003e\n    \u003cli\u003eSố hàng: 72,275\u003c/li\u003e\n    \u003cli\u003eSố cột: 11\u003c/li\u003e\n\u003c/ul\u003e\n\n\u003ch3\u003eCác thuộc tính trong bộ dữ liệu bao gồm:\u003c/h3\u003e\n\u003ctable\u003e\n    \u003ctr\u003e\n        \u003cth\u003eAttribute\u003c/th\u003e\n        \u003cth\u003eDescription\u003c/th\u003e\n    \u003c/tr\u003e\n    \u003ctr\u003e\n        \u003ctd\u003eid\u003c/td\u003e\n        \u003ctd\u003eMã định danh khách hàng\u003c/td\u003e\n    \u003c/tr\u003e\n    \u003ctr\u003e\n        \u003ctd\u003eis_tv_subscriber\u003c/td\u003e\n        \u003ctd\u003eKhách hàng có đăng ký tv hay không, giá trị bao gồm 0 là không đăng ký và 1 là đăng ký\u003c/td\u003e\n    \u003c/tr\u003e\n    \u003ctr\u003e\n        \u003ctd\u003eis_movie_package_subscriber\u003c/td\u003e\n        \u003ctd\u003eKhách hàng có đăng ký gói xem phim điện ảnh hay không, giá trị bao gồm 0 là không đăng ký và 1 là đăng ký\u003c/td\u003e\n    \u003c/tr\u003e\n    \u003ctr\u003e\n        \u003ctd\u003esubscription_age\u003c/td\u003e\n        \u003ctd\u003eThời gian khách hàng sử dụng dịch vụ của nhà cung cấp (đo lường theo năm).\u003c/td\u003e\n    \u003c/tr\u003e\n    \u003ctr\u003e\n        \u003ctd\u003ebill_avg\u003c/td\u003e\n        \u003ctd\u003eHóa đơn trung bình 3 tháng qua - tính từ thời điểm thu thập dữ liệu (đô la)\u003c/td\u003e\n    \u003c/tr\u003e\n    \u003ctr\u003e\n        \u003ctd\u003ereamining_contract\u003c/td\u003e\n        \u003ctd\u003eThời hạn còn lại của hợp đồng với khách hàng.(đo lường theo năm)\n            \u003cul\u003e\n                \u003cli\u003eNếu giá trị là \u003ccode\u003enull\u003c/code\u003e: Khách hàng không có hợp đồng\u003c/li\u003e\n                \u003cli\u003eKhách hàng có thời hạn hợp đồng phải sử dụng dịch vụ cho đến khi hợp đồng kết thúc. Nếu hủy trước thời gian hợp đồng, có thể phải trả phí phạt.\u003c/li\u003e\n                \u003cli\u003eCó hai cách mà khách hàng có thể sử dụng dịch vụ. Thông qua hợp đồng có thời hạn với chi phí thấp hơn hoặc thông qua hợp đồng đăng ký hàng tháng thông thường rõ ràng là có chi phí cao hơn. Vì vậy, ngay cả khi một người không ký hợp đồng, họ vẫn là người dùng trả phí hàng tháng.\u003c/li\u003e\n            \u003c/ul\u003e\n        \u003c/td\u003e\n    \u003c/tr\u003e\n    \u003ctr\u003e\n        \u003ctd\u003eservice_failure_count\u003c/td\u003e\n        \u003ctd\u003eSố cuộc gọi đến trung tâm vì lỗi dịch vụ trong 3 tháng qua\u003c/td\u003e\n    \u003c/tr\u003e\n    \u003ctr\u003e\n        \u003ctd\u003edownload_avg\u003c/td\u003e\n        \u003ctd\u003eSử dụng internet 3 tháng qua - tính từ thời điểm thu thập dữ liệu (đo lường theo GB).\u003c/td\u003e\n    \u003c/tr\u003e\n    \u003ctr\u003e\n        \u003ctd\u003eupload_avg\u003c/td\u003e\n        \u003ctd\u003eTrung bình tải lên 3 tháng qua - tính từ thời điểm thu thập dữ liệu (đo lường theo GB).\u003c/td\u003e\n    \u003c/tr\u003e\n    \u003ctr\u003e\n        \u003ctd\u003edownload_over_limit\u003c/td\u003e\n        \u003ctd\u003eVượt quá giới hạn trong 9 tháng qua. (đo lường theo GB) \n            \u003cul\u003e\n                \u003cli\u003eHầu hết khách hàng đều có giới hạn tải xuống. Nếu họ vượt giới hạn này, họ phải trả tiền cho việc này.\u003c/li\u003e\n            \u003c/ul\u003e\n        \u003c/td\u003e\n    \u003c/tr\u003e\n    \u003ctr\u003e\n        \u003ctd\u003echurn\u003c/td\u003e\n        \u003ctd\u003eĐây là thuộc tính mục đích – là 1 nếu khách hàng có từ bỏ nhà cung cấp dịch vụ Internet, ngược lại là 0\u003c/td\u003e\n    \u003c/tr\u003e\n\u003c/table\u003e\n\n\u003c/body\u003e\n\u003c/html\u003e\n"
    },
    {
      "cell_type": "markdown",
      "metadata": {},
      "source": "## 3. Tổng quan về dữ liệu\n### 3.1. Load dữ liệu"
    },
    {
      "cell_type": "code",
      "execution_count": 9,
      "metadata": {
        "autoscroll": "auto"
      },
      "outputs": [],
      "source": "%pyspark\nimport pandas as pd\nimport seaborn as sns\ndata \u003d pd.read_csv(\u0027https://drive.google.com/uc?export\u003ddownload\u0026id\u003d1QF2Faq2HTStnMhFbR57pxgHP551EKuRo\u0027)\n# In ra một số dòng đầu tiên \nprint(data.head(20))\nprint(data.shape)"
    },
    {
      "cell_type": "markdown",
      "metadata": {},
      "source": "**Số lượng giá trị null ở mỗi cột**"
    },
    {
      "cell_type": "code",
      "execution_count": 11,
      "metadata": {
        "autoscroll": "auto"
      },
      "outputs": [],
      "source": "%pyspark\ndata.isna().sum()"
    },
    {
      "cell_type": "markdown",
      "metadata": {},
      "source": "### 3.2. Xử lý dữ liệu `null` cột reamining_contract"
    },
    {
      "cell_type": "code",
      "execution_count": 13,
      "metadata": {
        "autoscroll": "auto"
      },
      "outputs": [],
      "source": "%pyspark\nprint(data[[\u0027reamining_contract\u0027]].head(20))\nprint(\"Số giá trị null: \")\nprint(data[[\u0027reamining_contract\u0027]].isna().sum())"
    },
    {
      "cell_type": "markdown",
      "metadata": {},
      "source": " \n**Nhận xét**: \n- Ta thấy rằng số khách hàng có giá trị null ở cột reamining_contract là 21572 khách hàng, đồng nghĩa có 21572 khách hàng không có hợp đồng với nhà cung cấp dịch vụ.\n- Giá trị null chỉ thể hiện khách hàng không có hợp đồng, nghĩa là không có thời hạn hợp đồng còn lại thì nó cũng tương tự như có hợp đồng nhưng hết thời hạn, nghĩa là tương tự giá trị 0 nên ta có thể thay các giá trị null thành các giá trị 0.\n"
    },
    {
      "cell_type": "markdown",
      "metadata": {},
      "source": "Giá trị cột reamining_contract sau khi thay thế :"
    },
    {
      "cell_type": "code",
      "execution_count": 16,
      "metadata": {
        "autoscroll": "auto"
      },
      "outputs": [],
      "source": "%pyspark\ndata[\u0027reamining_contract\u0027]\u003d data[\u0027reamining_contract\u0027].fillna(0)\ndata[[\u0027reamining_contract\u0027]]"
    },
    {
      "cell_type": "markdown",
      "metadata": {},
      "source": "### 3.3. Xử lý dữ liệu `null` cột download_avg và upload_avg"
    },
    {
      "cell_type": "code",
      "execution_count": 18,
      "metadata": {
        "autoscroll": "auto"
      },
      "outputs": [],
      "source": "%pyspark\nprint(data[[\u0027download_avg\u0027,\u0027upload_avg\u0027]].head(10))\nprint(\"Số giá trị null: \")\nprint(data[[\u0027download_avg\u0027,\u0027upload_avg\u0027]].isna().sum())"
    },
    {
      "cell_type": "markdown",
      "metadata": {},
      "source": "**Nhận xét**: Số lượng giá trị null trong 2 cột này không quá lớn, việc thay các giá trị null bằng giá trị trung bình của từng thuộc tính sẽ không làm ảnh hưởng đến sự phân bố giá trị trên thuộc tính dữ liệu, đồng thời không làm ảnh hưởng đến kết quả phân tích.\n"
    },
    {
      "cell_type": "markdown",
      "metadata": {},
      "source": "Giá trị cột download_avg và upload_avg sau khi thay thế :"
    },
    {
      "cell_type": "code",
      "execution_count": 21,
      "metadata": {
        "autoscroll": "auto"
      },
      "outputs": [],
      "source": "%pyspark\nmean_download_avg \u003d data[\u0027download_avg\u0027].mean(skipna\u003dTrue)\ndata[\u0027download_avg\u0027]\u003d data[\u0027download_avg\u0027].fillna(mean_download_avg)\nprint(data[[\u0027download_avg\u0027]].head())\nprint(\"Số giá trị null: \")\nprint(data[[\u0027download_avg\u0027]].isna().sum())"
    },
    {
      "cell_type": "code",
      "execution_count": 22,
      "metadata": {
        "autoscroll": "auto"
      },
      "outputs": [],
      "source": "%pyspark\nmean_upload_avg \u003d data[\u0027upload_avg\u0027].mean(skipna\u003dTrue)\ndata[\u0027upload_avg\u0027]\u003d data[\u0027upload_avg\u0027].fillna(mean_download_avg)\nprint(data[[\u0027upload_avg\u0027]].head())\nprint(\"Số giá trị null: \")\nprint(data[[\u0027upload_avg\u0027]].isna().sum())"
    },
    {
      "cell_type": "markdown",
      "metadata": {},
      "source": "## 4. Phân tích các dữ liệu thuộc tính\n### 4.1. Phân bố giá trị trong các thuộc tính\n"
    },
    {
      "cell_type": "markdown",
      "metadata": {},
      "source": "**Thuộc tính `is_tv_subscriber` và `is_movie_package_subscribe`**"
    },
    {
      "cell_type": "code",
      "execution_count": 25,
      "metadata": {
        "autoscroll": "auto"
      },
      "outputs": [],
      "source": "%pyspark\nimport pandas as pd\nimport matplotlib.pyplot as plt\n\n# Đếm số lần xuất hiện của mỗi giá trị\nvalue_counts \u003d data[\u0027is_tv_subscriber\u0027].value_counts()\n\n# Vẽ biểu đồ\nax\u003d value_counts.plot(kind\u003d\u0027bar\u0027, color\u003d[\u0027blue\u0027, \u0027green\u0027])\nfor i, v in enumerate(value_counts):\n    ax.text(i, v + 0.1, str(v), ha\u003d\u0027center\u0027)\n\n# Đặt tiêu đề và nhãn trục\nplt.title(\u0027is_tv_subscriber Distribution\u0027)\nplt.xlabel(\u0027Values\u0027)\nplt.ylabel(\u0027Count\u0027)\n\n# Hiển thị biểu đồ\nplt.show()"
    },
    {
      "cell_type": "markdown",
      "metadata": {},
      "source": "**Nhận xét**: Số lượng khách hàng có đăng ký tv chiếm phần lớn (58922 người) và số lượng khách hàng không có đăng ký chiếm phần ít hơn có đăng ký (13352 người). \n"
    },
    {
      "cell_type": "code",
      "execution_count": 27,
      "metadata": {
        "autoscroll": "auto"
      },
      "outputs": [],
      "source": "%pyspark\nimport pandas as pd\nimport matplotlib.pyplot as plt\n\n# Đếm số lần xuất hiện của mỗi giá trị\nvalue_counts \u003d data[\u0027is_movie_package_subscriber\u0027].value_counts()\n\n# Vẽ biểu đồ\nax\u003d value_counts.plot(kind\u003d\u0027bar\u0027, color\u003d[\u0027blue\u0027, \u0027green\u0027])\nfor i, v in enumerate(value_counts):\n    ax.text(i, v + 0.1, str(v), ha\u003d\u0027center\u0027)\n\n# Đặt tiêu đề và nhãn trục\nplt.title(\u0027is_movie_package_subscriber Distribution\u0027)\nplt.xlabel(\u0027Values\u0027)\nplt.ylabel(\u0027Count\u0027)\n\n# Hiển thị biểu đồ\nplt.show()\n"
    },
    {
      "cell_type": "markdown",
      "metadata": {},
      "source": "**Nhận xét**: Số lượng khách hàng có đăng ký gói xem phim điện ảnh (24185 người) ít hơn khoảng một nửa số người không đăng ký (48089 người). "
    },
    {
      "cell_type": "markdown",
      "metadata": {},
      "source": "**Nhận xét chung**: is_tv_subscriber và is_movie_package_subscribe đều có khách hàng có đăng ký chiếm đa số. Vì thế 2 dịch vụ này chính là 2 dịch vụ thu hút khách hàng, trong đó is_tv_subscriber có vẻ thu hút được nhiều khách hàng hơn."
    },
    {
      "cell_type": "markdown",
      "metadata": {},
      "source": "**Thuộc tính `subscription_age`**"
    },
    {
      "cell_type": "code",
      "execution_count": 31,
      "metadata": {
        "autoscroll": "auto"
      },
      "outputs": [],
      "source": "%pyspark\nimport matplotlib.pyplot as plt\nimport math\n\n# Số lượng mẫu\nn \u003d len(data)\n\n# Tính toán số lượng bins (c)\nc \u003d 1 + 3.322 * math.log10(n)\n\n# Làm tròn c lên đến số nguyên gần nhất\nc \u003d int(math.ceil(c))\n\nmax_value \u003d data[\u0027subscription_age\u0027].max()\nmin_value \u003d data[\u0027subscription_age\u0027].min()\n\n# Số lượng bins\nnum_bins \u003d c\n\n# Vẽ biểu đồ histogram\nplt.hist(data[\u0027subscription_age\u0027], bins\u003dnum_bins, color\u003d\u0027skyblue\u0027, edgecolor\u003d\u0027black\u0027)\n\n# Đặt nhãn trục x và y\nplt.xlabel(\u0027Values\u0027)\nplt.ylabel(\u0027Count\u0027)\nplt.xlim(min_value, max_value)\n# Tiêu đề của biểu đồ, bao gồm số lượng giá trị null\nplt.title(f\u0027Count the number of values of \"subscription_age\"\u0027)\n\n# Hiển thị lưới\nplt.grid(True)\n\n# Hiển thị biểu đồ\nplt.show()\n"
    },
    {
      "cell_type": "markdown",
      "metadata": {},
      "source": "**Nhận xét**:\n- Khách hàng đăng ký có thời gian sử dụng lâu nhất là 12.8 năm\n- Số lượng khách hàng tỷ lệ nghịch với thời gian sử dụng dịch vụ của nhà cung cấp, khách hàng đăng ký có thời gian sử dụng khoảng 0 đến 2 năm với số lượng khá cao (trên 12000 người) – cao nhất là trên 14000 người, và số lượng giảm dần theo thời gian sử dụng tăng.\n- Tỉ lệ nghịch giữa số lượng khách hàng và thời gian sử dụng dịch vụ có thể có nhiều nguyên nhân:\n    + Chuyển đổi và thử nghiệm: Một số khách hàng mới có thể đăng ký dịch vụ TV để thử nghiệm hoặc do một chương trình khuyến mãi. Tuy nhiên, sau khi thử nghiệm, họ có thể quyết định không tiếp tục sử dụng dịch vụ nếu họ không cảm thấy hài lòng hoặc không cần thiết. Điều này có thể dẫn đến một số lượng lớn khách hàng mới đăng ký nhưng sau đó giảm dần theo thời gian.\n    + Sự đa dạng hóa của nhu cầu: Khi thời gian sử dụng tăng lên, nhu cầu của khách hàng có thể thay đổi. Có thể họ tìm kiếm các dịch vụ hoặc sản phẩm mới phù hợp hơn với nhu cầu hiện tại của họ hoặc đáp ứng các yêu cầu cụ thể hơn.\n    + Sự cạnh tranh và phát triển: Thị trường thường xuyên thay đổi với sự xuất hiện của các đối thủ mới và các lựa chọn thay thế. Khi có sự cạnh tranh mạnh mẽ hoặc các dịch vụ mới xuất hiện, một số khách hàng có thể chuyển sang sử dụng các lựa chọn mới này thay vì tiếp tục sử dụng dịch vụ hiện tại.\n"
    },
    {
      "cell_type": "markdown",
      "metadata": {},
      "source": "**Thuộc tính `bill_avg`**"
    },
    {
      "cell_type": "code",
      "execution_count": 34,
      "metadata": {
        "autoscroll": "auto"
      },
      "outputs": [],
      "source": "%pyspark\nimport matplotlib.pyplot as plt\nimport math\n\n# Số lượng mẫu\nn \u003d len(data)\n\n# Tính toán số lượng bins (c)\nc \u003d 1 + 3.322 * math.log10(n)\n\n# Làm tròn c lên đến số nguyên gần nhất\nc \u003d int(math.ceil(c))\n\nmax_value \u003d data[\u0027bill_avg\u0027].max()\nmin_value \u003d data[\u0027bill_avg\u0027].min()\n\n# Số lượng bins\nnum_bins \u003d c\n\n# Vẽ biểu đồ histogram\nplt.hist(data[\u0027bill_avg\u0027], bins\u003dnum_bins, color\u003d\u0027skyblue\u0027, edgecolor\u003d\u0027black\u0027)\n\n# Đặt nhãn trục x và y\nplt.xlabel(\u0027Values\u0027)\nplt.ylabel(\u0027Count\u0027)\nplt.xlim(min_value, max_value)\n# Tiêu đề của biểu đồ, bao gồm số lượng giá trị null\nplt.title(f\u0027Count the number of values of \"bill_avg\"\u0027)\n\n# Hiển thị lưới\nplt.grid(True)\n\n# Hiển thị biểu đồ\nplt.show()\n"
    },
    {
      "cell_type": "markdown",
      "metadata": {},
      "source": "**Nhận xét**:\n- Hóa đơn trung bình trong 3 tháng nhiều nhất là 406 đô la\n- Hóa đơn trung bình trong 3 tháng qua nằm trong khoảng nhỏ hơn 50 đô la là chủ yếu \n- Số hóa đơn tỷ lệ nghịch số lượng khách hàng,có nghĩa là phần lớn khách hàng thực hiện ít hóa đơn hoặc là sử dụng các dịch vụ ít tốn tiền."
    },
    {
      "cell_type": "markdown",
      "metadata": {},
      "source": "**Thuộc tính `reamining_contract`**"
    },
    {
      "cell_type": "code",
      "execution_count": 37,
      "metadata": {
        "autoscroll": "auto"
      },
      "outputs": [],
      "source": "%pyspark\nimport matplotlib.pyplot as plt\nimport math\n\n# Số lượng mẫu\nn \u003d len(data)\n\n# Tính toán số lượng bins (c)\nc \u003d 1 + 3.322 * math.log10(n)\n\n# Làm tròn c lên đến số nguyên gần nhất\nc \u003d int(math.ceil(c))\n\nmax_value \u003d data[\u0027reamining_contract\u0027].max()\nmin_value \u003d data[\u0027reamining_contract\u0027].min()\n\n# Số lượng bins\nnum_bins \u003d c\n\n# Vẽ biểu đồ histogram\nplt.hist(data[\u0027reamining_contract\u0027], bins\u003dnum_bins, color\u003d\u0027skyblue\u0027, edgecolor\u003d\u0027black\u0027)\n\n# Đặt nhãn trục x và y\nplt.xlabel(\u0027Values\u0027)\nplt.ylabel(\u0027Count\u0027)\nplt.xlim(min_value, max_value)\n# Tiêu đề của biểu đồ, bao gồm số lượng giá trị null\nplt.title(f\u0027Count the number of values of \"reamining_contract\"\u0027)\n\n# Hiển thị lưới\nplt.grid(True)\n\n# Hiển thị biểu đồ\nplt.show()\n"
    },
    {
      "cell_type": "markdown",
      "metadata": {},
      "source": "**Nhận xét**: \n- Thời hạn còn lại của hợp đồng cao nhất là 2.92 năm.\n- Phần lớn khách hàng không có hợp đồng hoặc hết hợp đồng (thời hạn còn lại bằng 0)"
    },
    {
      "cell_type": "markdown",
      "metadata": {},
      "source": "**Thuộc tính `service_failure_count`**"
    },
    {
      "cell_type": "code",
      "execution_count": 40,
      "metadata": {
        "autoscroll": "auto"
      },
      "outputs": [],
      "source": "%pyspark\nimport matplotlib.pyplot as plt\nimport math\n\n# Số lượng mẫu\nn \u003d len(data)\n\n# Tính toán số lượng bins (c)\nc \u003d 1 + 3.322 * math.log10(n)\n\n# Làm tròn c lên đến số nguyên gần nhất\nc \u003d int(math.ceil(c))\n\nmax_value \u003d data[\u0027service_failure_count\u0027].max()\nmin_value \u003d data[\u0027service_failure_count\u0027].min()\n\n# Số lượng bins\nnum_bins \u003d c\n\n# Vẽ biểu đồ histogram\nplt.hist(data[\u0027service_failure_count\u0027], bins\u003dnum_bins, color\u003d\u0027skyblue\u0027, edgecolor\u003d\u0027black\u0027)\n\n# Đặt nhãn trục x và y\nplt.xlabel(\u0027Values\u0027)\nplt.ylabel(\u0027Count\u0027)\nplt.xlim(min_value, max_value)\n# Tiêu đề của biểu đồ, bao gồm số lượng giá trị null\nplt.title(f\u0027Count the number of values of \"service_failure_count\"\u0027)\n\n# Hiển thị lưới\nplt.grid(True)\n\n# Hiển thị biểu đồ\nplt.show()\n"
    },
    {
      "cell_type": "markdown",
      "metadata": {},
      "source": "**Nhận xét**: \n- Số cuộc gọi đến trung tâm vì lỗi dịch vụ trong 3 tháng qua đa số nhỏ hơn 2 cuộc (68072 người).\n- Phần khách hàng còn lại gọi vì lỗi chiếm khá ít (dưới 5000 người) và số cuộc gọi nhiều nhất là 19 cuộc."
    },
    {
      "cell_type": "markdown",
      "metadata": {},
      "source": "**Thuộc tính `download_avg`, `upload_avg` và `download_over_limit`** "
    },
    {
      "cell_type": "code",
      "execution_count": 43,
      "metadata": {
        "autoscroll": "auto"
      },
      "outputs": [],
      "source": "%pyspark\nimport matplotlib.pyplot as plt\nimport math\n\n# Số lượng mẫu\nn \u003d len(data)\n\n# Tính toán số lượng bins (c)\nc \u003d 1 + 3.322 * math.log10(n)\n\n# Làm tròn c lên đến số nguyên gần nhất\nc \u003d int(math.ceil(c))\n\nmax_value \u003d data[\u0027download_avg\u0027].max()\nmin_value \u003d data[\u0027download_avg\u0027].min()\n\n# Số lượng bins\nnum_bins \u003d c\n\n# Vẽ biểu đồ histogram\nplt.hist(data[\u0027download_avg\u0027], bins\u003dnum_bins, color\u003d\u0027skyblue\u0027, edgecolor\u003d\u0027black\u0027)\n\n# Đặt nhãn trục x và y\nplt.xlabel(\u0027Values\u0027)\nplt.ylabel(\u0027Count\u0027)\nplt.xlim(min_value, max_value)\n# Tiêu đề của biểu đồ, bao gồm số lượng giá trị null\nplt.title(f\u0027Count the number of values of \"download_avg\"\u0027)\n\n# Hiển thị lưới\nplt.grid(True)\n\n# Hiển thị biểu đồ\nplt.show()"
    },
    {
      "cell_type": "code",
      "execution_count": 44,
      "metadata": {
        "autoscroll": "auto"
      },
      "outputs": [],
      "source": "%pyspark\nimport matplotlib.pyplot as plt\nimport math\n\n# Số lượng mẫu\nn \u003d len(data)\n\n# Tính toán số lượng bins (c)\nc \u003d 1 + 3.322 * math.log10(n)\n\n# Làm tròn c lên đến số nguyên gần nhất\nc \u003d int(math.ceil(c))\n\nmax_value \u003d data[\u0027upload_avg\u0027].max()\nmin_value \u003d data[\u0027upload_avg\u0027].min()\n\n# Số lượng bins\nnum_bins \u003d c\n\n# Vẽ biểu đồ histogram\nplt.hist(data[\u0027upload_avg\u0027], bins\u003dnum_bins, color\u003d\u0027skyblue\u0027, edgecolor\u003d\u0027black\u0027)\n\n# Đặt nhãn trục x và y\nplt.xlabel(\u0027Values\u0027)\nplt.ylabel(\u0027Count\u0027)\nplt.xlim(min_value, max_value)\n# Tiêu đề của biểu đồ, bao gồm số lượng giá trị null\nplt.title(f\u0027Count the number of values of \"upload_avg\"\u0027)\n\n# Hiển thị lưới\nplt.grid(True)\n"
    },
    {
      "cell_type": "markdown",
      "metadata": {},
      "source": "**Nhận xét**: \n- Đa số khách hàng download trung bình 3 tháng qua cao nhất là 4415.2GB và đa số nhỏ hơn 252 GB (trên 70000 người).\n- Theo bài viết [Average Internet Data Usage](https://headphonesaddict.com/average-internet-data-usage/), người dùng internet trung bình ở Mỹ đã tiêu thụ 154.6 GB dữ liệu cố định và di động mỗi tháng vào năm 2021, có vẻ như có sự khác biệt lớn giữa lượng dữ liệu download trung bình của người dùng ở Mỹ và khách hàng trong dataset. Điều này cho thấy nhu cầu download của khách hàng trong dataset không quá cao.\n- Đa số khách hàng upload trung bình 3 tháng qua cao nhất là 453.3GB và đa số nhỏ hơn 36 GB (trên 70000 người).\n- Tương tự cũng trong bài viết [Average Internet Data Usage](https://headphonesaddict.com/average-internet-data-usage/), người upload internet trung bình ở Mỹ trên 30GB dữ liệu mỗi tháng vào năm 2021. Cũng như download, nhu cầu upload của khách hàng trong dataset không quá cao.\n\n"
    },
    {
      "cell_type": "code",
      "execution_count": 46,
      "metadata": {
        "autoscroll": "auto"
      },
      "outputs": [],
      "source": "%pyspark\nimport matplotlib.pyplot as plt\nimport math\n\n# Số lượng mẫu\nn \u003d len(data)\n\n# Tính toán số lượng bins (c)\nc \u003d 1 + 3.322 * math.log10(n)\n\n# Làm tròn c lên đến số nguyên gần nhất\nc \u003d int(math.ceil(c))\n\nmax_value \u003d data[\u0027download_over_limit\u0027].max()\nmin_value \u003d data[\u0027download_over_limit\u0027].min()\n\n# Số lượng bins\nnum_bins \u003d c\n\n# Vẽ biểu đồ histogram\nplt.hist(data[\u0027download_over_limit\u0027], bins\u003dnum_bins, color\u003d\u0027skyblue\u0027, edgecolor\u003d\u0027black\u0027)\n\n# Đặt nhãn trục x và y\nplt.xlabel(\u0027Values\u0027)\nplt.ylabel(\u0027Count\u0027)\nplt.xlim(min_value, max_value)\n# Tiêu đề của biểu đồ, bao gồm số lượng giá trị null\nplt.title(f\u0027Count the number of values of \"download_over_limit\"\u0027)\n\n# Hiển thị lưới\nplt.grid(True)\n"
    },
    {
      "cell_type": "markdown",
      "metadata": {},
      "source": "**Nhận xét**:\n- Đa số khách hàng không download quá giới hạn trong 9 tháng qua (68373 người)\n- Giá trị download quá giới hạn cao nhất khoảng là 7 GB\n- Download quá giới hạn thông thường sẽ được thông báo trước khi khách hàng chạm mức và quá giới hạn sẽ bị tính phí thêm nên đa phần khách hàng sẽ không sử dụng quá giới hạn quá nhiều\n"
    },
    {
      "cell_type": "markdown",
      "metadata": {},
      "source": "**Thuộc tính `churn`** "
    },
    {
      "cell_type": "code",
      "execution_count": 49,
      "metadata": {
        "autoscroll": "auto"
      },
      "outputs": [],
      "source": "%pyspark\nfrom matplotlib import pyplot as plt\nimport numpy as np\n\n# Assuming data is your DataFrame and n is the total number of samples\nn \u003d len(data)\n\ntrue_count \u003d (data[\"churn\"] \u003d\u003d 1).sum() * 100 / n\nfalse_count \u003d (data[\"churn\"] \u003d\u003d 0).sum() * 100 / n\nlabels \u003d [\u0027Churn \u0027, \u0027Not_churn\u0027]\n\nfig, ax \u003d plt.subplots(figsize\u003d(8, 8))\nax.axis(\u0027equal\u0027)\npie \u003d ax.pie([true_count, false_count], labels\u003dlabels, autopct\u003d\u0027%1.2f%%\u0027, textprops\u003d{\u0027fontsize\u0027: 20})\n\n# Change font size\nplt.setp(pie[1], fontsize\u003d16)\n\n# Add a title\nax.set_title(\u0027Churn Distribution\u0027, fontsize\u003d20)\n\nplt.show()\n"
    },
    {
      "cell_type": "markdown",
      "metadata": {},
      "source": "**Nhận xét**:\n- Churn là thuộc tính mục đích quan trọng trong dataset này nên việc xem xét và đánh giá dữ liệu trên thuộc tính này cũng quan trọng có thể quyết định có thể quyết định khả năng dự đoán của dữ liệu tương lai.\n- Từ dữ liệu trực quan phân bố giá trị của “churn”, ta có thể tính số lượng khách hàng có khả năng churn trong dataset này như sau:\n    + churn \u003d 72274 * 55.41% \u003d 40050 người\n    + not_churn \u003d  72274 * 44.59% \u003d 32224 người \n- Tỷ lệ churn cho ta thấy số lượng khách hàng có khả năng từ bỏ nhà cung cấp dịch vụ Internet chiếm 55.41% tổng số. Tuy nhiên, sự khác biệt giữa tỷ lệ churn và không churn không đáng kể (chênh lệch khoảng 10.82%). Điều này cho thấy rằng bộ dữ liệu không bị thiên vị và phân bố dữ liệu trong thuộc tính mục tiêu này khá cân bằng.\n\n"
    },
    {
      "cell_type": "markdown",
      "metadata": {},
      "source": "## 5. Mối quan hệ của các thuộc tính\n### 5.1. Sự ảnh hưởng và tương quan với thuộc tính mục tiêu`churn`"
    },
    {
      "cell_type": "markdown",
      "metadata": {},
      "source": "**Thuộc tính `is_tv_subscriber`, `is_movie_package_subscribe`, `reamining_contract` và `service_failure_count`** "
    },
    {
      "cell_type": "code",
      "execution_count": 53,
      "metadata": {
        "autoscroll": "auto"
      },
      "outputs": [],
      "source": "%pyspark\nimport seaborn as sns\nimport matplotlib.pyplot as plt\n\n# Tạo đồ thị countplot\nplt.title(\"Count of TV subscribers who churned or didn\u0027t churn\")\nax \u003d sns.countplot(x\u003d\u0027is_tv_subscriber\u0027, hue\u003d\"churn\", data\u003ddata)\n\n# Đặt nhãn cho trục x và y\nax.set(xlabel\u003d\u0027TV Subscriber or Not\u0027, ylabel\u003d\u0027Count\u0027)\n\n# Thêm số lượng trực tiếp lên cột cho churned_data\nfor p in ax.patches[:2]:  # Đối với churned_data\n    ax.annotate(f\u0027{p.get_height()}\u0027, (p.get_x() + p.get_width() / 2., p.get_height()), ha\u003d\u0027center\u0027, va\u003d\u0027center\u0027, xytext\u003d(0, 5), textcoords\u003d\u0027offset points\u0027)\n\n# Thêm số lượng trực tiếp lên cột cho not_churned_data\nfor p in ax.patches[2:]:  # Đối với not_churned_data\n    ax.annotate(f\u0027{p.get_height()}\u0027, (p.get_x() + p.get_width() / 2., p.get_height()), ha\u003d\u0027center\u0027, va\u003d\u0027center\u0027, xytext\u003d(0, 5), textcoords\u003d\u0027offset points\u0027)\n\n# Hiển thị đồ thị\nplt.show()"
    },
    {
      "cell_type": "markdown",
      "metadata": {},
      "source": "**Nhận xét**:\n- Đối với khách hàng đăng ký TV, số lượng not_churn cao hơn số churn.Điều này có thể cho thấy rằng dịch vụ TV có thể đóng vai trò quan trọng trong việc giữ chân khách hàng.\n- Đối với khách hàng không đăng ký TV, số lượng churn lại nhiều hơn so với not_churn.Điều này có thể chỉ ra rằng việc không đăng ký TV có thể là một trong những yếu tố góp phần vào việc khách hàng chọn rời bỏ dịch vụ.\n\n\n"
    },
    {
      "cell_type": "code",
      "execution_count": 55,
      "metadata": {
        "autoscroll": "auto"
      },
      "outputs": [],
      "source": "%pyspark\nimport seaborn as sns\nimport matplotlib.pyplot as plt\n\n# Tạo đồ thị countplot\nplt.title(\"Count of movie subscribers who churned or didn\u0027t churn\")\nax \u003d sns.countplot(x\u003d\u0027is_movie_package_subscriber\u0027, hue\u003d\"churn\", data\u003ddata)\n\n# Đặt nhãn cho trục x và y\nax.set(xlabel\u003d\u0027Movie Subscriber or Not\u0027, ylabel\u003d\u0027Count\u0027)\n\n# Thêm số lượng trực tiếp lên cột cho churned_data\nfor p in ax.patches[:2]:  # Đối với churned_data\n    ax.annotate(f\u0027{p.get_height()}\u0027, (p.get_x() + p.get_width() / 2., p.get_height()), ha\u003d\u0027center\u0027, va\u003d\u0027center\u0027, xytext\u003d(0, 5), textcoords\u003d\u0027offset points\u0027)\n\n# Thêm số lượng trực tiếp lên cột cho not_churned_data\nfor p in ax.patches[2:]:  # Đối với not_churned_data\n    ax.annotate(f\u0027{p.get_height()}\u0027, (p.get_x() + p.get_width() / 2., p.get_height()), ha\u003d\u0027center\u0027, va\u003d\u0027center\u0027, xytext\u003d(0, 5), textcoords\u003d\u0027offset points\u0027)\n\n# Hiển thị đồ thị\nplt.show()\n\n"
    },
    {
      "cell_type": "markdown",
      "metadata": {},
      "source": "**Nhận xét**:\n- Đối với khách hàng đăng ký movie, số khách hàng not_churn cao hơn so với churn. Điều này có thể cho thấy rằng việc đăng ký dịch vụ movie có thể giúp giữ chân khách hàng.\n- Đối với khách hàng không đăng ký movie, số khách hàng not_churn cao hơn so với churn. Điều này cho thấy rằng việc không đăng ký dịch vụ movie không phải lúc nào cũng là nguyên nhân chính gây ra churn.\n\n\n\n"
    },
    {
      "cell_type": "markdown",
      "metadata": {},
      "source": "**Nhận xét chung**: Có sự biến động đáng kể về số lượng churn và not_churn giữa các nhóm khách hàng có đăng ký và không đăng ký TV (đối với `is_tv_subscriber`) hay nhóm khách hàng có đăng ký và không đăng ký movie(đối với `is_movie_package_subscribe`). Điều này cho thấy rằng 2 thuộc tính trên có thể có ảnh hưởng đáng kể đến việc xác định khả năng churn của khách hàng."
    },
    {
      "cell_type": "code",
      "execution_count": 58,
      "metadata": {
        "autoscroll": "auto"
      },
      "outputs": [],
      "source": "%pyspark\nsns.boxplot(x\u003d\"churn\",y\u003d\"reamining_contract\",data\u003ddata)\nplt.title(\"Reamining Contract by Churn\")\nplt.show()"
    },
    {
      "cell_type": "markdown",
      "metadata": {},
      "source": "**Nhận xét**:Ta nhận thấy rằng khách hàng không có hợp đồng thường hay đã hết thời hạn hợp đồng (giá trị bằng 0) là những người có khả năng từ bỏ dịch vụ, bởi vì nếu họ hủy trong khi còn trong hợp đồng, họ phải trả phí phạt. Tuy nhiên, cũng có những trường hợp đặc biệt với khách hàng đã ký hợp đồng nhưng vẫn từ bỏ dịch vụ. Do đó, hợp đồng còn là một yếu tố quan trọng ảnh hưởng đến khả năng từ bỏ dịch vụ(churn).\n"
    },
    {
      "cell_type": "code",
      "execution_count": 60,
      "metadata": {
        "autoscroll": "auto"
      },
      "outputs": [],
      "source": "%pyspark\nsns.boxplot(x\u003d\"churn\",y\u003d\"service_failure_count\",data\u003ddata)\nplt.title(\"Service Failure Count by Churn\")\nplt.show() "
    },
    {
      "cell_type": "markdown",
      "metadata": {},
      "source": "**Nhận xét**: Những khách hàng có số cuộc gọi về lỗi dịch vụ cao thường từ bỏ dịch vụ, nhưng ta cũng có thể thấy rằng những khách hàng có số lượng cuộc gọi về lỗi dịch vụ cao mà không từ bỏ dịch vụ. Mặc dù service_failure_count có vẻ không tương quan với các giá trị churn nhưng trong thực tế thì thuộc tính này có ảnh hưởng nhất định đến quyết định của khách hàng. \n"
    },
    {
      "cell_type": "markdown",
      "metadata": {},
      "source": "**Thuộc tính `subscription_age`**"
    },
    {
      "cell_type": "code",
      "execution_count": 63,
      "metadata": {
        "autoscroll": "auto"
      },
      "outputs": [],
      "source": "%pyspark\nplt.figure(figsize \u003d (10,6))\nsns.histplot(data \u003d data, x\u003d \u0027subscription_age\u0027, kde \u003d True, hue \u003d \u0027churn\u0027)\nplt.title(\u0027Subscription Age vs Count\u0027)\nplt.show()"
    },
    {
      "cell_type": "markdown",
      "metadata": {},
      "source": "**Nhận xét**: Tuổi đăng ký thường nằm trong khoảng từ 0 đến 5 năm thì sự phân bố của giá trị churn cao hơn not_churn nhưng not_churn lại cao hơn churn từ 5 năm trở về sau, và sự phân bố dường như bằng nhau và tiến sát về 0 kể từ 10 năm trở về sau. Ta thấy rằng sự phân bố các giá trị churn thay đổi qua dần qua số tuổi đăng ký nên thuộc tính subscription_age thể hiện sự tác động rõ rệt lên churn. "
    },
    {
      "cell_type": "code",
      "execution_count": 65,
      "metadata": {
        "autoscroll": "auto"
      },
      "outputs": [],
      "source": "%pyspark\nsns.boxplot(x\u003d\"churn\",y\u003d\"subscription_age\",data\u003ddata)\nplt.title(\"Subscription Age by Churn\")\nplt.show() \n"
    },
    {
      "cell_type": "markdown",
      "metadata": {},
      "source": "Chúng ta có thể thấy rằng hầu hết các khách hàng không có khả năng từ bỏ dịch vụ đã có thời gian đăng ký từ 1 đến 4 năm, và có một số trường hợp có thời gian đăng ký cao mà vẫn chưa từ bỏ dịch vụ. Tuy nhiên, đối với những khách hàng đã từ bỏ, thời gian đăng ký thường nằm trong khoảng từ 1.5 đến 3 năm, và có những trường hợp ngoại lệ với khách hàng có thời gian đăng ký cao. Theo như biểu đồ thì hầu hết các khách hàng có xu hướng muốn rời khỏi dịch vụ trước khi đạt đến 3 năm sử dụng."
    },
    {
      "cell_type": "markdown",
      "metadata": {},
      "source": "**Thuộc tính `bill_avg`, `download_avg`, `upload_avg` và `download_over_limit`**"
    },
    {
      "cell_type": "code",
      "execution_count": 68,
      "metadata": {
        "autoscroll": "auto"
      },
      "outputs": [],
      "source": "%pyspark\nsns.boxplot(x\u003d\"churn\",y\u003d\"bill_avg\",data\u003ddata)\nplt.title(\"Bill Average by Churn\")\nplt.show() "
    },
    {
      "cell_type": "code",
      "execution_count": 69,
      "metadata": {
        "autoscroll": "auto"
      },
      "outputs": [],
      "source": "%pyspark\nsns.boxplot(x\u003d\"churn\",y\u003d\"download_avg\",data\u003ddata)\nplt.title(\"Download Average by Churn\")\nplt.show() "
    },
    {
      "cell_type": "code",
      "execution_count": 70,
      "metadata": {
        "autoscroll": "auto"
      },
      "outputs": [],
      "source": "%pyspark\nsns.boxplot(x\u003d\"churn\",y\u003d\"upload_avg\",data\u003ddata)\nplt.title(\"Upload Average by Churn\")\nplt.show() "
    },
    {
      "cell_type": "code",
      "execution_count": 71,
      "metadata": {
        "autoscroll": "auto"
      },
      "outputs": [],
      "source": "%pyspark\nsns.boxplot(x\u003d\"churn\",y\u003d\"download_over_limit\",data\u003ddata)\nplt.title(\"Download Over Limit by Churn\")\nplt.show() "
    },
    {
      "cell_type": "markdown",
      "metadata": {},
      "source": "**Nhận xét**:\n- Ta thấy rằng sự giao động về phân bố không nhiều giữa churn và not_churn ở các thuộc tính churn, đồng nghĩa với việc khả năng từ bỏ dịch vụ của khách hàng không quá bị ảnh từ các thuộc tính trên.\n- download, upload tùy vào nhu cầu sử dụng của khách hàng (ví dụ streaming video, trò chơi trực tuyến hoặc tải xuống tập tin lớn thì download_avg sẽ cao) chứ không ảnh hưởng đến việc từ bỏ dịch vụ của khách hàng.\n- Về download_over_limit, trong thực tế, khách hàng thường rất cẩn thận về việc vượt quá giới hạn tải xuống vì họ thường nhận được cảnh báo khi họ đạt đến giới hạn đó. Ngoài ra, từ biểu đồ, chúng ta không thể thấy một mối quan hệ giữa việc vượt quá giới hạn tải xuống và sự churn.\n- Về Bill Average, trung bình hóa đơn chủ yếu nằm trong khoảng từ 10 đến 40 đô la cho cả khách hàng từ bỏ và không từ bỏ dịch vụ. Nên trong trường hợp này, bill có sự ảnh hưởng không cao đối với churn và not_churn của khách hàng. Tuy nhiên, có những trường hợp ngoại lệ với các khách hàng có trung bình hóa đơn cao là những người không từ bỏ và cũng có các khách hàng có trung bình hóa đơn cao là những người từ bỏ dịch vụ."
    },
    {
      "cell_type": "markdown",
      "metadata": {},
      "source": "### 5.2. Kết luận chung"
    },
    {
      "cell_type": "code",
      "execution_count": 74,
      "metadata": {
        "autoscroll": "auto"
      },
      "outputs": [],
      "source": "%pyspark\nplt.figure(figsize\u003d(20,10))\ndata.corr()[\u0027churn\u0027].sort_values(ascending\u003dFalse).plot(kind\u003d\u0027bar\u0027)\nplt.title(\u0027Correlation of Customer Churn with other variables\u0027, fontsize\u003d17)\nplt.tick_params(labelsize\u003d10)\nplt.show()\n"
    },
    {
      "cell_type": "markdown",
      "metadata": {},
      "source": "Theo sự phân tích về sự ảnh hưởng của các thuộc tính đối với churn cũng như hình ảnh thể hiện sự tương quan của các thuộc tính đối với churn, chúng ta có thể thấy rằng:\n- reamining_contract tác động đến khả năng từ bỏ dịch vụ của khách hàng nhiều nhất.\n- bill_avg, service_failure_count ít tác động đến khả năng từ bỏ dịch vụ của khách hàng nhất. Tuy nhiên, service_failure_count thực tế vẫn có tác động nhất định đến khả năng churn, chỉ là trong trường hợp dataset này thì thuộc tính này ít tác động.\n- Các thuộc tính còn lại có sự tác động nhất định đến churn, tuy nhiên các thuộc tính không ảnh hưởng phân tích ở trên có thể tác động phần nào ở bộ dữ liệu này, nhưng khi chuyển qua bộ dữ liệu khác thì không chắc sẽ đúng."
    },
    {
      "cell_type": "code",
      "execution_count": 76,
      "metadata": {
        "autoscroll": "auto"
      },
      "outputs": [],
      "source": "%pyspark\ncorrelation \u003d data.corr()\nplt.figure(figsize\u003d(15,8))\n\nsns.heatmap(correlation,vmin\u003d-1,vmax\u003d1,annot\u003dTrue)\nplt.show()"
    },
    {
      "cell_type": "markdown",
      "metadata": {},
      "source": "Dựa trên biểu đồ nhiệt, mối tương quan giữa các yếu tố liên quan đến khách hàng dịch vụ Internet trong bộ dữ liệu này được thể hiện như sau:\n- **Mối Tương Quan Mạnh**: Có vẻ như có một mối tương quan mạnh mẽ giữa subscription_age và id, với giá trị là 0.6, cho thấy khách hàng lâu năm có xu hướng có ID thấp hơn (có thể là khách hàng đầu tiên).\n- **Tương Quan Tiêu Cực**: churn có mối tương quan tiêu cực với remaining_contract (-0.68), có nghĩa là khách hàng càng ít thời gian hợp đồng còn lại thì càng có khả năng chấm dứt dịch vụ.\n- **Không Tương Quan**: Các yếu tố như bill_avg, service_failure_count, download_avg, và upload_avg có mối tương quan gần như không đáng kể với churn, cho thấy những yếu tố này không ảnh hưởng nhiều đến quyết định chấm dứt dịch vụ của khách hàng.\n- **Tương Quan Dương**: is_tv_subscriber và movie_package_subscriber có mối tương quan dương với nhau (0.34), có thể hiểu rằng khách hàng đăng ký dịch vụ truyền hình có xu hướng đăng ký gói dịch vụ phim.\n"
    },
    {
      "cell_type": "markdown",
      "metadata": {},
      "source": "### Kết luận thu được sau khi thực hiện việc phân tích dữ liệu\n- Các thuộc tính không có mối quan hệ lớn với tỉ lệ churn bao gồm:\n    + `bill_avg`\n    + `download_avg` \n    + `upload_avg` \n- `service_failure_count` cũng có thể không có quan hệ với tỉ lệ churn trong bộ dữ liệu này nhưng xét thực tế thì thuộc tính này có khả năng gây ảnh đáng kể đến khả năng từ bỏ dịch vụ của khách hàng.\n- Thuộc tính `reamining_contract` ảnh hưởng đến khả năng từ bỏ dịch vụ của khách hàng nhiều nhất. Với khách hàng có ít thời gian hợp đồng thì có khả năng chấm dứt hợp đồng cao.\n- Khách hàng đăng ký truyền hình thường có xu thế sẽ đăng ký luôn dịch vụ phim và những khách hàng có tuổi đăng ký lâu thường là những khách hàng đầu tiên."
    },
    {
      "cell_type": "markdown",
      "metadata": {},
      "source": ""
    },
    {
      "cell_type": "markdown",
      "metadata": {},
      "source": "## Tập dữ liệu thứ hai: Credit Card Churn Prediction"
    },
    {
      "cell_type": "markdown",
      "metadata": {},
      "source": "## 1. Tổng quan về dữ liệu"
    },
    {
      "cell_type": "markdown",
      "metadata": {},
      "source": "**Tập dữ liệu được sử dụng:**\nBộ dữ liệu **Credit Card Churn Prediction** được tạo ra nhằm dùng để phân tích dữ liệu và tìm ra nguyên nhân đằng sau vấn đề suy giảm khách hàng của một ngân hàng thẻ tín dụng tiêu dùng và tận dụng để dự đoán những khác hàng có xu hướng sẽ rời bỏ việc sử dụng dịch vụ của ngân hàng trong tương lại."
    },
    {
      "cell_type": "markdown",
      "metadata": {},
      "source": "## 2. Khám phá dữ liệu"
    },
    {
      "cell_type": "markdown",
      "metadata": {},
      "source": "### 2.1. Tiền xử lý dữ liệu"
    },
    {
      "cell_type": "markdown",
      "metadata": {},
      "source": "### 2.1.1. Cài đặt thư viện, tải tập dữ liệu, và xem các thông tin cơ bản"
    },
    {
      "cell_type": "code",
      "execution_count": 86,
      "metadata": {
        "autoscroll": "auto"
      },
      "outputs": [],
      "source": "%pyspark\nimport numpy as np\nimport matplotlib.pyplot as plt\nimport pandas as pd\nimport seaborn as sns\nfrom scipy import stats"
    },
    {
      "cell_type": "code",
      "execution_count": 87,
      "metadata": {
        "autoscroll": "auto"
      },
      "outputs": [],
      "source": "%pyspark\ncre_data \u003d pd.read_csv(\u0027https://drive.google.com/uc?export\u003ddownload\u0026id\u003d1kRu56W4-NXZniy1cjZ7hKPFdn8sL90m4\u0027)"
    },
    {
      "cell_type": "code",
      "execution_count": 88,
      "metadata": {
        "autoscroll": "auto"
      },
      "outputs": [],
      "source": "%pyspark \nprint(\u0027Kích thước của dữ liệu: \u0027, cre_data.shape)"
    },
    {
      "cell_type": "markdown",
      "metadata": {},
      "source": "Tập dữ liệu **Credit Card Churn Prediction\" có 10127 bản ghi và 23 cột thuộc tính "
    },
    {
      "cell_type": "markdown",
      "metadata": {},
      "source": "### 2.1.2. Làm sạch dữ liệu"
    },
    {
      "cell_type": "markdown",
      "metadata": {},
      "source": "**Xóa bỏ 2 cột dữ liệu cuối do đây là kết quả của Phân loại Naive Bayes được thực hiện bởi người đăng tải bảng dữ liệu**"
    },
    {
      "cell_type": "code",
      "execution_count": 92,
      "metadata": {
        "autoscroll": "auto"
      },
      "outputs": [],
      "source": "%pyspark\n\ncre_data.drop(columns\u003d[\u0027Naive_Bayes_Classifier_Attrition_Flag_Card_Category_Contacts_Count_12_mon_Dependent_count_Education_Level_Months_Inactive_12_mon_1\u0027, \u0027Naive_Bayes_Classifier_Attrition_Flag_Card_Category_Contacts_Count_12_mon_Dependent_count_Education_Level_Months_Inactive_12_mon_2\u0027], inplace\u003dTrue)\nprint(\u0027Kích thước dữ liệu sau khi xóa: \u0027, cre_data.shape)"
    },
    {
      "cell_type": "markdown",
      "metadata": {},
      "source": "**Loại dữ liệu và các dữ liệu bị thiếu**"
    },
    {
      "cell_type": "code",
      "execution_count": 94,
      "metadata": {
        "autoscroll": "auto"
      },
      "outputs": [],
      "source": "%pyspark\ncre_data.info()"
    },
    {
      "cell_type": "markdown",
      "metadata": {},
      "source": "**Kết luận**: Dựa vào thông tin trên, trong tập dữ liệu không có dữ liệu bị thiếu và mọi dữ liệu là chính xác"
    },
    {
      "cell_type": "markdown",
      "metadata": {},
      "source": "**Dữ liệu bị trùng lặp**"
    },
    {
      "cell_type": "code",
      "execution_count": 97,
      "metadata": {
        "autoscroll": "auto"
      },
      "outputs": [],
      "source": "%pyspark\nprint(\u0027Số lượng các giá trị trùng lặp: \u0027, cre_data.duplicated().sum())"
    },
    {
      "cell_type": "markdown",
      "metadata": {},
      "source": "**Kết luận**: Không có giá trị trùng lặp"
    },
    {
      "cell_type": "markdown",
      "metadata": {},
      "source": "### 2.2. Phân tích sơ lược về tập dữ liệu"
    },
    {
      "cell_type": "markdown",
      "metadata": {},
      "source": "### 2.2.1. Số lượng các giá trị unique của các thuộc tính định lượng (*Numerical columns*)"
    },
    {
      "cell_type": "code",
      "execution_count": 101,
      "metadata": {
        "autoscroll": "auto"
      },
      "outputs": [],
      "source": "%pyspark\ncre_data.select_dtypes(exclude\u003d\u0027object\u0027).nunique()"
    },
    {
      "cell_type": "markdown",
      "metadata": {},
      "source": "### 2.2.2. Số lượng các giá trị unique của các thuộc tính phân loại (*Categorical columns*)"
    },
    {
      "cell_type": "code",
      "execution_count": 103,
      "metadata": {
        "autoscroll": "auto"
      },
      "outputs": [],
      "source": "%pyspark\ncre_data.select_dtypes(include\u003d\u0027object\u0027).nunique()"
    },
    {
      "cell_type": "markdown",
      "metadata": {},
      "source": "### 2.2.3. Giải thích các thuộc tính\n- `CLIENTNUM`: giá trị độc nhất biểu thị số id của khách hàng, bao gồm một chuỗi 9 chữ số và có 10127 giá trị.\n- `Attrition_Flag`: giá trị thể hiện trạng thái hiện tại của khách hàng bao gồm hai giá trị: 1 là **Existing Customer** (những khác hàng hiện tại và **Attrited Customer** (những khác hàng đã từ bỏ dịch vụ).\n- `Customer_Age`: Giá trị thể hiện độ tuổi của khách hàng với tuổi nhỏ nhất là 26 và lớn nhất là 73.\n- `Gender`: giá trị thể hiện giới tính, gồm **F** cho Female (nữ) và **M** cho Male (nam).\n- `Dependent_count`: thể hiện số người phụ thuộc có liên kết với khách hàng.\n- `Education_Level`: Thể hiện trình độ học vấn của khách hàng, gồm các giá trị như: **High School**, **Graduate**, **Uneducated**, **College**, **Post-graduate**, **Doctorate** and **Unknown**.\n- `Marital_Status`: Thể hiện tình trạng hôn nhân của khách hàng, bao gồm các giá trị: **Married**, **Single**, **Divorced**, **Unknown**.\n- `Income_Category`: Thể hiện mức thu nhập hàng năm của người giữ tài khoản: **Less than $40K**, **$40k-$60K**, **$60K-$80K**, **$80K-$120K**, **$120+**, **Unknown**.\n- `Card_Category`: Thể hiện loại thẻ mà khách hàng đang sử dụng, bao gồm các giá trị: **Blue**, **Gold**, **Silver** and **Platinum**.\n- `Months_on_book`: Thể hiện số tháng (kỳ) mà chủ tài khoản đã trở thành khách hàng của ngân hàng.\n- `Total_Relationship_Count`: Thể hiện số sản phẩm mà khách hàng đang sở hữu.\n- `Months_Inactive_12_mon`: Thể hiện số tháng không hoạt động của khách hàng trong 12 tháng gần nhất.\n- `Contacts_Count_12_mon`: Thể hiện số lần khách hàng thực hiện liên lạc với ngân hàng trong 12 tháng gần nhất.\n- `Credit_Limit`: Thể hiện giới hạn tín dụng của thẻ tín dụng mà khách hàng đang sở hữu.\n- `Total_Revolving_Bal`: Thể hiện tổng số tiền đã chi tiêu bằng thẻ tín dụng mà chưa được thanh toán vào cuối chu kỳ thanh toán.\n- `Avg_Open_To_Buy`: Thể hiện số tiền tín dụng người dùng có thể sử dụng để không vượt quá giới hạn tín dụng đã được xác định (trung bình trong 12 tháng gần nhất).\n- `Total_Amt_Chng_Q4_Q1`: Thể hiện thay đổi trong tổng số tiền giao dịch (từ quý 4 đến quý 1).\n- `Total_Trans_Amt`: Thể hiện tổng số tiền đã giao dịch trong khoảng 12 tháng gần nhất.\n- `Total_Trans_Ct`: Thể hiện tổng số lượng đã giao dịch trong khoảng 12 tháng gần nhất.\n- `Total_Ct_Chng_Q4_Q1`: Thể hiện tổng thay đổi trong số lượng giao dịch từ quý 4 đến quý 1.\n- `Avg_Utilization_Ratio`: Thể hiện tỉ lệ sử dụng thẻ trung bình."
    },
    {
      "cell_type": "markdown",
      "metadata": {},
      "source": "### 2.2.4. Tóm tắt giá trị thông kê của các thuộc tính định lượng\n"
    },
    {
      "cell_type": "code",
      "execution_count": 106,
      "metadata": {
        "autoscroll": "auto"
      },
      "outputs": [],
      "source": "%pyspark\ntsv \u003d cre_data.describe().T.to_csv(sep\u003d\u0027\\t\u0027, index\u003dTrue)\nprint(f\u0027%table {tsv}\u0027)"
    },
    {
      "cell_type": "markdown",
      "metadata": {},
      "source": "**Nhận xét về bẳng tóm tắt thống kê trên**\n- Giá trị tuổi của khách hàn có mean là 46.3 và median (cột 50%) là 46, tức là hầu hết các khách hàng của ngân hàng có độ tuổi tầm 45\n- Giá trị số lượng phụ thuộc có mean là 2.34 và median là 2.0, cũng tức là hầu hết khách hàng có tầm 2 người phụ thuộc liên kết với tài khoản đó.\n- Các giá trị `Months_on_book`, `Total_Relationship_Count`, và một vài giá trị khác cũng có giá trị mean và median tương đối bằng nhau.\n- Với giá trị `Credit_limit`, ta nhận thấy có sự chênh lệch lớn giữa giá trị mean(\u003d~8632) và median(\u003d4549), điều này cho ta thấy rằng trong cột thuộc tính sẽ có thể xuất hiện các ngoại lệ (outliers) và đồ thị của thuộc tính có thể bị lệch về bên trái, đặc biệt khi mà chênh lệch giữa giá trị min(\u003d1,434.3) và max(\u003d34,516) là rất lớn.\n- Một vài thuộc tính khác như `Total_Trans_Amt`, `Avg_Utilization_Ratio`,... cũng có chênh lệch giữa mean và median."
    },
    {
      "cell_type": "markdown",
      "metadata": {},
      "source": "## 3. Phân tích khai phá dữ liệu (EDA)"
    },
    {
      "cell_type": "markdown",
      "metadata": {},
      "source": "### 3.1. Xử lý trước khi phân tích khai phá dữ liệu"
    },
    {
      "cell_type": "code",
      "execution_count": 110,
      "metadata": {
        "autoscroll": "auto"
      },
      "outputs": [],
      "source": "%pyspark\n#Xóa cột id\ncre_data.drop(columns\u003d[\u0027CLIENTNUM\u0027], inplace\u003dTrue)"
    },
    {
      "cell_type": "code",
      "execution_count": 111,
      "metadata": {
        "autoscroll": "auto"
      },
      "outputs": [],
      "source": "%pyspark\n#Xóa khoảng trống giữa các ký tự và thay đổi chữ hoa thành chữ thường\ncre_data.columns \u003d [i.replace(\u0027 \u0027,\u0027_\u0027).lower() for i in cre_data.columns]"
    },
    {
      "cell_type": "code",
      "execution_count": 112,
      "metadata": {
        "autoscroll": "auto"
      },
      "outputs": [],
      "source": "%pyspark\ncre_data.info()"
    },
    {
      "cell_type": "markdown",
      "metadata": {},
      "source": "### 3.2. Phân tích khai phá dữ liệu\nỞ phân này, chúng ta sẽ cùng nhau phân tích các trường thuộc tính trong tập dữ liệu. Chúng ta sẽ phần tích thành hai phần. Phần đầu tiên sẽ phân tích các thuộc tính định lượng (**Numerical columns**), cụ thể là sẽ xem xét sự phân bổ của dữ liệu và các ngoại lệ cũng như sự ảnh hưởng của những ngoại lệ ấy đến việc phân tích và dự đoán dữ liệu. Phần thứ hai sẽ phân tích các thuộc tính phân loại (**Categorical columns**) bao gồm sự phân bổ dữ liệu và mối tương quan của những thuộc tính này đối với thuộc tính đích của bài toán (**attrition_flag**)."
    },
    {
      "cell_type": "markdown",
      "metadata": {},
      "source": "### 3.2.1. Dữ liệu về các giá trị định lượng\n### Độ tuổi của khách hàng (`customer_age`)"
    },
    {
      "cell_type": "code",
      "execution_count": 115,
      "metadata": {
        "autoscroll": "auto"
      },
      "outputs": [],
      "source": "%pyspark\r\nfig, axes \u003d plt.subplots(1,2,figsize\u003d(14, 6))\r\nfig.suptitle(\u0027Độ tuổi của khách hàng\u0027, fontsize\u003d20)\r\naxes[0]\u003dsns.histplot(cre_data, x\u003d\u0027customer_age\u0027, kde\u003dTrue, color\u003d \u0027blue\u0027, ax\u003daxes[0])\r\naxes[1]\u003dsns.boxplot(x\u003dcre_data[\u0027customer_age\u0027], color\u003d\u0027#FAF92F\u0027,showmeans\u003dTrue, ax\u003daxes[1])\r\naxes[1].set(xlabel\u003dNone)\r\n\r\nfontsize\u003d15\r\naxes[0].set_title(\"Sự phân bố\",fontdict\u003d{\u0027fontsize\u0027: fontsize})\r\naxes[1].set_title(\"Xác định ngoại lệ\",fontdict\u003d{\u0027fontsize\u0027: fontsize})\r\n\r\nplt.tight_layout()\r\nplt.show()"
    },
    {
      "cell_type": "markdown",
      "metadata": {},
      "source": "**Nhận xét**: Ta thấy rằng giá trị của thuộc tính customer_age tuân theo phân phối chuẩn và những khách hàng có độ tuổi lớn hơn 70 tuổi được đánh nhãn là những ngoại lệ của thuộc tính. Tuy nhiên, ở rất nhiều quốc gia, những khách hàng ở độ tuổi này sỡ hữu và sử dụng thẻ tín dụng là bình thường. Vậy nên trong bài phân tích này những giá trị bất thường về tuổi tác này có thể không được xem là một ngoại lệ."
    },
    {
      "cell_type": "markdown",
      "metadata": {},
      "source": "### Phân tích hành vi của những khách hàng trên 70 tuổi đối với các thuộc tính phân loại\nTrong phần này, ta sẽ phân tích số lượng của những khách hàng lớn tuổi trong các thuộc tính phân loại để xem xét những hành vi của tệp khách hàng này."
    },
    {
      "cell_type": "code",
      "execution_count": 118,
      "metadata": {
        "autoscroll": "auto"
      },
      "outputs": [],
      "source": "%pyspark\nfig, axes \u003d plt.subplots(3,2,figsize\u003d(14, 9))\nfig.suptitle(\u0027Hành vi của những khách hàng lớn tuổi\u0027, fontsize\u003d20)\n\nax1 \u003d sns.countplot(y\u003dcre_data[cre_data.customer_age \u003e\u003d 70][\u0027attrition_flag\u0027], color\u003d \u0027#7A7154\u0027, ax\u003daxes[0, 0])\nax1.set(xlabel\u003dNone)\nax1.set(ylabel\u003dNone)\nax2 \u003d sns.countplot(y\u003dcre_data[cre_data.customer_age \u003e\u003d 70][\u0027gender\u0027], color\u003d \u0027#FAC82F\u0027, ax\u003daxes[0, 1])\nax2.set(xlabel\u003dNone)\nax2.set(ylabel\u003dNone)\nax3 \u003d sns.countplot(y\u003dcre_data[cre_data.customer_age \u003e\u003d 70][\u0027education_level\u0027], color\u003d \u0027#7A7154\u0027, ax\u003daxes[1, 0])\nax3.set(xlabel\u003dNone)\nax3.set(ylabel\u003dNone)\nax4 \u003d sns.countplot(y\u003dcre_data[cre_data.customer_age \u003e\u003d 70][\u0027card_category\u0027], color\u003d \u0027#FAC82F\u0027, ax\u003daxes[1, 1])\nax4.set(xlabel\u003dNone)\nax4.set(ylabel\u003dNone)\nax5 \u003d sns.countplot(y\u003dcre_data[cre_data.customer_age \u003e\u003d 70][\u0027income_category\u0027], color\u003d \u0027#7A7154\u0027, ax\u003daxes[2, 0])\nax5.set(xlabel\u003dNone)\nax5.set(ylabel\u003dNone)\nax6 \u003d sns.countplot(y\u003dcre_data[cre_data.customer_age \u003e\u003d 70][\u0027marital_status\u0027], color\u003d \u0027#FAC82F\u0027, ax\u003daxes[2, 1])\nax6.set(xlabel\u003dNone)\nax6.set(ylabel\u003dNone)\n\nfontsize\u003d15\nax1.set_title(\"Churn\",fontdict\u003d{\u0027fontsize\u0027: fontsize})\nax2.set_title(\"Gender\",fontdict\u003d{\u0027fontsize\u0027: fontsize})\nax3.set_title(\"Educational Level\",fontdict\u003d{\u0027fontsize\u0027: fontsize})\nax4.set_title(\"Card Category \",fontdict\u003d{\u0027fontsize\u0027: fontsize})\nax5.set_title(\"Income Category\",fontdict\u003d{\u0027fontsize\u0027: fontsize})\nax6.set_title(\"Marital Status\",fontdict\u003d{\u0027fontsize\u0027: fontsize})\n\nplt.tight_layout()\nplt.show()"
    },
    {
      "cell_type": "markdown",
      "metadata": {},
      "source": "**Nhận xét**: Không thấy có sự bất thường trong hành vi của những khách hàng lớn tuổi."
    },
    {
      "cell_type": "markdown",
      "metadata": {},
      "source": "### Số lượng phụ thuộc (`dependent_count`)"
    },
    {
      "cell_type": "code",
      "execution_count": 121,
      "metadata": {
        "autoscroll": "auto"
      },
      "outputs": [],
      "source": "%pyspark\r\nfig, axes \u003d plt.subplots(1,2,figsize\u003d(14, 6))\r\nfig.suptitle(\u0027Số lượng phụ thuộc\u0027, fontsize\u003d20)\r\naxes[0]\u003dsns.histplot(cre_data, x\u003d\u0027dependent_count\u0027, kde\u003dTrue, color\u003d \u0027blue\u0027, ax\u003daxes[0])\r\naxes[1]\u003dsns.boxplot(x\u003dcre_data[\u0027dependent_count\u0027], color\u003d\u0027#FAF92F\u0027,showmeans\u003dTrue, ax\u003daxes[1])\r\naxes[1].set(xlabel\u003dNone)\r\n\r\nfontsize\u003d15\r\naxes[0].set_title(\"Sự phân bố\",fontdict\u003d{\u0027fontsize\u0027: fontsize})\r\naxes[1].set_title(\"Xác định ngoại lệ\",fontdict\u003d{\u0027fontsize\u0027: fontsize})\r\n\r\nplt.tight_layout()\r\nplt.show()"
    },
    {
      "cell_type": "markdown",
      "metadata": {},
      "source": "**Nhận xét**: Theo kết quả trên, ta nhận thấy:\n- Đồ thị phân bố có xu hướng lệch dương, điều này cho thấy hầu hết các tài khoản có sự phụ thuộc nhiều hơn các tài khoản không có lượng phụ thuộc.\n- Hầu hết các khách hàng đều có số người phụ thuộc vài tài khoản ấy vào khoảng 2-3 người.\n- Không có các giá trị ngoại lệ."
    },
    {
      "cell_type": "markdown",
      "metadata": {},
      "source": "### Số tháng gắn bó với ngân hàng (`months_on_book`)"
    },
    {
      "cell_type": "code",
      "execution_count": 124,
      "metadata": {
        "autoscroll": "auto"
      },
      "outputs": [],
      "source": "%pyspark \nfig, axes \u003d plt.subplots(1,2,figsize\u003d(14, 6))\nfig.suptitle(\u0027Sự phân bố của số tháng mà khách hàng đã gắn bó với ngân hàng\u0027, fontsize\u003d20)\naxes[0]\u003dsns.histplot(cre_data, x\u003d\u0027months_on_book\u0027, kde\u003dTrue, color\u003d \u0027blue\u0027, ax\u003daxes[0])\naxes[1]\u003dsns.boxplot(x\u003dcre_data[\u0027months_on_book\u0027], color\u003d\u0027#FAF92F\u0027,showmeans\u003dTrue, ax\u003daxes[1])\naxes[1].set(xlabel\u003dNone)\n\nfontsize\u003d15\naxes[0].set_title(\"Sự phân bố\",fontdict\u003d{\u0027fontsize\u0027: fontsize})\naxes[1].set_title(\"Xác định ngoại lệ\",fontdict\u003d{\u0027fontsize\u0027: fontsize})\n\nplt.tight_layout()\nplt.show()"
    },
    {
      "cell_type": "markdown",
      "metadata": {},
      "source": "**Nhận xét**: Dựa trên phần trực quan hóa dữ liệu trên, ta có một số nhận xét như sau:\n- Quan sát biểu đồ historgram, ta nhận thấy dữ liệu dường như có phân phối chuẩn. Trong khi đó ở biểu đồ boxplot, ta nhận thấy ràng các khách hàng gắn bó với ngân hàng từ 0-18 tháng và những khách háng có trên 55 tháng gắn bó với ngân hàng được xem là những ngoại lệ.\n- Tuy nhiên, trên thực tế, ngân hàng có thể có những khách hàng mới hoặc những khách hàng gắn bó rất lâu, thế nên, những dữ liệu này sẽ không được xem là những ngoại lệ. Việc biểu đồ boxplot phân loại các dữ liệu này là những dữ liệu ngoại lệ là do những khách hàng có số tháng gắn bó với ngân hàng là 36 tháng có số lượng nhiều hơn rất nhiều so với những điểm dữ liệu khác.\n- Như đã nói trước đó, dữ liệu về months_on_book dường như tuân theo phân phối chuẩn do các giá trị bên trái và bên phải của trung vị dường như bằng nhau. Tuy nhiên, số liệu này có thể bị ảnh hưởng do có đến tận 3500 khách hàng có 36 tháng gắn bó với ngân hàng. Điều này nảy sinh một số nghi ngờ đối với sự phân phối của dữ liệu. Để làm sáng tỏ sự nghi ngờ đó, ta sẽ kiểm định giả thuyết với giả thuyết ban đầu là dữ iệu có phân phối chuẩn.\n- Và để thực hiện việc kiểm định giả thuyết trên cho tập dữ liệu, tôi sẽ sử dụng kiểm định Shapiro-Wilk cho tập dữ liệu trên. Với kiểm định Shapiro-Wilk, ta sẽ tính toán các giá trị stat và p, sau đó dùng giá trị p so sánh với một giá trị ngưỡng alpha. Nếu giá trị p lớn hơn alpha, ta sẽ chấp nhận giả thuyết ban đầu. Nếu giá trị p thấy hơn alpha, ta sẽ loại bỏ giả thuyết ban đầu, và lúc này phân bố của dữ liệu sẽ không là phân bố chuẩn"
    },
    {
      "cell_type": "markdown",
      "metadata": {},
      "source": "#### Kiểm định phân phối chuẩn cho `months_on_book`"
    },
    {
      "cell_type": "code",
      "execution_count": 127,
      "metadata": {
        "autoscroll": "auto"
      },
      "outputs": [],
      "source": "%pyspark\nstat, p \u003d stats.shapiro(cre_data[\u0027months_on_book\u0027])\nprint(\u0027stat: \u0027, stat)\nprint(\u0027p: \u0027, p)\nif p \u003e 0.05:\n    print(\u0027Không đủ kết luận để loại bỏ giả thuyết ban đầu. Phân phối của dữ liệu là phân phối chuẩn\u0027)\nelse:\n    print(\u0027Loại bỏ giả thuyết null. Phân phối của dữ liệu không là phân phối chuẩn\u0027)"
    },
    {
      "cell_type": "markdown",
      "metadata": {},
      "source": "**Với kiểm định Shapiro-Wilk**: Ta thấy giá trị p \u003d 1.8911096747914394e-37 \u003c 0.05\nVậy nghi ngờ về phân phối chuẩn của thuộc tính trên là chính xác. Phân phối của months_on_book không phải là phân phối chuẩn"
    },
    {
      "cell_type": "markdown",
      "metadata": {},
      "source": "### Phân tích những hành vi của khách hàng mới (thời gian gán bó dưới 18 tháng) và khách hàng lâu năm (thời gian gắn bó trên 55 tháng).\n"
    },
    {
      "cell_type": "code",
      "execution_count": 130,
      "metadata": {
        "autoscroll": "auto"
      },
      "outputs": [],
      "source": "%pyspark\nfig, axes \u003d plt.subplots(3,2,figsize\u003d(14, 9))\nfig.suptitle(\u0027Hành vi của những khách hàng mới\u0027, fontsize\u003d20)\n\nax1\u003dsns.countplot(y\u003dcre_data[(cre_data.months_on_book \u003c\u003d 18)][\u0027attrition_flag\u0027], color\u003d \u0027#7A7154\u0027, order\u003dcre_data[(cre_data.months_on_book \u003c\u003d 18)][\u0027attrition_flag\u0027].value_counts().index,ax\u003daxes[0,0])\nax1.set(xlabel\u003dNone)\nax1.set(ylabel\u003dNone)\nax2\u003dsns.countplot(y\u003dcre_data[(cre_data.months_on_book \u003c\u003d 18)][\u0027gender\u0027], color\u003d \u0027#FAC82F\u0027, order\u003dcre_data[(cre_data.months_on_book \u003c\u003d 18)][\u0027gender\u0027].value_counts().index,ax\u003daxes[0,1])\nax2.set(xlabel\u003dNone)\nax2.set(ylabel\u003dNone)\nax3\u003dsns.countplot(y\u003dcre_data[(cre_data.months_on_book \u003c\u003d 18)][\u0027education_level\u0027], color\u003d \u0027#7A7154\u0027, order\u003dcre_data[(cre_data.months_on_book \u003c\u003d 18)][\u0027education_level\u0027].value_counts().index,ax\u003daxes[1,0])\nax3.set(xlabel\u003dNone)\nax3.set(ylabel\u003dNone)\nax4\u003dsns.countplot(y\u003dcre_data[(cre_data.months_on_book \u003c\u003d 18)][\u0027card_category\u0027], color\u003d \u0027#FAC82F\u0027, order\u003dcre_data[(cre_data.months_on_book \u003c\u003d 18)][\u0027card_category\u0027].value_counts().index,ax\u003daxes[1,1])\nax4.set(xlabel\u003dNone)\nax4.set(ylabel\u003dNone)\nax5\u003dsns.countplot(y\u003dcre_data[(cre_data.months_on_book \u003c\u003d 18)][\u0027income_category\u0027], color\u003d \u0027#7A7154\u0027, order\u003dcre_data[(cre_data.months_on_book \u003c\u003d 18)][\u0027income_category\u0027].value_counts().index,ax\u003daxes[2,0])\nax5.set(xlabel\u003dNone)\nax5.set(ylabel\u003dNone)\nax6\u003dsns.countplot(y\u003dcre_data[(cre_data.months_on_book \u003c\u003d 18)][\u0027marital_status\u0027], color\u003d \u0027#FAC82F\u0027, order\u003dcre_data[(cre_data.months_on_book \u003c\u003d 18)][\u0027marital_status\u0027].value_counts().index,ax\u003daxes[2,1])\nax6.set(xlabel\u003dNone)\nax6.set(ylabel\u003dNone)\n\nfontsize\u003d15\nax1.set_title(\"Churn\",fontdict\u003d{\u0027fontsize\u0027: fontsize})\nax2.set_title(\"Gender\",fontdict\u003d{\u0027fontsize\u0027: fontsize})\nax3.set_title(\"Educational Level\",fontdict\u003d{\u0027fontsize\u0027: fontsize})\nax4.set_title(\"Card Category \",fontdict\u003d{\u0027fontsize\u0027: fontsize})\nax5.set_title(\"Income Category\",fontdict\u003d{\u0027fontsize\u0027: fontsize})\nax6.set_title(\"Marital Status\",fontdict\u003d{\u0027fontsize\u0027: fontsize})\n\nplt.tight_layout()\nplt.show()"
    },
    {
      "cell_type": "code",
      "execution_count": 131,
      "metadata": {
        "autoscroll": "auto"
      },
      "outputs": [],
      "source": "%pyspark\nfig, axes \u003d plt.subplots(3,2,figsize\u003d(14, 9))\nfig.suptitle(\u0027Hành vi của những khách hàng lâu năm\u0027, fontsize\u003d20)\n\nax1\u003dsns.countplot(y\u003dcre_data[(cre_data.months_on_book \u003e\u003d 55)][\u0027attrition_flag\u0027], color\u003d \u0027#7A7154\u0027, order\u003dcre_data[(cre_data.months_on_book \u003e\u003d 55)][\u0027attrition_flag\u0027].value_counts().index,ax\u003daxes[0,0])\nax1.set(xlabel\u003dNone)\nax1.set(ylabel\u003dNone)\nax2\u003dsns.countplot(y\u003dcre_data[(cre_data.months_on_book \u003e\u003d 55)][\u0027gender\u0027], color\u003d \u0027#FAC82F\u0027, order\u003dcre_data[(cre_data.months_on_book \u003e\u003d 55)][\u0027gender\u0027].value_counts().index,ax\u003daxes[0,1])\nax2.set(xlabel\u003dNone)\nax2.set(ylabel\u003dNone)\nax3\u003dsns.countplot(y\u003dcre_data[(cre_data.months_on_book \u003e\u003d 55)][\u0027education_level\u0027], color\u003d \u0027#7A7154\u0027, order\u003dcre_data[(cre_data.months_on_book \u003e\u003d 55)][\u0027education_level\u0027].value_counts().index,ax\u003daxes[1,0])\nax3.set(xlabel\u003dNone)\nax3.set(ylabel\u003dNone)\nax4\u003dsns.countplot(y\u003dcre_data[(cre_data.months_on_book \u003e\u003d 55)][\u0027card_category\u0027], color\u003d \u0027#FAC82F\u0027, order\u003dcre_data[(cre_data.months_on_book \u003e\u003d 55)][\u0027card_category\u0027].value_counts().index,ax\u003daxes[1,1])\nax4.set(xlabel\u003dNone)\nax4.set(ylabel\u003dNone)\nax5\u003dsns.countplot(y\u003dcre_data[(cre_data.months_on_book \u003e\u003d 55)][\u0027income_category\u0027], color\u003d \u0027#7A7154\u0027, order\u003dcre_data[(cre_data.months_on_book \u003e\u003d 55)][\u0027income_category\u0027].value_counts().index,ax\u003daxes[2,0])\nax5.set(xlabel\u003dNone)\nax5.set(ylabel\u003dNone)\nax6\u003dsns.countplot(y\u003dcre_data[(cre_data.months_on_book \u003e\u003d 55)][\u0027marital_status\u0027], color\u003d \u0027#FAC82F\u0027, order\u003dcre_data[(cre_data.months_on_book \u003e\u003d 55)][\u0027marital_status\u0027].value_counts().index,ax\u003daxes[2,1])\nax6.set(xlabel\u003dNone)\nax6.set(ylabel\u003dNone)\n\nfontsize\u003d15\nax1.set_title(\"Churn\",fontdict\u003d{\u0027fontsize\u0027: fontsize})\nax2.set_title(\"Gender\",fontdict\u003d{\u0027fontsize\u0027: fontsize})\nax3.set_title(\"Educational Level\",fontdict\u003d{\u0027fontsize\u0027: fontsize})\nax4.set_title(\"Card Category \",fontdict\u003d{\u0027fontsize\u0027: fontsize})\nax5.set_title(\"Income Category\",fontdict\u003d{\u0027fontsize\u0027: fontsize})\nax6.set_title(\"Marital Status\",fontdict\u003d{\u0027fontsize\u0027: fontsize})\n\nplt.tight_layout()\nplt.show()"
    },
    {
      "cell_type": "markdown",
      "metadata": {},
      "source": "**Nhận xét**: Nhìn chung ta thấy sự phân bổ của hai tệp khách hàng này tương đối giống nhau và chỉ một phần của những tệp khách hàng này đã rời bỏ ngân hàng."
    },
    {
      "cell_type": "markdown",
      "metadata": {},
      "source": "### Số lượng sản phẩm từ ngân hàng mà khách hàng sở hữu (`total_relationship_count`)"
    },
    {
      "cell_type": "code",
      "execution_count": 134,
      "metadata": {
        "autoscroll": "auto"
      },
      "outputs": [],
      "source": "%pyspark \nfig, axes \u003d plt.subplots(1,2,figsize\u003d(14, 6))\nfig.suptitle(\u0027Sự phân bố của số số lượng sản phẩm từ ngân hàng mà khách hàng sử hữu\u0027, fontsize\u003d20)\naxes[0]\u003dsns.histplot(cre_data, x\u003d\u0027total_relationship_count\u0027, kde\u003dTrue, color\u003d \u0027blue\u0027, ax\u003daxes[0])\naxes[1]\u003dsns.boxplot(x\u003dcre_data[\u0027total_relationship_count\u0027], color\u003d\u0027#FAF92F\u0027,showmeans\u003dTrue, ax\u003daxes[1])\naxes[1].set(xlabel\u003dNone)\n\nfontsize\u003d15\naxes[0].set_title(\"Sự phân bố\",fontdict\u003d{\u0027fontsize\u0027: fontsize})\naxes[1].set_title(\"Xác định ngoại lệ\",fontdict\u003d{\u0027fontsize\u0027: fontsize})\n\nplt.tight_layout()\nplt.show()"
    },
    {
      "cell_type": "markdown",
      "metadata": {},
      "source": "**Nhận xét**: \n- Biểu đồ phân bố có thiên hướng lệch âm, tức là những giá đầu sẽ có số lượng lớn hơn những giá trị sau.\n- Không có giá trị ngoại lệ.\n- Hầu hết các khách hàng sở hữu từ 3-4 sản phẩm từ ngân hàng."
    },
    {
      "cell_type": "markdown",
      "metadata": {},
      "source": "### Số tháng không hoạt động trong 12 tháng gần nhất (`months_inactive_12_mon`)"
    },
    {
      "cell_type": "code",
      "execution_count": 137,
      "metadata": {
        "autoscroll": "auto"
      },
      "outputs": [],
      "source": "%pyspark \nfig, axes \u003d plt.subplots(1,2,figsize\u003d(14, 6))\nfig.suptitle(\u0027Sự phân bố của số số lượng sản phẩm từ ngân hàng mà khách hàng sử hữu\u0027, fontsize\u003d20)\naxes[0]\u003dsns.histplot(cre_data, x\u003d\u0027months_inactive_12_mon\u0027, kde\u003dTrue, color\u003d \u0027blue\u0027, ax\u003daxes[0])\naxes[1]\u003dsns.boxplot(x\u003dcre_data[\u0027months_inactive_12_mon\u0027], color\u003d\u0027#FAF92F\u0027,showmeans\u003dTrue, ax\u003daxes[1])\naxes[1].set(xlabel\u003dNone)\n\nfontsize\u003d15\naxes[0].set_title(\"Sự phân bố\",fontdict\u003d{\u0027fontsize\u0027: fontsize})\naxes[1].set_title(\"Xác định ngoại lệ\",fontdict\u003d{\u0027fontsize\u0027: fontsize})\n\nplt.tight_layout()\nplt.show()"
    },
    {
      "cell_type": "markdown",
      "metadata": {},
      "source": "**Nhận xét**:\n- Đồ thị phân bố có thiên hướng lệch trái.\n- Các giá trị ngoại lệ được phân loại là những khách hàng có 0, 5, 6 tháng không không thực hiện hoạt động nào trong vòng 12 tháng.\n- Với các khách hàng cố số tháng không hoạt động là 0, tức là trong 12 tháng, những khách hàng này luôn hoạt động. Ngoài ra còn có những khách hàng không hoạt động trong vòng nửa năm. Những giá trị này tương đối bình thường và đều là những trường hợp có thể xảy ra trong thực tế nên chúng ta sẽ không phân loại chúng là những ngoại lệ. Chúng ta sẽ thực hiện phân tích hành vi của những giá trị này ngay sau đây."
    },
    {
      "cell_type": "markdown",
      "metadata": {},
      "source": "### Phân tích hành vi của những khách hàng có 0, 5, 6 tháng không hoạt động trong vòng 12 tháng"
    },
    {
      "cell_type": "code",
      "execution_count": 140,
      "metadata": {
        "autoscroll": "auto"
      },
      "outputs": [],
      "source": "%pyspark\nfig, axes \u003d plt.subplots(3,2,figsize\u003d(14, 9))\nfig.suptitle(\u0027Hành vi của những khách hàng có 0 tháng không hoạt động\u0027, fontsize\u003d20)\n\nax1\u003dsns.countplot(y\u003dcre_data[(cre_data.months_inactive_12_mon \u003d\u003d 0)][\u0027attrition_flag\u0027], color\u003d \u0027#7A7154\u0027, order\u003dcre_data[(cre_data.months_inactive_12_mon \u003d\u003d 0)][\u0027attrition_flag\u0027].value_counts().index,ax\u003daxes[0,0])\nax1.set(xlabel\u003dNone)\nax1.set(ylabel\u003dNone)\nax2\u003dsns.countplot(y\u003dcre_data[(cre_data.months_inactive_12_mon \u003d\u003d 0)][\u0027gender\u0027], color\u003d \u0027#FAC82F\u0027, order\u003dcre_data[(cre_data.months_inactive_12_mon \u003d\u003d 0)][\u0027gender\u0027].value_counts().index,ax\u003daxes[0,1])\nax2.set(xlabel\u003dNone)\nax2.set(ylabel\u003dNone)\nax3\u003dsns.countplot(y\u003dcre_data[(cre_data.months_inactive_12_mon \u003d\u003d 0)][\u0027education_level\u0027], color\u003d \u0027#7A7154\u0027, order\u003dcre_data[(cre_data.months_inactive_12_mon \u003d\u003d 0)][\u0027education_level\u0027].value_counts().index,ax\u003daxes[1,0])\nax3.set(xlabel\u003dNone)\nax3.set(ylabel\u003dNone)\nax4\u003dsns.countplot(y\u003dcre_data[(cre_data.months_inactive_12_mon \u003d\u003d 0)][\u0027card_category\u0027], color\u003d \u0027#FAC82F\u0027, order\u003dcre_data[(cre_data.months_inactive_12_mon \u003d\u003d 0)][\u0027card_category\u0027].value_counts().index,ax\u003daxes[1,1])\nax4.set(xlabel\u003dNone)\nax4.set(ylabel\u003dNone)\nax5\u003dsns.countplot(y\u003dcre_data[(cre_data.months_inactive_12_mon \u003d\u003d 0)][\u0027income_category\u0027], color\u003d \u0027#7A7154\u0027, order\u003dcre_data[(cre_data.months_inactive_12_mon \u003d\u003d 0)][\u0027income_category\u0027].value_counts().index,ax\u003daxes[2,0])\nax5.set(xlabel\u003dNone)\nax5.set(ylabel\u003dNone)\nax6\u003dsns.countplot(y\u003dcre_data[(cre_data.months_inactive_12_mon \u003d\u003d 0)][\u0027marital_status\u0027], color\u003d \u0027#FAC82F\u0027, order\u003dcre_data[(cre_data.months_inactive_12_mon \u003d\u003d 0)][\u0027marital_status\u0027].value_counts().index,ax\u003daxes[2,1])\nax6.set(xlabel\u003dNone)\nax6.set(ylabel\u003dNone)\n\nfontsize\u003d15\nax1.set_title(\"Churn\",fontdict\u003d{\u0027fontsize\u0027: fontsize})\nax2.set_title(\"Gender\",fontdict\u003d{\u0027fontsize\u0027: fontsize})\nax3.set_title(\"Educational Level\",fontdict\u003d{\u0027fontsize\u0027: fontsize})\nax4.set_title(\"Card Category \",fontdict\u003d{\u0027fontsize\u0027: fontsize})\nax5.set_title(\"Income Category\",fontdict\u003d{\u0027fontsize\u0027: fontsize})\nax6.set_title(\"Marital Status\",fontdict\u003d{\u0027fontsize\u0027: fontsize})\n\nplt.tight_layout()\nplt.show()"
    },
    {
      "cell_type": "code",
      "execution_count": 141,
      "metadata": {
        "autoscroll": "auto"
      },
      "outputs": [],
      "source": "%pyspark\nfig, axes \u003d plt.subplots(3,2,figsize\u003d(14, 9))\nfig.suptitle(\u0027Hành vi của những khách hàng có 5, 6 tháng không hoạt động\u0027, fontsize\u003d20)\n\nax1\u003dsns.countplot(y\u003dcre_data[(cre_data.months_inactive_12_mon \u003e\u003d 5)][\u0027attrition_flag\u0027], color\u003d \u0027#7A7154\u0027, order\u003dcre_data[(cre_data.months_inactive_12_mon \u003e\u003d 5)][\u0027attrition_flag\u0027].value_counts().index,ax\u003daxes[0,0])\nax1.set(xlabel\u003dNone)\nax1.set(ylabel\u003dNone)\nax2\u003dsns.countplot(y\u003dcre_data[(cre_data.months_inactive_12_mon \u003e\u003d 5)][\u0027gender\u0027], color\u003d \u0027#FAC82F\u0027, order\u003dcre_data[(cre_data.months_inactive_12_mon \u003e\u003d 5)][\u0027gender\u0027].value_counts().index,ax\u003daxes[0,1])\nax2.set(xlabel\u003dNone)\nax2.set(ylabel\u003dNone)\nax3\u003dsns.countplot(y\u003dcre_data[(cre_data.months_inactive_12_mon \u003e\u003d 5)][\u0027education_level\u0027], color\u003d \u0027#7A7154\u0027, order\u003dcre_data[(cre_data.months_inactive_12_mon \u003e\u003d 5)][\u0027education_level\u0027].value_counts().index,ax\u003daxes[1,0])\nax3.set(xlabel\u003dNone)\nax3.set(ylabel\u003dNone)\nax4\u003dsns.countplot(y\u003dcre_data[(cre_data.months_inactive_12_mon \u003e\u003d 5)][\u0027card_category\u0027], color\u003d \u0027#FAC82F\u0027, order\u003dcre_data[(cre_data.months_inactive_12_mon \u003e\u003d 5)][\u0027card_category\u0027].value_counts().index,ax\u003daxes[1,1])\nax4.set(xlabel\u003dNone)\nax4.set(ylabel\u003dNone)\nax5\u003dsns.countplot(y\u003dcre_data[(cre_data.months_inactive_12_mon \u003e\u003d 5)][\u0027income_category\u0027], color\u003d \u0027#7A7154\u0027, order\u003dcre_data[(cre_data.months_inactive_12_mon \u003e\u003d 5)][\u0027income_category\u0027].value_counts().index,ax\u003daxes[2,0])\nax5.set(xlabel\u003dNone)\nax5.set(ylabel\u003dNone)\nax6\u003dsns.countplot(y\u003dcre_data[(cre_data.months_inactive_12_mon \u003e\u003d 5)][\u0027marital_status\u0027], color\u003d \u0027#FAC82F\u0027, order\u003dcre_data[(cre_data.months_inactive_12_mon \u003e\u003d 5)][\u0027marital_status\u0027].value_counts().index,ax\u003daxes[2,1])\nax6.set(xlabel\u003dNone)\nax6.set(ylabel\u003dNone)\n\nfontsize\u003d15\nax1.set_title(\"Churn\",fontdict\u003d{\u0027fontsize\u0027: fontsize})\nax2.set_title(\"Gender\",fontdict\u003d{\u0027fontsize\u0027: fontsize})\nax3.set_title(\"Educational Level\",fontdict\u003d{\u0027fontsize\u0027: fontsize})\nax4.set_title(\"Card Category \",fontdict\u003d{\u0027fontsize\u0027: fontsize})\nax5.set_title(\"Income Category\",fontdict\u003d{\u0027fontsize\u0027: fontsize})\nax6.set_title(\"Marital Status\",fontdict\u003d{\u0027fontsize\u0027: fontsize})\n\nplt.tight_layout()\nplt.show()"
    },
    {
      "cell_type": "markdown",
      "metadata": {},
      "source": "**Nhận xét**: Dựa vào các biểu đồ trên, ta đưa ra được một số nhận xét như sau:\n- Với các biểu đồ bên trái (số tháng là 0), ta thấy mặc dù các khách hàng có hoạt động trong vòng 12 nhưng tỉ lệ từ bỏ của họ lại rất cao. Hầu hết những khách hàng của thuộc tính này là phụ nữ và sỡ hữu thẻ xanh (blue card).\n- Với các biểu đồ bên phải, tỉ lệ từ bỏ là tương đối thấp (hầu như giống với các thuộc tính trước đó). Ngoài ra, tệp khách hàng này sỡ hữu nhiều thẻ vàng (gold card) hơn, nhiều khách hàng trình độ Graduate hơn so với dữ liệu về khách hàng có 0 tháng không hoạt động."
    },
    {
      "cell_type": "markdown",
      "metadata": {},
      "source": "### Số lần thực hiện liên lạc với ngân hàng trong vòng 12 tháng (`contacts_count_12_mon`)"
    },
    {
      "cell_type": "code",
      "execution_count": 144,
      "metadata": {
        "autoscroll": "auto"
      },
      "outputs": [],
      "source": "%pyspark \nfig, axes \u003d plt.subplots(1,2,figsize\u003d(14, 6))\nfig.suptitle(\u0027Sự phân bố của số số lượng liên lạc với ngân hàng trong vòng 12 tháng\u0027, fontsize\u003d20)\naxes[0]\u003dsns.histplot(cre_data, x\u003d\u0027contacts_count_12_mon\u0027, kde\u003dTrue, color\u003d \u0027blue\u0027, ax\u003daxes[0])\naxes[1]\u003dsns.boxplot(x\u003dcre_data[\u0027contacts_count_12_mon\u0027], color\u003d\u0027#FAF92F\u0027,showmeans\u003dTrue, ax\u003daxes[1])\naxes[1].set(xlabel\u003dNone)\n\nfontsize\u003d15\naxes[0].set_title(\"Sự phân bố\",fontdict\u003d{\u0027fontsize\u0027: fontsize})\naxes[1].set_title(\"Xác định ngoại lệ\",fontdict\u003d{\u0027fontsize\u0027: fontsize})\n\nplt.tight_layout()\nplt.show()"
    },
    {
      "cell_type": "markdown",
      "metadata": {},
      "source": "**Nhận xét**:\n- Đồ thị phân bố có thiên hướng lệch trái.\n- Những giá trị 0, 5, 6 được đánh giá là những giá trị ngoại lệ. Tuy nhiên, những giá trị này sẽ không được coi là bất thường vì những khách hàng có thể 0 liên lạc, hoặc liên lạc 5, 6 lần với ngân hàng là điều bình thường."
    },
    {
      "cell_type": "markdown",
      "metadata": {},
      "source": "### Phân tích hành vi của những khách hàng có 0, 5, 6 lần liên lạc với ngân hàng trong vòng 12 tháng"
    },
    {
      "cell_type": "code",
      "execution_count": 147,
      "metadata": {
        "autoscroll": "auto"
      },
      "outputs": [],
      "source": "%pyspark\nfig, axes \u003d plt.subplots(3,2,figsize\u003d(14, 9))\nfig.suptitle(\u0027Hành vi của những khách hàng có 0 lần liên lạc trong vòng 12 tháng\u0027, fontsize\u003d20)\n\nax1\u003dsns.countplot(y\u003dcre_data[(cre_data.contacts_count_12_mon \u003d\u003d 0)][\u0027attrition_flag\u0027], color\u003d \u0027#7A7154\u0027, order\u003dcre_data[(cre_data.contacts_count_12_mon \u003d\u003d 0)][\u0027attrition_flag\u0027].value_counts().index,ax\u003daxes[0,0])\nax1.set(xlabel\u003dNone)\nax1.set(ylabel\u003dNone)\nax2\u003dsns.countplot(y\u003dcre_data[(cre_data.contacts_count_12_mon \u003d\u003d 0)][\u0027gender\u0027], color\u003d \u0027#FAC82F\u0027, order\u003dcre_data[(cre_data.contacts_count_12_mon \u003d\u003d 0)][\u0027gender\u0027].value_counts().index,ax\u003daxes[0,1])\nax2.set(xlabel\u003dNone)\nax2.set(ylabel\u003dNone)\nax3\u003dsns.countplot(y\u003dcre_data[(cre_data.contacts_count_12_mon \u003d\u003d 0)][\u0027education_level\u0027], color\u003d \u0027#7A7154\u0027, order\u003dcre_data[(cre_data.contacts_count_12_mon \u003d\u003d 0)][\u0027education_level\u0027].value_counts().index,ax\u003daxes[1,0])\nax3.set(xlabel\u003dNone)\nax3.set(ylabel\u003dNone)\nax4\u003dsns.countplot(y\u003dcre_data[(cre_data.contacts_count_12_mon \u003d\u003d 0)][\u0027card_category\u0027], color\u003d \u0027#FAC82F\u0027, order\u003dcre_data[(cre_data.contacts_count_12_mon \u003d\u003d 0)][\u0027card_category\u0027].value_counts().index,ax\u003daxes[1,1])\nax4.set(xlabel\u003dNone)\nax4.set(ylabel\u003dNone)\nax5\u003dsns.countplot(y\u003dcre_data[(cre_data.contacts_count_12_mon \u003d\u003d 0)][\u0027income_category\u0027], color\u003d \u0027#7A7154\u0027, order\u003dcre_data[(cre_data.contacts_count_12_mon \u003d\u003d 0)][\u0027income_category\u0027].value_counts().index,ax\u003daxes[2,0])\nax5.set(xlabel\u003dNone)\nax5.set(ylabel\u003dNone)\nax6\u003dsns.countplot(y\u003dcre_data[(cre_data.contacts_count_12_mon \u003d\u003d 0)][\u0027marital_status\u0027], color\u003d \u0027#FAC82F\u0027, order\u003dcre_data[(cre_data.contacts_count_12_mon \u003d\u003d 0)][\u0027marital_status\u0027].value_counts().index,ax\u003daxes[2,1])\nax6.set(xlabel\u003dNone)\nax6.set(ylabel\u003dNone)\n\nfontsize\u003d15\nax1.set_title(\"Churn\",fontdict\u003d{\u0027fontsize\u0027: fontsize})\nax2.set_title(\"Gender\",fontdict\u003d{\u0027fontsize\u0027: fontsize})\nax3.set_title(\"Educational Level\",fontdict\u003d{\u0027fontsize\u0027: fontsize})\nax4.set_title(\"Card Category \",fontdict\u003d{\u0027fontsize\u0027: fontsize})\nax5.set_title(\"Income Category\",fontdict\u003d{\u0027fontsize\u0027: fontsize})\nax6.set_title(\"Marital Status\",fontdict\u003d{\u0027fontsize\u0027: fontsize})\n\nplt.tight_layout()\nplt.show()"
    },
    {
      "cell_type": "code",
      "execution_count": 148,
      "metadata": {
        "autoscroll": "auto"
      },
      "outputs": [],
      "source": "%pyspark\nfig, axes \u003d plt.subplots(3,2,figsize\u003d(14, 9))\nfig.suptitle(\u0027Hành vi của những khách hàng có 5, 6 liên lạc với ngân hàng trong vòng 12 tháng\u0027, fontsize\u003d20)\n\nax1\u003dsns.countplot(y\u003dcre_data[(cre_data.contacts_count_12_mon \u003e\u003d 5)][\u0027attrition_flag\u0027], color\u003d \u0027#7A7154\u0027, order\u003dcre_data[(cre_data.contacts_count_12_mon \u003e\u003d 5)][\u0027attrition_flag\u0027].value_counts().index,ax\u003daxes[0,0])\nax1.set(xlabel\u003dNone)\nax1.set(ylabel\u003dNone)\nax2\u003dsns.countplot(y\u003dcre_data[(cre_data.contacts_count_12_mon \u003e\u003d 5)][\u0027gender\u0027], color\u003d \u0027#FAC82F\u0027, order\u003dcre_data[(cre_data.contacts_count_12_mon \u003e\u003d 5)][\u0027gender\u0027].value_counts().index,ax\u003daxes[0,1])\nax2.set(xlabel\u003dNone)\nax2.set(ylabel\u003dNone)\nax3\u003dsns.countplot(y\u003dcre_data[(cre_data.contacts_count_12_mon \u003e\u003d 5)][\u0027education_level\u0027], color\u003d \u0027#7A7154\u0027, order\u003dcre_data[(cre_data.contacts_count_12_mon \u003e\u003d 5)][\u0027education_level\u0027].value_counts().index,ax\u003daxes[1,0])\nax3.set(xlabel\u003dNone)\nax3.set(ylabel\u003dNone)\nax4\u003dsns.countplot(y\u003dcre_data[(cre_data.contacts_count_12_mon \u003e\u003d 5)][\u0027card_category\u0027], color\u003d \u0027#FAC82F\u0027, order\u003dcre_data[(cre_data.contacts_count_12_mon \u003e\u003d 5)][\u0027card_category\u0027].value_counts().index,ax\u003daxes[1,1])\nax4.set(xlabel\u003dNone)\nax4.set(ylabel\u003dNone)\nax5\u003dsns.countplot(y\u003dcre_data[(cre_data.contacts_count_12_mon \u003e\u003d 5)][\u0027income_category\u0027], color\u003d \u0027#7A7154\u0027, order\u003dcre_data[(cre_data.contacts_count_12_mon \u003e\u003d 5)][\u0027income_category\u0027].value_counts().index,ax\u003daxes[2,0])\nax5.set(xlabel\u003dNone)\nax5.set(ylabel\u003dNone)\nax6\u003dsns.countplot(y\u003dcre_data[(cre_data.contacts_count_12_mon \u003e\u003d 5)][\u0027marital_status\u0027], color\u003d \u0027#FAC82F\u0027, order\u003dcre_data[(cre_data.contacts_count_12_mon \u003e\u003d 5)][\u0027marital_status\u0027].value_counts().index,ax\u003daxes[2,1])\nax6.set(xlabel\u003dNone)\nax6.set(ylabel\u003dNone)\n\nfontsize\u003d15\nax1.set_title(\"Churn\",fontdict\u003d{\u0027fontsize\u0027: fontsize})\nax2.set_title(\"Gender\",fontdict\u003d{\u0027fontsize\u0027: fontsize})\nax3.set_title(\"Educational Level\",fontdict\u003d{\u0027fontsize\u0027: fontsize})\nax4.set_title(\"Card Category \",fontdict\u003d{\u0027fontsize\u0027: fontsize})\nax5.set_title(\"Income Category\",fontdict\u003d{\u0027fontsize\u0027: fontsize})\nax6.set_title(\"Marital Status\",fontdict\u003d{\u0027fontsize\u0027: fontsize})\n\nplt.tight_layout()\nplt.show()"
    },
    {
      "cell_type": "markdown",
      "metadata": {},
      "source": "**Nhận xét**: \n- Hầu hết tất cả các khách hàng có 0 lần liên lạc với ngân hàng thì đều vẫn còn là khách hàng của ngân hàng, và nữ chiếm đa số.\n- Những khách hàng có 5, 6 lần liên lạc với khách hàng thì có tỉ lệ khách hàng rời bỏ ngân hàng cao hơn so với những khách hàng có 0 lần liên lạc, và hầu hết là những khách hàng nam.\n- Điều này có thể chỉ ra cho chúng ta thấy ràng có sự liên hệ giữa thuộc tính này với tỉ lệ rời bỏ của khách hàng."
    },
    {
      "cell_type": "markdown",
      "metadata": {},
      "source": "### Giới hạn tín dụng (`credit_limit`)"
    },
    {
      "cell_type": "code",
      "execution_count": 151,
      "metadata": {
        "autoscroll": "auto"
      },
      "outputs": [],
      "source": "%pyspark \nfig, axes \u003d plt.subplots(1,2,figsize\u003d(14, 6))\nfig.suptitle(\u0027Sự phân bố của giới hạn tín dụng của khách hàng\u0027, fontsize\u003d20)\naxes[0]\u003dsns.histplot(cre_data, x\u003d\u0027credit_limit\u0027, kde\u003dTrue, color\u003d \u0027blue\u0027, ax\u003daxes[0])\naxes[1]\u003dsns.boxplot(x\u003dcre_data[\u0027credit_limit\u0027], color\u003d\u0027#FAF92F\u0027,showmeans\u003dTrue, ax\u003daxes[1])\naxes[1].set(xlabel\u003dNone)\n\nfontsize\u003d15\naxes[0].set_title(\"Sự phân bố\",fontdict\u003d{\u0027fontsize\u0027: fontsize})\naxes[1].set_title(\"Xác định ngoại lệ\",fontdict\u003d{\u0027fontsize\u0027: fontsize})\n\nplt.tight_layout()\nplt.show()"
    },
    {
      "cell_type": "markdown",
      "metadata": {},
      "source": "**Nhận xét**:\n- Đồ thị lệch về phía bên trái.\n- Thuộc tính này có những ngoại lệ mang giá trị cao ở cuối (higher end outliner). Tức là có một tệp khách hàng sỡ hữu mức tín dụng cao và được xem là những ngoại lệ."
    },
    {
      "cell_type": "markdown",
      "metadata": {},
      "source": "### Phân tích hành vi của những giá trị ngoại lệ trong `credit_limit`"
    },
    {
      "cell_type": "code",
      "execution_count": 154,
      "metadata": {
        "autoscroll": "auto"
      },
      "outputs": [],
      "source": "%pyspark\nfig, axes \u003d plt.subplots(3,2,figsize\u003d(14, 9))\nfig.suptitle(\u0027Hành vi của những ngoại lệ trong hạn mức tín dụng\u0027, fontsize\u003d20)\n\nax1\u003dsns.countplot(y\u003dcre_data[(cre_data.credit_limit \u003e\u003d 23000)][\u0027attrition_flag\u0027], color\u003d \u0027#7A7154\u0027, order\u003dcre_data[(cre_data.credit_limit \u003e\u003d 23000)][\u0027attrition_flag\u0027].value_counts().index,ax\u003daxes[0,0])\nax1.set(xlabel\u003dNone)\nax1.set(ylabel\u003dNone)\nax2\u003dsns.countplot(y\u003dcre_data[(cre_data.credit_limit \u003e\u003d 23000)][\u0027gender\u0027], color\u003d \u0027#FAC82F\u0027, order\u003dcre_data[(cre_data.credit_limit \u003e\u003d 23000)][\u0027gender\u0027].value_counts().index,ax\u003daxes[0,1])\nax2.set(xlabel\u003dNone)\nax2.set(ylabel\u003dNone)\nax3\u003dsns.countplot(y\u003dcre_data[(cre_data.credit_limit \u003e\u003d 23000)][\u0027education_level\u0027], color\u003d \u0027#7A7154\u0027, order\u003dcre_data[(cre_data.credit_limit \u003e\u003d 23000)][\u0027education_level\u0027].value_counts().index,ax\u003daxes[1,0])\nax3.set(xlabel\u003dNone)\nax3.set(ylabel\u003dNone)\nax4\u003dsns.countplot(y\u003dcre_data[(cre_data.credit_limit \u003e\u003d 23000)][\u0027card_category\u0027], color\u003d \u0027#FAC82F\u0027, order\u003dcre_data[(cre_data.credit_limit \u003e\u003d 23000)][\u0027card_category\u0027].value_counts().index,ax\u003daxes[1,1])\nax4.set(xlabel\u003dNone)\nax4.set(ylabel\u003dNone)\nax5\u003dsns.countplot(y\u003dcre_data[(cre_data.credit_limit \u003e\u003d 23000)][\u0027income_category\u0027], color\u003d \u0027#7A7154\u0027, order\u003dcre_data[(cre_data.credit_limit \u003e\u003d 23000)][\u0027income_category\u0027].value_counts().index,ax\u003daxes[2,0])\nax5.set(xlabel\u003dNone)\nax5.set(ylabel\u003dNone)\nax6\u003dsns.countplot(y\u003dcre_data[(cre_data.credit_limit \u003e\u003d 23000)][\u0027marital_status\u0027], color\u003d \u0027#FAC82F\u0027, order\u003dcre_data[(cre_data.credit_limit \u003e\u003d 23000)][\u0027marital_status\u0027].value_counts().index,ax\u003daxes[2,1])\nax6.set(xlabel\u003dNone)\nax6.set(ylabel\u003dNone)\n\nfontsize\u003d15\nax1.set_title(\"Churn\",fontdict\u003d{\u0027fontsize\u0027: fontsize})\nax2.set_title(\"Gender\",fontdict\u003d{\u0027fontsize\u0027: fontsize})\nax3.set_title(\"Educational Level\",fontdict\u003d{\u0027fontsize\u0027: fontsize})\nax4.set_title(\"Card Category \",fontdict\u003d{\u0027fontsize\u0027: fontsize})\nax5.set_title(\"Income Category\",fontdict\u003d{\u0027fontsize\u0027: fontsize})\nax6.set_title(\"Marital Status\",fontdict\u003d{\u0027fontsize\u0027: fontsize})\n\nplt.tight_layout()\nplt.show()"
    },
    {
      "cell_type": "markdown",
      "metadata": {},
      "source": "**Nhận xét**:\n- Ta thấy được ràng, những tệp khách hàng của nhóm ngoại lệ này hầu hết là những khách hàng có mức thu nhập cao. \n- Điều đặc biệt là, thuộc tính này có tệp khách hàng ở trong mọi phân loại thẻ (Card Category) và có khoảng 90% khách hàng sỡ hữu thẻ xanh và thẻ bạc, hơn 80% khách hàng là những khách hàng chưa từ bỏ ngân hàng.\n- Điều này khá mới mẻ, vì đây là lần đầu mà tất cả các loại thẻ xuất hiện với một giá trị đáng xem xét."
    },
    {
      "cell_type": "markdown",
      "metadata": {},
      "source": "### Số tiền chi tiêu bằng thẻ tín dụng và chưa được thanh toán vào cuối chu kỳ (`total_revolving_bal`)"
    },
    {
      "cell_type": "code",
      "execution_count": 157,
      "metadata": {
        "autoscroll": "auto"
      },
      "outputs": [],
      "source": "%pyspark \nfig, axes \u003d plt.subplots(1,2,figsize\u003d(14, 6))\nfig.suptitle(\u0027Sự phân bố của Total revolving balance\u0027, fontsize\u003d20)\naxes[0]\u003dsns.histplot(cre_data, x\u003d\u0027total_revolving_bal\u0027, kde\u003dTrue, color\u003d \u0027blue\u0027, ax\u003daxes[0])\naxes[1]\u003dsns.boxplot(x\u003dcre_data[\u0027total_revolving_bal\u0027], color\u003d\u0027#FAF92F\u0027,showmeans\u003dTrue, ax\u003daxes[1])\naxes[1].set(xlabel\u003dNone)\n\nfontsize\u003d15\naxes[0].set_title(\"Sự phân bố\",fontdict\u003d{\u0027fontsize\u0027: fontsize})\naxes[1].set_title(\"Xác định ngoại lệ\",fontdict\u003d{\u0027fontsize\u0027: fontsize})\n\nplt.tight_layout()\nplt.show()"
    },
    {
      "cell_type": "markdown",
      "metadata": {},
      "source": "**Nhận xét**:\n- Hầu hết khách hàng có total revolving balance là 0. Điều này có thể là do họ không sử dụng thẻ tín dụng.\n- Không có giá trị ngoại lệ."
    },
    {
      "cell_type": "markdown",
      "metadata": {},
      "source": "### Khả năng sẵn sàng mua trung bình (`avg_open_to_buy`)"
    },
    {
      "cell_type": "code",
      "execution_count": 160,
      "metadata": {
        "autoscroll": "auto"
      },
      "outputs": [],
      "source": "%pyspark \nfig, axes \u003d plt.subplots(1,2,figsize\u003d(14, 6))\nfig.suptitle(\u0027Sự phân bố của Average Open to buy\u0027, fontsize\u003d20)\naxes[0]\u003dsns.histplot(cre_data, x\u003d\u0027avg_open_to_buy\u0027, kde\u003dTrue, color\u003d \u0027blue\u0027, ax\u003daxes[0])\naxes[1]\u003dsns.boxplot(x\u003dcre_data[\u0027avg_open_to_buy\u0027], color\u003d\u0027#FAF92F\u0027,showmeans\u003dTrue, ax\u003daxes[1])\naxes[1].set(xlabel\u003dNone)\n\nfontsize\u003d15\naxes[0].set_title(\"Sự phân bố\",fontdict\u003d{\u0027fontsize\u0027: fontsize})\naxes[1].set_title(\"Xác định ngoại lệ\",fontdict\u003d{\u0027fontsize\u0027: fontsize})\n\nplt.tight_layout()\nplt.show()"
    },
    {
      "cell_type": "markdown",
      "metadata": {},
      "source": "**Nhận xét**:\n- Đồ thị phân bố bị lệch trái như credit limit\n- Thuộc tính này cũng có những ngoại lệ mang giá trị cao ở cuối như credit limit. Điều này có thể chỉ ra ràng một vài khách hàng sử dụng rất ít lượng hạn mức tín dụng của họ"
    },
    {
      "cell_type": "markdown",
      "metadata": {},
      "source": "### Phân tích hành vi của những giá trị ngoại lệ trong `avg_open_to_buy`"
    },
    {
      "cell_type": "code",
      "execution_count": 163,
      "metadata": {
        "autoscroll": "auto"
      },
      "outputs": [],
      "source": "%pyspark\nfig, axes \u003d plt.subplots(3,2,figsize\u003d(14, 9))\nfig.suptitle(\u0027Hành vi của những ngoại lệ trong average open to buy\u0027, fontsize\u003d20)\n\nax1\u003dsns.countplot(y\u003dcre_data[(cre_data.avg_open_to_buy \u003e\u003d 22500)][\u0027attrition_flag\u0027], color\u003d \u0027#7A7154\u0027, order\u003dcre_data[(cre_data.avg_open_to_buy \u003e\u003d 22500)][\u0027attrition_flag\u0027].value_counts().index,ax\u003daxes[0,0])\nax1.set(xlabel\u003dNone)\nax1.set(ylabel\u003dNone)\nax2\u003dsns.countplot(y\u003dcre_data[(cre_data.avg_open_to_buy \u003e\u003d 22500)][\u0027gender\u0027], color\u003d \u0027#FAC82F\u0027, order\u003dcre_data[(cre_data.avg_open_to_buy \u003e\u003d 22500)][\u0027gender\u0027].value_counts().index,ax\u003daxes[0,1])\nax2.set(xlabel\u003dNone)\nax2.set(ylabel\u003dNone)\nax3\u003dsns.countplot(y\u003dcre_data[(cre_data.avg_open_to_buy \u003e\u003d 22500)][\u0027education_level\u0027], color\u003d \u0027#7A7154\u0027, order\u003dcre_data[(cre_data.avg_open_to_buy \u003e\u003d 22500)][\u0027education_level\u0027].value_counts().index,ax\u003daxes[1,0])\nax3.set(xlabel\u003dNone)\nax3.set(ylabel\u003dNone)\nax4\u003dsns.countplot(y\u003dcre_data[(cre_data.avg_open_to_buy \u003e\u003d 22500)][\u0027card_category\u0027], color\u003d \u0027#FAC82F\u0027, order\u003dcre_data[(cre_data.avg_open_to_buy \u003e\u003d 22500)][\u0027card_category\u0027].value_counts().index,ax\u003daxes[1,1])\nax4.set(xlabel\u003dNone)\nax4.set(ylabel\u003dNone)\nax5\u003dsns.countplot(y\u003dcre_data[(cre_data.avg_open_to_buy \u003e\u003d 22500)][\u0027income_category\u0027], color\u003d \u0027#7A7154\u0027, order\u003dcre_data[(cre_data.avg_open_to_buy \u003e\u003d 22500)][\u0027income_category\u0027].value_counts().index,ax\u003daxes[2,0])\nax5.set(xlabel\u003dNone)\nax5.set(ylabel\u003dNone)\nax6\u003dsns.countplot(y\u003dcre_data[(cre_data.avg_open_to_buy \u003e\u003d 22500)][\u0027marital_status\u0027], color\u003d \u0027#FAC82F\u0027, order\u003dcre_data[(cre_data.avg_open_to_buy \u003e\u003d 22500)][\u0027marital_status\u0027].value_counts().index,ax\u003daxes[2,1])\nax6.set(xlabel\u003dNone)\nax6.set(ylabel\u003dNone)\n\nfontsize\u003d15\nax1.set_title(\"Churn\",fontdict\u003d{\u0027fontsize\u0027: fontsize})\nax2.set_title(\"Gender\",fontdict\u003d{\u0027fontsize\u0027: fontsize})\nax3.set_title(\"Educational Level\",fontdict\u003d{\u0027fontsize\u0027: fontsize})\nax4.set_title(\"Card Category \",fontdict\u003d{\u0027fontsize\u0027: fontsize})\nax5.set_title(\"Income Category\",fontdict\u003d{\u0027fontsize\u0027: fontsize})\nax6.set_title(\"Marital Status\",fontdict\u003d{\u0027fontsize\u0027: fontsize})\n\nplt.tight_layout()\nplt.show()"
    },
    {
      "cell_type": "markdown",
      "metadata": {},
      "source": "**Nhận xét**:\n- Ta nhận thấy ràng hành vi của những giá trị ngoại lệ này rất giống với những giá trị ngoại lệ của credit limit. Điều này có thể chỉ ra ràng có mối tương quan tương đối mạnh với 2 thuộc tính credit limit và average open to buy. Chúng ta sẽ kiểm chứng sau.\n- Những ngoại lệ này cũng có những khách hàng có nguồn thu nhập cao và hầu hết cũng là nam giới.\n- Cũng có tất cả các thuộc tính thẻ, với hơn 90% là thẻ xanh và thẻ bạc.\n- Hầu hết các khách hàng chưa từ bỏ ngân hàng."
    },
    {
      "cell_type": "markdown",
      "metadata": {},
      "source": "### Ta sẽ thực hiện kiểm tra mối tương quan của 2 thuộc tính `credit_limit` và `avg_open_to_buy`"
    },
    {
      "cell_type": "code",
      "execution_count": 166,
      "metadata": {
        "autoscroll": "auto"
      },
      "outputs": [],
      "source": "%pyspark \nfig, axes \u003d plt.subplots(1,1,figsize\u003d(14, 9))\nfig.suptitle(\u0027Mối tương quan giữa thuộc tính credit_limit và avg_open_to_buy\u0027, fontsize\u003d20)\nsns.set_context(\u0027talk\u0027)\naxes \u003d sns.scatterplot(data\u003dcre_data[cre_data.avg_open_to_buy \u003e\u003d 22500], x \u003d \u0027avg_open_to_buy\u0027, y\u003d\u0027credit_limit\u0027,color\u003d \u0027#7A7154\u0027)\n"
    },
    {
      "cell_type": "markdown",
      "metadata": {},
      "source": "**Nhận xét**: Ta thấy được mối tương quan tuyến tính giữa credit_limit và avg_open_to_buy"
    },
    {
      "cell_type": "markdown",
      "metadata": {},
      "source": "### Sự thay đổi số lượng giao dịch từ quý 4 đến quý 1 (`total_amt_chng_q4_q1`)"
    },
    {
      "cell_type": "code",
      "execution_count": 169,
      "metadata": {
        "autoscroll": "auto"
      },
      "outputs": [],
      "source": "%pyspark \nfig, axes \u003d plt.subplots(1,2,figsize\u003d(14, 6))\nfig.suptitle(\u0027Sự phân bố của số lượng giao dịch từ quý 4 đến quý 1\u0027, fontsize\u003d20)\naxes[0]\u003dsns.histplot(cre_data, x\u003d\u0027total_amt_chng_q4_q1\u0027, kde\u003dTrue, color\u003d \u0027blue\u0027, ax\u003daxes[0])\naxes[1]\u003dsns.boxplot(x\u003dcre_data[\u0027total_amt_chng_q4_q1\u0027], color\u003d\u0027#FAF92F\u0027,showmeans\u003dTrue, ax\u003daxes[1])\naxes[1].set(xlabel\u003dNone)\n\nfontsize\u003d15\naxes[0].set_title(\"Sự phân bố\",fontdict\u003d{\u0027fontsize\u0027: fontsize})\naxes[1].set_title(\"Xác định ngoại lệ\",fontdict\u003d{\u0027fontsize\u0027: fontsize})\n\nplt.tight_layout()\nplt.show()"
    },
    {
      "cell_type": "markdown",
      "metadata": {},
      "source": "**Nhận xét**:\n- Biểu đồ phân phối cũng cho thấy hình dạng của phân phối chuẩn, nhưng tương tự như thuộc tính Months_on_book, ta cũng sẽ kiểm định cho giả thuyết này.\n- Thuộc tính có các ngoại lệ kết thúc giá trị cao và giá trị thấp (higher and lower end outliners)."
    },
    {
      "cell_type": "markdown",
      "metadata": {},
      "source": "#### Kiểm định phân phối chuẩn cho `total_amt_chng_q4_q1`"
    },
    {
      "cell_type": "code",
      "execution_count": 172,
      "metadata": {
        "autoscroll": "auto"
      },
      "outputs": [],
      "source": "%pyspark\n#Kiểm định giả thuyết với giả thuyết ban đầu là thuộc tính phân bố theo phân phối chuẩn\nstat, p \u003d stats.shapiro(cre_data[\u0027total_amt_chng_q4_q1\u0027])\nprint(\u0027stat: \u0027, stat)\nprint(\u0027p: \u0027, p)\nif p \u003e 0.05:\n    print(\u0027Không đủ kết luận để loại bỏ giả thuyết ban đầu. Phân phối của dữ liệu là phân phối chuẩn\u0027)\nelse:\n    print(\u0027Loại bỏ giả thuyết null. Phân phối của dữ liệu không là phân phối chuẩn\u0027)"
    },
    {
      "cell_type": "markdown",
      "metadata": {},
      "source": "**Nhận xét**: Ta thấy, giá trị p tính được là 0, và phân phối của dữ liệu không phải là phần phối chuẩn. Để cho chắc chắn ta sẽ dùng hàm kurtosis để tính toán độ nhọn. Lưu ý, nếu đó nhọn lớn hơn 3.0, thì phân phối sẽ không phải là phân phối chuẩn\n"
    },
    {
      "cell_type": "code",
      "execution_count": 174,
      "metadata": {
        "autoscroll": "auto"
      },
      "outputs": [],
      "source": "%pyspark\nk \u003d cre_data[\u0027total_amt_chng_q4_q1\u0027].kurt()\nprint(k)\nif k \u003c\u003d 3.0:\n    print(\u0027Độ nhọn \u003c\u003d 3.0, phân phối là phân phối chuẩn\u0027)\nelse:\n    print(\u0027Độ nhọn \u003e 3.0, phân phối không là phân phối chuẩn\u0027)\n"
    },
    {
      "cell_type": "markdown",
      "metadata": {},
      "source": "### Phân tích hành vi của những ngoại lệ trong `total_amt_chng_q4_q1`"
    },
    {
      "cell_type": "code",
      "execution_count": 176,
      "metadata": {
        "autoscroll": "auto"
      },
      "outputs": [],
      "source": "%pyspark\nfig, axes \u003d plt.subplots(3,2,figsize\u003d(14, 9))\nfig.suptitle(\u0027Hành vi của những ngoại lệ trong total amount change from Q4 to Q1 (giá trị thấp)\u0027, fontsize\u003d20)\n\nax1\u003dsns.countplot(y\u003dcre_data[(cre_data.total_amt_chng_q4_q1  \u003c\u003d 0.3)][\u0027attrition_flag\u0027], color\u003d \u0027#7A7154\u0027, order\u003dcre_data[(cre_data.total_amt_chng_q4_q1  \u003c\u003d 0.3)][\u0027attrition_flag\u0027].value_counts().index,ax\u003daxes[0,0])\nax1.set(xlabel\u003dNone)\nax1.set(ylabel\u003dNone)\nax2\u003dsns.countplot(y\u003dcre_data[(cre_data.total_amt_chng_q4_q1  \u003c\u003d 0.3)][\u0027gender\u0027], color\u003d \u0027#FAC82F\u0027, order\u003dcre_data[(cre_data.total_amt_chng_q4_q1  \u003c\u003d 0.3)][\u0027gender\u0027].value_counts().index,ax\u003daxes[0,1])\nax2.set(xlabel\u003dNone)\nax2.set(ylabel\u003dNone)\nax3\u003dsns.countplot(y\u003dcre_data[(cre_data.total_amt_chng_q4_q1  \u003c\u003d 0.3)][\u0027education_level\u0027], color\u003d \u0027#7A7154\u0027, order\u003dcre_data[(cre_data.total_amt_chng_q4_q1  \u003c\u003d 0.3)][\u0027education_level\u0027].value_counts().index,ax\u003daxes[1,0])\nax3.set(xlabel\u003dNone)\nax3.set(ylabel\u003dNone)\nax4\u003dsns.countplot(y\u003dcre_data[(cre_data.total_amt_chng_q4_q1  \u003c\u003d 0.3)][\u0027card_category\u0027], color\u003d \u0027#FAC82F\u0027, order\u003dcre_data[(cre_data.total_amt_chng_q4_q1  \u003c\u003d 0.3)][\u0027card_category\u0027].value_counts().index,ax\u003daxes[1,1])\nax4.set(xlabel\u003dNone)\nax4.set(ylabel\u003dNone)\nax5\u003dsns.countplot(y\u003dcre_data[(cre_data.total_amt_chng_q4_q1  \u003c\u003d 0.3)][\u0027income_category\u0027], color\u003d \u0027#7A7154\u0027, order\u003dcre_data[(cre_data.total_amt_chng_q4_q1  \u003c\u003d 0.3)][\u0027income_category\u0027].value_counts().index,ax\u003daxes[2,0])\nax5.set(xlabel\u003dNone)\nax5.set(ylabel\u003dNone)\nax6\u003dsns.countplot(y\u003dcre_data[(cre_data.total_amt_chng_q4_q1  \u003c\u003d 0.3)][\u0027marital_status\u0027], color\u003d \u0027#FAC82F\u0027, order\u003dcre_data[(cre_data.total_amt_chng_q4_q1  \u003c\u003d 0.3)][\u0027marital_status\u0027].value_counts().index,ax\u003daxes[2,1])\nax6.set(xlabel\u003dNone)\nax6.set(ylabel\u003dNone)\n\nfontsize\u003d15\nax1.set_title(\"Churn\",fontdict\u003d{\u0027fontsize\u0027: fontsize})\nax2.set_title(\"Gender\",fontdict\u003d{\u0027fontsize\u0027: fontsize})\nax3.set_title(\"Educational Level\",fontdict\u003d{\u0027fontsize\u0027: fontsize})\nax4.set_title(\"Card Category \",fontdict\u003d{\u0027fontsize\u0027: fontsize})\nax5.set_title(\"Income Category\",fontdict\u003d{\u0027fontsize\u0027: fontsize})\nax6.set_title(\"Marital Status\",fontdict\u003d{\u0027fontsize\u0027: fontsize})\n\nplt.tight_layout()\nplt.show()"
    },
    {
      "cell_type": "code",
      "execution_count": 177,
      "metadata": {
        "autoscroll": "auto"
      },
      "outputs": [],
      "source": "%pyspark\nfig, axes \u003d plt.subplots(3,2,figsize\u003d(14, 9))\nfig.suptitle(\u0027Hành vi của những ngoại lệ trong total amount change from Q4 to Q1 (giá trị cao hơn)\u0027, fontsize\u003d20)\n\nax1\u003dsns.countplot(y\u003dcre_data[(cre_data.total_amt_chng_q4_q1  \u003e\u003d 1.2)][\u0027attrition_flag\u0027], color\u003d \u0027#7A7154\u0027, order\u003dcre_data[(cre_data.total_amt_chng_q4_q1  \u003e\u003d 1.2)][\u0027attrition_flag\u0027].value_counts().index,ax\u003daxes[0,0])\nax1.set(xlabel\u003dNone)\nax1.set(ylabel\u003dNone)\nax2\u003dsns.countplot(y\u003dcre_data[(cre_data.total_amt_chng_q4_q1  \u003e\u003d 1.2)][\u0027gender\u0027], color\u003d \u0027#FAC82F\u0027, order\u003dcre_data[(cre_data.total_amt_chng_q4_q1  \u003e\u003d 1.2)][\u0027gender\u0027].value_counts().index,ax\u003daxes[0,1])\nax2.set(xlabel\u003dNone)\nax2.set(ylabel\u003dNone)\nax3\u003dsns.countplot(y\u003dcre_data[(cre_data.total_amt_chng_q4_q1 \u003e\u003d 1.2)][\u0027education_level\u0027], color\u003d \u0027#7A7154\u0027, order\u003dcre_data[(cre_data.total_amt_chng_q4_q1 \u003e\u003d 1.2)][\u0027education_level\u0027].value_counts().index,ax\u003daxes[1,0])\nax3.set(xlabel\u003dNone)\nax3.set(ylabel\u003dNone)\nax4\u003dsns.countplot(y\u003dcre_data[(cre_data.total_amt_chng_q4_q1 \u003e\u003d 1.2)][\u0027card_category\u0027], color\u003d \u0027#FAC82F\u0027, order\u003dcre_data[(cre_data.total_amt_chng_q4_q1 \u003e\u003d 1.2)][\u0027card_category\u0027].value_counts().index,ax\u003daxes[1,1])\nax4.set(xlabel\u003dNone)\nax4.set(ylabel\u003dNone)\nax5\u003dsns.countplot(y\u003dcre_data[(cre_data.total_amt_chng_q4_q1 \u003e\u003d 1.2)][\u0027income_category\u0027], color\u003d \u0027#7A7154\u0027, order\u003dcre_data[(cre_data.total_amt_chng_q4_q1 \u003e\u003d 1.2)][\u0027income_category\u0027].value_counts().index,ax\u003daxes[2,0])\nax5.set(xlabel\u003dNone)\nax5.set(ylabel\u003dNone)\nax6\u003dsns.countplot(y\u003dcre_data[(cre_data.total_amt_chng_q4_q1 \u003e\u003d 1.2)][\u0027marital_status\u0027], color\u003d \u0027#FAC82F\u0027, order\u003dcre_data[(cre_data.total_amt_chng_q4_q1 \u003e\u003d 1.2)][\u0027marital_status\u0027].value_counts().index,ax\u003daxes[2,1])\nax6.set(xlabel\u003dNone)\nax6.set(ylabel\u003dNone)\n\nfontsize\u003d15\nax1.set_title(\"Churn\",fontdict\u003d{\u0027fontsize\u0027: fontsize})\nax2.set_title(\"Gender\",fontdict\u003d{\u0027fontsize\u0027: fontsize})\nax3.set_title(\"Educational Level\",fontdict\u003d{\u0027fontsize\u0027: fontsize})\nax4.set_title(\"Card Category \",fontdict\u003d{\u0027fontsize\u0027: fontsize})\nax5.set_title(\"Income Category\",fontdict\u003d{\u0027fontsize\u0027: fontsize})\nax6.set_title(\"Marital Status\",fontdict\u003d{\u0027fontsize\u0027: fontsize})\n\nplt.tight_layout()\nplt.show()"
    },
    {
      "cell_type": "markdown",
      "metadata": {},
      "source": "**Nhận xét**:\n- Hầu hết những khách hàng có mức thay đổi nhỏ trong giao dịch sẽ có số lượng người rời bỏ cao hơn.\n- Hầu hết các khách hàng có mức thay đổi nhỏ là khách hàng nữ.\n- Hầu hết các khách hàng có mức thay đổi cao là những khách hàng vẫn chưa từ bỏ ngân hàng."
    },
    {
      "cell_type": "markdown",
      "metadata": {},
      "source": "### Tổng số lượng giao dịch (`total_trans_amt`)"
    },
    {
      "cell_type": "code",
      "execution_count": 180,
      "metadata": {
        "autoscroll": "auto"
      },
      "outputs": [],
      "source": "%pyspark \nfig, axes \u003d plt.subplots(1,2,figsize\u003d(14, 6))\nfig.suptitle(\u0027Sự phân bố của tổng số lượng giao dịch\u0027, fontsize\u003d20)\naxes[0]\u003dsns.histplot(cre_data, x\u003d\u0027total_trans_amt\u0027, kde\u003dTrue, color\u003d \u0027blue\u0027, ax\u003daxes[0])\naxes[1]\u003dsns.boxplot(x\u003dcre_data[\u0027total_trans_amt\u0027], color\u003d\u0027#FAF92F\u0027,showmeans\u003dTrue, ax\u003daxes[1])\naxes[1].set(xlabel\u003dNone)\n\nfontsize\u003d15\naxes[0].set_title(\"Sự phân bố\",fontdict\u003d{\u0027fontsize\u0027: fontsize})\naxes[1].set_title(\"Xác định ngoại lệ\",fontdict\u003d{\u0027fontsize\u0027: fontsize})\n\nplt.tight_layout()\nplt.show()"
    },
    {
      "cell_type": "markdown",
      "metadata": {},
      "source": "**Nhận xét**:\n- Ta nhận thấy ràng có sự phân phối đa điểm phức tạp trong phân bố của dữ liệu. Điều này cho thấy, dữ liệu trên không phải là một phân phối đơn giản, cụ thể là nó có thể chứa các nhóm dữ liệu riêng biệt hoặc các cụm dữ liệu riêng biệt. Để hiểu rõ hơn, ta sẽ dùng phân tích cụm giữa thuộc tính này với các thuộc tính định lượng khác ở phần sau.\n- Đồng thời, dữ liệu cũng có những giá trị ngoại lệ cao."
    },
    {
      "cell_type": "markdown",
      "metadata": {},
      "source": "### Phân tích ngoại lệ của `total_trans_amt`"
    },
    {
      "cell_type": "code",
      "execution_count": 183,
      "metadata": {
        "autoscroll": "auto"
      },
      "outputs": [],
      "source": "%pyspark\nfig, axes \u003d plt.subplots(3,2,figsize\u003d(14, 9))\nfig.suptitle(\u0027Hành vi của những ngoại lệ trong total transaction amount\u0027, fontsize\u003d20)\n\nax1\u003dsns.countplot(y\u003dcre_data[(cre_data.total_trans_amt \u003e\u003d 8000)][\u0027attrition_flag\u0027], color\u003d \u0027#7A7154\u0027, order\u003dcre_data[(cre_data.total_trans_amt \u003e\u003d 8000)][\u0027attrition_flag\u0027].value_counts().index,ax\u003daxes[0,0])\nax1.set(xlabel\u003dNone)\nax1.set(ylabel\u003dNone)\nax2\u003dsns.countplot(y\u003dcre_data[(cre_data.total_trans_amt \u003e\u003d 8000)][\u0027gender\u0027], color\u003d \u0027#FAC82F\u0027, order\u003dcre_data[(cre_data.total_trans_amt \u003e\u003d 8000)][\u0027gender\u0027].value_counts().index,ax\u003daxes[0,1])\nax2.set(xlabel\u003dNone)\nax2.set(ylabel\u003dNone)\nax3\u003dsns.countplot(y\u003dcre_data[(cre_data.total_trans_amt \u003e\u003d 8000)][\u0027education_level\u0027], color\u003d \u0027#7A7154\u0027, order\u003dcre_data[(cre_data.total_trans_amt \u003e\u003d 8000)][\u0027education_level\u0027].value_counts().index,ax\u003daxes[1,0])\nax3.set(xlabel\u003dNone)\nax3.set(ylabel\u003dNone)\nax4\u003dsns.countplot(y\u003dcre_data[(cre_data.total_trans_amt \u003e\u003d 8000)][\u0027card_category\u0027], color\u003d \u0027#FAC82F\u0027, order\u003dcre_data[(cre_data.total_trans_amt \u003e\u003d 8000)][\u0027card_category\u0027].value_counts().index,ax\u003daxes[1,1])\nax4.set(xlabel\u003dNone)\nax4.set(ylabel\u003dNone)\nax5\u003dsns.countplot(y\u003dcre_data[(cre_data.total_trans_amt \u003e\u003d 8000)][\u0027income_category\u0027], color\u003d \u0027#7A7154\u0027, order\u003dcre_data[(cre_data.total_trans_amt \u003e\u003d 8000)][\u0027income_category\u0027].value_counts().index,ax\u003daxes[2,0])\nax5.set(xlabel\u003dNone)\nax5.set(ylabel\u003dNone)\nax6\u003dsns.countplot(y\u003dcre_data[(cre_data.total_trans_amt \u003e\u003d 8000)][\u0027marital_status\u0027], color\u003d \u0027#FAC82F\u0027, order\u003dcre_data[(cre_data.total_trans_amt \u003e\u003d 8000)][\u0027marital_status\u0027].value_counts().index,ax\u003daxes[2,1])\nax6.set(xlabel\u003dNone)\nax6.set(ylabel\u003dNone)\n\nfontsize\u003d15\nax1.set_title(\"Churn\",fontdict\u003d{\u0027fontsize\u0027: fontsize})\nax2.set_title(\"Gender\",fontdict\u003d{\u0027fontsize\u0027: fontsize})\nax3.set_title(\"Educational Level\",fontdict\u003d{\u0027fontsize\u0027: fontsize})\nax4.set_title(\"Card Category \",fontdict\u003d{\u0027fontsize\u0027: fontsize})\nax5.set_title(\"Income Category\",fontdict\u003d{\u0027fontsize\u0027: fontsize})\nax6.set_title(\"Marital Status\",fontdict\u003d{\u0027fontsize\u0027: fontsize})\n\nplt.tight_layout()\nplt.show()"
    },
    {
      "cell_type": "markdown",
      "metadata": {},
      "source": "**Nhận xét**:\n- Những khách hàng có tổng số lượng giao dịch cao có lượng khách hàng ở lại cao.\n- Mặc dù có tổng lượng giao dịch cao hơn, tuy nhiên, hầu hết khách hàng vẫn có mức thu nhập dưới $40k."
    },
    {
      "cell_type": "markdown",
      "metadata": {},
      "source": "### Phân tích cụm cho thuộc tính `total_trans_amt`\n"
    },
    {
      "cell_type": "code",
      "execution_count": 186,
      "metadata": {
        "autoscroll": "auto"
      },
      "outputs": [],
      "source": "%pyspark\nfig, axes \u003d plt.subplots(5,2,figsize\u003d(14, 11))\nfig.suptitle(\u0027Phân tích cụm cho thuộc tính total transaction amount với các thuộc tính định lượng\u0027, fontsize\u003d20)\n\nax1 \u003d sns.scatterplot(data\u003dcre_data[cre_data.total_trans_amt \u003e\u003d 8000], x \u003d \u0027total_trans_amt\u0027, y\u003d\u0027customer_age\u0027,color\u003d \u0027#7A7154\u0027, ax\u003daxes[0,0])\nax1.set(xlabel\u003dNone)\nax1.set(ylabel\u003dNone)\nax2 \u003d sns.scatterplot(data\u003dcre_data[cre_data.total_trans_amt \u003e\u003d 8000], x \u003d \u0027total_trans_amt\u0027, y\u003d\u0027dependent_count\u0027,color\u003d \u0027#FAC82F\u0027, ax\u003daxes[0,1])\nax2.set(xlabel\u003dNone)\nax2.set(ylabel\u003dNone)\nax3 \u003d sns.scatterplot(data\u003dcre_data[cre_data.total_trans_amt \u003e\u003d 8000], x \u003d \u0027total_trans_amt\u0027, y\u003d\u0027total_relationship_count\u0027,color\u003d \u0027#7A7154\u0027, ax\u003daxes[1,0])\nax3.set(xlabel\u003dNone)\nax3.set(ylabel\u003dNone)\nax4 \u003d sns.scatterplot(data\u003dcre_data[cre_data.total_trans_amt \u003e\u003d 8000], x \u003d \u0027total_trans_amt\u0027, y\u003d\u0027contacts_count_12_mon\u0027,color\u003d \u0027#FAC82F\u0027, ax\u003daxes[1,1])\nax4.set(xlabel\u003dNone)\nax4.set(ylabel\u003dNone)\n\nax5 \u003d sns.scatterplot(data\u003dcre_data[cre_data.total_trans_amt \u003e\u003d 8000], x \u003d \u0027total_trans_amt\u0027, y\u003d\u0027credit_limit\u0027,color\u003d \u0027#7A7154\u0027, ax\u003daxes[2,0])\nax5.set(xlabel\u003dNone)\nax5.set(ylabel\u003dNone)\nax6 \u003d sns.scatterplot(data\u003dcre_data[cre_data.total_trans_amt \u003e\u003d 8000], x \u003d \u0027total_trans_amt\u0027, y\u003d\u0027total_revolving_bal\u0027,color\u003d \u0027#FAC82F\u0027, ax\u003daxes[2,1])\nax6.set(xlabel\u003dNone)\nax6.set(ylabel\u003dNone)\nax7 \u003d sns.scatterplot(data\u003dcre_data[cre_data.total_trans_amt \u003e\u003d 8000], x \u003d \u0027total_trans_amt\u0027, y\u003d\u0027avg_open_to_buy\u0027,color\u003d \u0027#7A7154\u0027, ax\u003daxes[3,0])\nax7.set(xlabel\u003dNone)\nax7.set(ylabel\u003dNone)\nax8 \u003d sns.scatterplot(data\u003dcre_data[cre_data.total_trans_amt \u003e\u003d 8000], x \u003d \u0027total_trans_amt\u0027, y\u003d\u0027total_amt_chng_q4_q1\u0027,color\u003d \u0027#FAC82F\u0027, ax\u003daxes[3,1])\nax8.set(xlabel\u003dNone)\nax8.set(ylabel\u003dNone)\nax9 \u003d sns.scatterplot(data\u003dcre_data[cre_data.total_trans_amt \u003e\u003d 8000], x \u003d \u0027total_trans_amt\u0027, y\u003d\u0027total_trans_ct\u0027,color\u003d \u0027#7A7154\u0027, ax\u003daxes[4,0])\nax9.set(xlabel\u003dNone)\nax9.set(ylabel\u003dNone)\nax10 \u003d sns.scatterplot(data\u003dcre_data[cre_data.total_trans_amt \u003e\u003d 8000], x \u003d \u0027total_trans_amt\u0027, y\u003d\u0027total_ct_chng_q4_q1\u0027,color\u003d \u0027#FAC82F\u0027, ax\u003daxes[4,1])\nax10.set(xlabel\u003dNone)\nax10.set(ylabel\u003dNone)\n\nfontsize\u003d15\nax1.set_title(\"Customer Age\",fontdict\u003d{\u0027fontsize\u0027: fontsize})\nax2.set_title(\"Dependent Count\",fontdict\u003d{\u0027fontsize\u0027: fontsize})\nax3.set_title(\"Total Relationship Count\",fontdict\u003d{\u0027fontsize\u0027: fontsize})\nax4.set_title(\"Contacts Count 12 mon\",fontdict\u003d{\u0027fontsize\u0027: fontsize})\nax5.set_title(\"Credit Limit\",fontdict\u003d{\u0027fontsize\u0027: fontsize})\nax6.set_title(\"Total Revolving Bal\",fontdict\u003d{\u0027fontsize\u0027: fontsize})\nax7.set_title(\"Avg Open to Buy\",fontdict\u003d{\u0027fontsize\u0027: fontsize})\nax8.set_title(\"Total Amt Chng Q4 Q1\",fontdict\u003d{\u0027fontsize\u0027: fontsize})\nax9.set_title(\"Total Trans Ct\",fontdict\u003d{\u0027fontsize\u0027: fontsize})\nax10.set_title(\"Total Ct Chng Q4 Q1\",fontdict\u003d{\u0027fontsize\u0027: fontsize})\n\n\nplt.tight_layout()\nplt.show()"
    },
    {
      "cell_type": "markdown",
      "metadata": {},
      "source": "**Nhận xét**: Ta thấy rằng, ở tất cả các thuộc tính định lượng đều các phân đoạn dữ liệu khác nhau khi so sánh với các cột định lượng."
    },
    {
      "cell_type": "markdown",
      "metadata": {},
      "source": "### Tổng số giao dịch (`total_trans_ct`):"
    },
    {
      "cell_type": "code",
      "execution_count": 189,
      "metadata": {
        "autoscroll": "auto"
      },
      "outputs": [],
      "source": "%pyspark \nfig, axes \u003d plt.subplots(1,2,figsize\u003d(14, 6))\nfig.suptitle(\u0027Sự phân bố của tổng số giao dịch\u0027, fontsize\u003d20)\naxes[0]\u003dsns.histplot(cre_data, x\u003d\u0027total_trans_ct\u0027, kde\u003dTrue, color\u003d \u0027blue\u0027, ax\u003daxes[0])\naxes[1]\u003dsns.boxplot(x\u003dcre_data[\u0027total_trans_ct\u0027], color\u003d\u0027#FAF92F\u0027,showmeans\u003dTrue, ax\u003daxes[1])\naxes[1].set(xlabel\u003dNone)\n\nfontsize\u003d15\naxes[0].set_title(\"Sự phân bố\",fontdict\u003d{\u0027fontsize\u0027: fontsize})\naxes[1].set_title(\"Xác định ngoại lệ\",fontdict\u003d{\u0027fontsize\u0027: fontsize})\n\nplt.tight_layout()\nplt.show()"
    },
    {
      "cell_type": "markdown",
      "metadata": {},
      "source": "**Nhận xét**: \n- Thuộc tính nay cũng cho thấy sự đa điểm trong phân bố dữ liệu như total transaction amount.\n- Có ít ngoại lệ cao."
    },
    {
      "cell_type": "markdown",
      "metadata": {},
      "source": "### Sự thay đổi trong tổng số giao dịch (`total_ct_chng_q4_q1`)"
    },
    {
      "cell_type": "code",
      "execution_count": 192,
      "metadata": {
        "autoscroll": "auto"
      },
      "outputs": [],
      "source": "%pyspark \nfig, axes \u003d plt.subplots(1,2,figsize\u003d(14, 6))\nfig.suptitle(\u0027Sự phân bố của số thay đổi trong tổng số giao dịch\u0027, fontsize\u003d20)\naxes[0]\u003dsns.histplot(cre_data, x\u003d\u0027total_ct_chng_q4_q1\u0027, kde\u003dTrue, color\u003d \u0027blue\u0027, ax\u003daxes[0])\naxes[1]\u003dsns.boxplot(x\u003dcre_data[\u0027total_ct_chng_q4_q1\u0027], color\u003d\u0027#FAF92F\u0027,showmeans\u003dTrue, ax\u003daxes[1])\naxes[1].set(xlabel\u003dNone)\n\nfontsize\u003d15\naxes[0].set_title(\"Sự phân bố\",fontdict\u003d{\u0027fontsize\u0027: fontsize})\naxes[1].set_title(\"Xác định ngoại lệ\",fontdict\u003d{\u0027fontsize\u0027: fontsize})\n\nplt.tight_layout()\nplt.show()"
    },
    {
      "cell_type": "markdown",
      "metadata": {},
      "source": "**Nhận xét**: Có những ngoại lệ thấp và cao"
    },
    {
      "cell_type": "markdown",
      "metadata": {},
      "source": "### Tỉ lệ sử dụng thẻ tín dụng (`avg_utilization_ratio`)"
    },
    {
      "cell_type": "code",
      "execution_count": 195,
      "metadata": {
        "autoscroll": "auto"
      },
      "outputs": [],
      "source": "%pyspark \nfig, axes \u003d plt.subplots(1,2,figsize\u003d(14, 6))\nfig.suptitle(\u0027Sự phân bố của tỉ lệ sử dụng thẻ\u0027, fontsize\u003d20)\naxes[0]\u003dsns.histplot(cre_data, x\u003d\u0027avg_utilization_ratio\u0027, kde\u003dTrue, color\u003d \u0027blue\u0027, ax\u003daxes[0])\naxes[1]\u003dsns.boxplot(x\u003dcre_data[\u0027avg_utilization_ratio\u0027], color\u003d\u0027#FAF92F\u0027,showmeans\u003dTrue, ax\u003daxes[1])\naxes[1].set(xlabel\u003dNone)\n\nfontsize\u003d15\naxes[0].set_title(\"Sự phân bố\",fontdict\u003d{\u0027fontsize\u0027: fontsize})\naxes[1].set_title(\"Xác định ngoại lệ\",fontdict\u003d{\u0027fontsize\u0027: fontsize})\n\nplt.tight_layout()\nplt.show()"
    },
    {
      "cell_type": "markdown",
      "metadata": {},
      "source": "**Nhận xét**: Hầu hết các khách hàng không sử dụng thẻ tín dụng"
    },
    {
      "cell_type": "markdown",
      "metadata": {},
      "source": "### 3.2.2Dữ liệu về các thuộc tính phân loại\n### Tỉ lệ rời bỏ (`attrition_flag`)"
    },
    {
      "cell_type": "code",
      "execution_count": 198,
      "metadata": {
        "autoscroll": "auto"
      },
      "outputs": [],
      "source": "%pyspark\nplt.figure(figsize\u003d(12, 6))\n\ntotal \u003d len(cre_data[\u0027attrition_flag\u0027])\ndef fmt_num(x):\n    return \u0027{:.2f}%\\n({:.0f})\u0027.format(x, total*x/100)\n\nplt.pie(cre_data[\u0027attrition_flag\u0027].value_counts().values, labels\u003dcre_data[\u0027attrition_flag\u0027].value_counts().index, textprops\u003d{\u0027fontsize\u0027: 14}, autopct\u003dfmt_num)\nplt.title(\u0027Phân bổ của tỉ lệ churn\u0027, fontsize\u003d17)\nplt.show()\n"
    },
    {
      "cell_type": "markdown",
      "metadata": {},
      "source": "**Nhận xét**: Tập dữ liệu này có nhiều khách hàng ở lại hơn những khách hàng đã rời bỏ (churned).\n"
    },
    {
      "cell_type": "markdown",
      "metadata": {},
      "source": "### Giới tính (`gender`)"
    },
    {
      "cell_type": "code",
      "execution_count": 201,
      "metadata": {
        "autoscroll": "auto"
      },
      "outputs": [],
      "source": "%pyspark\nfig, ax \u003d plt.subplots(1, 2, figsize\u003d(14, 6))\n\ntotal \u003d len(cre_data[\u0027gender\u0027])\ndef fmt_num(x):\n    return \u0027{:.2f}%\\n({:.0f})\u0027.format(x, total*x/100)\n\nax[0].pie(cre_data[\u0027gender\u0027].value_counts().values, labels\u003dcre_data[\u0027gender\u0027].value_counts().index, colors\u003d[\u0027#5CEDDD\u0027,\u0027#EDD05C\u0027], textprops\u003d{\u0027fontsize\u0027: 14}, autopct\u003dfmt_num)\n\nax[1] \u003d sns.countplot(data\u003dcre_data, x\u003d\u0027gender\u0027, hue\u003d\u0027attrition_flag\u0027, order\u003dcre_data[\u0027gender\u0027].value_counts().index)\nplt.setp(ax[1].get_legend().get_title(), fontsize\u003d10)\nplt.setp(ax[1].get_legend().get_texts(), fontsize\u003d10)\nax[1].set(xlabel\u003dNone)\nax[1].set(ylabel\u003dNone)\nax[1].legend(bbox_to_anchor\u003d(1,1))\n\nfontsize\u003d15\nax[0].set_title(\u0027Phân bổ của giới tính\u0027, fontdict\u003d{\u0027fontsize\u0027: fontsize})\nax[1].set_title(\u0027Giới tính với tỉ lệ Churn\u0027, fontdict\u003d{\u0027fontsize\u0027: fontsize})\n\nplt.tight_layout()\nplt.show()\n"
    },
    {
      "cell_type": "markdown",
      "metadata": {},
      "source": "**Nhận xét**: Tập dữ liệu có tỉ lệ Nữ nhiều hơn Nam, tuy nhiên không có sự khách biệt quá lớn giữa hai giới trong tỉ lệ churn\n"
    },
    {
      "cell_type": "markdown",
      "metadata": {},
      "source": "### Trình độ học vấn (`education_level`)"
    },
    {
      "cell_type": "code",
      "execution_count": 204,
      "metadata": {
        "autoscroll": "auto"
      },
      "outputs": [],
      "source": "%pyspark\nfig, ax \u003d plt.subplots(1, 2, figsize\u003d(14, 6))\n\ntotal \u003d len(cre_data[\u0027education_level\u0027])\ndef fmt_num(x):\n    return \u0027{:.2f}%\u0027.format(x)\n\nax[0].pie(cre_data[\u0027education_level\u0027].value_counts().values, pctdistance\u003d0.7, labels\u003dcre_data[\u0027education_level\u0027].value_counts().index, colors\u003d[\u0027#FACA09\u0027,\u0027#FFE785\u0027, \u0027#DECF7C\u0027, \u0027#FCF3C0\u0027, \u0027#FAA12C\u0027, \u0027#FFCA85\u0027, \u0027#FFB452\u0027], textprops\u003d{\u0027fontsize\u0027: 14}, autopct\u003dfmt_num)\n\nax[1] \u003d sns.countplot(data\u003dcre_data, x\u003d\u0027education_level\u0027, hue\u003d\u0027attrition_flag\u0027, order\u003dcre_data[\u0027education_level\u0027].value_counts().index)\nax[1].set_xticklabels(ax[1].get_xticklabels(), rotation\u003d90)\nplt.setp(ax[1].get_legend().get_title(), fontsize\u003d10)\nplt.setp(ax[1].get_legend().get_texts(), fontsize\u003d10)\nax[1].set(xlabel\u003dNone)\nax[1].set(ylabel\u003dNone)\nax[1].legend(bbox_to_anchor\u003d(1,1))\nax[1].tick_params(labelsize\u003d14)\n\n\nfontsize\u003d15\nax[0].set_title(\u0027Phân bổ của trình độ học vấn\u0027, fontdict\u003d{\u0027fontsize\u0027: fontsize})\nax[1].set_title(\u0027Trình độ học vấn với tỉ lệ Churn\u0027, fontdict\u003d{\u0027fontsize\u0027: fontsize})\n\nplt.tight_layout()\nplt.show()\n"
    },
    {
      "cell_type": "markdown",
      "metadata": {},
      "source": "**Nhận xét**:\n- Có 15% giá trị unknown biểu thị cho việc 15% khách hàng không cung cấp thông tin về trình độ học vấn.\n- Trình độ học vấn phổ thông chiếm khoảng 50%, trong khi các trình độ cao hơn chiếm khoảng 20%.\n- Nhìn chung, không có sự khách biệt nhau rõ ràng giữa các giá trị đối với tỉ lệ churn, từ đó có thể nhận định thuộc tính này không có sự ảnh hưởng quá lớn đối với tỉ lệ rời bỏ của khách hàng."
    },
    {
      "cell_type": "markdown",
      "metadata": {},
      "source": "### Tình trạng hôn nhân (`marital_status`)"
    },
    {
      "cell_type": "code",
      "execution_count": 207,
      "metadata": {
        "autoscroll": "auto"
      },
      "outputs": [],
      "source": "%pyspark\nfig, ax \u003d plt.subplots(1, 2, figsize\u003d(14, 6))\n\ntotal \u003d len(cre_data[\u0027marital_status\u0027])\ndef fmt_num(x):\n    return \u0027{:.2f}%\u0027.format(x)\n\nax[0].pie(cre_data[\u0027marital_status\u0027].value_counts().values, pctdistance\u003d0.7, labels\u003dcre_data[\u0027marital_status\u0027].value_counts().index, colors\u003d[\u0027#FACA09\u0027,\u0027#FFE785\u0027, \u0027#DECF7C\u0027, \u0027#FCF3C0\u0027], textprops\u003d{\u0027fontsize\u0027: 14}, autopct\u003dfmt_num)\n\nax[1] \u003d sns.countplot(data\u003dcre_data, x\u003d\u0027marital_status\u0027, hue\u003d\u0027attrition_flag\u0027, order\u003dcre_data[\u0027marital_status\u0027].value_counts().index)\nax[1].set_xticklabels(ax[1].get_xticklabels(), rotation\u003d90)\nplt.setp(ax[1].get_legend().get_title(), fontsize\u003d10)\nplt.setp(ax[1].get_legend().get_texts(), fontsize\u003d10)\nax[1].set(xlabel\u003dNone)\nax[1].set(ylabel\u003dNone)\nax[1].legend(bbox_to_anchor\u003d(1,1))\nax[1].tick_params(labelsize\u003d14)\n\n\nfontsize\u003d15\nax[0].set_title(\u0027Phân bổ của tình trạng hôn nhân\u0027, fontdict\u003d{\u0027fontsize\u0027: fontsize})\nax[1].set_title(\u0027Tình trạng hôn nhân với tỉ lệ Churn\u0027, fontdict\u003d{\u0027fontsize\u0027: fontsize})\n\nplt.tight_layout()\nplt.show()\n"
    },
    {
      "cell_type": "markdown",
      "metadata": {},
      "source": "**Nhận xét**:\n- Hầu hết tình trạng hôn nhân của khách hàng là Married và Single.\n- Sự khác nhau giữa Churn và không Churn giữa các thuộc tính tình trạng hôn nhân là không rõ ràng."
    },
    {
      "cell_type": "markdown",
      "metadata": {},
      "source": "### Thu nhập của khách hàng (`income_category`)"
    },
    {
      "cell_type": "code",
      "execution_count": 210,
      "metadata": {
        "autoscroll": "auto"
      },
      "outputs": [],
      "source": "%pyspark\nfig, ax \u003d plt.subplots(1, 2, figsize\u003d(14, 6))\n\ntotal \u003d len(cre_data[\u0027income_category\u0027])\ndef fmt_num(x):\n    return \u0027{:.2f}%\u0027.format(x)\n\nax[0].pie(cre_data[\u0027income_category\u0027].value_counts().values, pctdistance\u003d0.7, labels\u003dcre_data[\u0027income_category\u0027].value_counts().index, colors\u003d[\u0027#FACA09\u0027,\u0027#FFE785\u0027, \u0027#DECF7C\u0027, \u0027#FCF3C0\u0027, \u0027#FAA12C\u0027, \u0027#FFCA85\u0027], textprops\u003d{\u0027fontsize\u0027: 14}, autopct\u003dfmt_num)\n\nax[1] \u003d sns.countplot(data\u003dcre_data, x\u003d\u0027income_category\u0027, hue\u003d\u0027attrition_flag\u0027,  order\u003dcre_data[\u0027income_category\u0027].value_counts().index)\nax[1].set_xticklabels(ax[1].get_xticklabels(), rotation\u003d90)\nplt.setp(ax[1].get_legend().get_title(), fontsize\u003d10)\nplt.setp(ax[1].get_legend().get_texts(), fontsize\u003d10)\nax[1].set(xlabel\u003dNone)\nax[1].set(ylabel\u003dNone)\nax[1].legend(bbox_to_anchor\u003d(1,1))\nax[1].tick_params(labelsize\u003d14)\n\n\nfontsize\u003d15\nax[0].set_title(\u0027Phân bổ của thu nhập\u0027, fontdict\u003d{\u0027fontsize\u0027: fontsize})\nax[1].set_title(\u0027Thu nhập với tỉ lệ Churn\u0027, fontdict\u003d{\u0027fontsize\u0027: fontsize})\n\nplt.tight_layout()\nplt.show()\n"
    },
    {
      "cell_type": "markdown",
      "metadata": {},
      "source": "**Nhận xét**:\n- Phần lớn khách hàng có thu nhập bình quân hàng năm nằm ở mức trung bình.\n- Có gần 11% giá trị Unknown. Có thể là do khách hàng không cung cấp thông tin về thu nhập cho phía ngân hàng.\n- Chỉ có một số ít khách hàng có thu nhập ở mức cao.\n- Những khách hàng có mức thu nhập thấp thì chiếm số lượng rời bỏ cao hơn.\n- Sự tương quan giữa thu nhập và tỉ lệ churn cũng không được rõ ràng như những thuộc tính phân loại trước."
    },
    {
      "cell_type": "markdown",
      "metadata": {},
      "source": "### Phân loại thẻ (`card_category`)"
    },
    {
      "cell_type": "code",
      "execution_count": 213,
      "metadata": {
        "autoscroll": "auto"
      },
      "outputs": [],
      "source": "%pyspark\nfig, ax \u003d plt.subplots(1, 2, figsize\u003d(14, 6))\n\ntotal \u003d len(cre_data[\u0027card_category\u0027])\ndef fmt_num(x):\n    return \u0027{:.2f}%\u0027.format(x)\n\nax[0].pie(cre_data[\u0027card_category\u0027].value_counts().values, pctdistance\u003d0.7, labels\u003dcre_data[\u0027card_category\u0027].value_counts().index ,colors\u003d[\u0027#FACA09\u0027,\u0027#FFE785\u0027, \u0027#DECF7C\u0027, \u0027#FCF3C0\u0027], textprops\u003d{\u0027fontsize\u0027: 14}, autopct\u003dfmt_num)\n\nax[1] \u003d sns.countplot(data\u003dcre_data, x\u003d\u0027card_category\u0027, hue\u003d\u0027attrition_flag\u0027, order\u003dcre_data[\u0027card_category\u0027].value_counts().index)\nax[1].set_xticklabels(ax[1].get_xticklabels(), rotation\u003d90)\nplt.setp(ax[1].get_legend().get_title(), fontsize\u003d10)\nplt.setp(ax[1].get_legend().get_texts(), fontsize\u003d10)\nax[1].set(xlabel\u003dNone)\nax[1].set(ylabel\u003dNone)\nax[1].legend(bbox_to_anchor\u003d(1,1))\nax[1].tick_params(labelsize\u003d14)\n\n\nfontsize\u003d15\nax[0].set_title(\u0027Phân bổ của phân loại thẻ\u0027, fontdict\u003d{\u0027fontsize\u0027: fontsize})\nax[1].set_title(\u0027Phân loại thẻ với tỉ lệ Churn\u0027, fontdict\u003d{\u0027fontsize\u0027: fontsize})\n\nplt.tight_layout()\nplt.show()\n"
    },
    {
      "cell_type": "markdown",
      "metadata": {},
      "source": "**Nhận xét**:\n- Ta thấy rằng hầu hết khách hàng sử dụng thẻ xanh (khoảng 90%).\n- Những loại thẻ cao cấp hơn có tỉ lệ rất thấp (tổng dưới 10%).\n- Tương tự các thuộc tính trước, không có sự rõ ràng về mối quan hệ giữa phân loại thẻ và tỉ lệ churn.\n"
    },
    {
      "cell_type": "markdown",
      "metadata": {},
      "source": "**Kết luận**: Sau khi phân tích sơ bộ về các thuộc tính định lượng, ta thấy được ràng các thuộc tính định lượng có thể không có những ảnh hưởng rõ ràng đến tỉ lệ churn."
    },
    {
      "cell_type": "markdown",
      "metadata": {},
      "source": "## 4. Phân tích mối tương quan giữa các thuộc tính và tỉ lệ Churn"
    },
    {
      "cell_type": "markdown",
      "metadata": {},
      "source": "### 4.1. Phân tích mối quan hệ giữa các thuộc tính định lượng với `attrition_flag`"
    },
    {
      "cell_type": "markdown",
      "metadata": {},
      "source": "### 4.1.1. Phân tích tổng thề bằng biểu đồ Pairplot"
    },
    {
      "cell_type": "code",
      "execution_count": 219,
      "metadata": {
        "autoscroll": "auto"
      },
      "outputs": [],
      "source": "%pyspark\nsns.pairplot(data\u003dcre_data, hue\u003d\u0027attrition_flag\u0027, diag_kind\u003d\u0027hist\u0027, corner\u003dTrue)\nplt.tight_layout()\nplt.show()\n"
    },
    {
      "cell_type": "markdown",
      "metadata": {},
      "source": "**Nhận xét**: Dựa trên đồ thị pairplot ở trên, ta nhận ra một số đặc điểm như sau:\n- Có sự tương quan tuyến tính rõ ràng giữa thuộc tính credit_limit và avg_open_to_buy\n- Các giá trị thấp của thuộc tính total_trans_amt, total_amt_chg_q4_q1, total_trans_ct có số lượng khách hàng rời bỏ cao hơn nhiều so với những giá trị cao.\n- Ta có thể thấy được có một số cụm được hình thành ở các thuộc tính total_trans_amt, total_trans_ct, total-ct_chng_q4_q1."
    },
    {
      "cell_type": "markdown",
      "metadata": {},
      "source": "### 4.1.2 Phân tích mối tương quan của các thuộc tính bằng Heatmap"
    },
    {
      "cell_type": "code",
      "execution_count": 222,
      "metadata": {
        "autoscroll": "auto"
      },
      "outputs": [],
      "source": "\n%pyspark \ncre_data[\u0027attrition_flag\u0027] \u003d np.where(cre_data[\u0027attrition_flag\u0027]\u003d\u003d\u0027Attrited Customer\u0027,1,0)\ncorrelation \u003d cre_data.corr()\nplt.figure(figsize\u003d(20, 15))\n\nsns.heatmap(correlation,vmin\u003d-1,vmax\u003d1,annot\u003dTrue)\nplt.show()"
    },
    {
      "cell_type": "markdown",
      "metadata": {},
      "source": "**Nhận xét**: Quan sát biểu đồ nhiệt trên, ta thấy được một vài đặc điểm như sau:\n- Xét về thuộc tính attrtion_flag, ta thấy ràng ít có mối tương quan mạnh với thuộc tính này. Một vài mối tương quan tiêu biểu có thể kể đến như: với total_trans_ct(-0.37), total_ct_chng_q4_q1(-0.29),  months_inactive_12_mon(0.15), contacts_count_12_mon(0.2).\n- Đối với mối quan tương quan giữa các thuộc tính khách, ta thấy credit_limit và avg_open_to_buy có mức tương quan rất cao(\u003d1), months_on_book và customer_age (0.79) và , total_revolving_balvà avg_utilization_ratio(0.62). Những mối tương quan này tương đối dễ hiểu, khách hàng có hạn mức càng cao thì khả năng sẵn sàng chi trả của họ càng cao, khách hàng có độ tuổi càng cao thì số tháng gắn bó với ngân hàng của họ cũng cao hơn, hay khách hàng số vốn xoay vòng cao thì trung bình họ sử dụng thẻ tín dụng để chi trả cũng cao hơn rất nhiều."
    },
    {
      "cell_type": "markdown",
      "metadata": {},
      "source": "### 4.2. Mối tương quan giữa attrition_flag với các thuộc tính khác\nThay vì ở phần trước, ta chi xét mối tương quan giữa attrition_flag với các thuộc tính đinh lượng, ở phần này ta sẽ xét mối tương quan của thuộc tính với cả thuộc tính định lượng và phân loại để có cái nhìn chắc chắc hơn về mối quan hệ của các thuộc tính. "
    },
    {
      "cell_type": "markdown",
      "metadata": {},
      "source": "### Tạo giá trị dummies cho thuộc tính phân loại"
    },
    {
      "cell_type": "code",
      "execution_count": 226,
      "metadata": {
        "autoscroll": "auto"
      },
      "outputs": [],
      "source": "%pyspark\ndum_data \u003d cre_data.copy()\ndum_data_num \u003d pd.get_dummies(dum_data)"
    },
    {
      "cell_type": "code",
      "execution_count": 227,
      "metadata": {
        "autoscroll": "auto"
      },
      "outputs": [],
      "source": "%pyspark\nplt.figure(figsize\u003d(20, 10))\ndum_data_num.corr()[\u0027attrition_flag\u0027].sort_values(ascending\u003dFalse).plot(kind\u003d\u0027bar\u0027)\nplt.title(\u0027Mối tương quản giữa churn với các biến giá trị khác\u0027)\nplt.tick_params(labelsize\u003d14)\nplt.show()"
    },
    {
      "cell_type": "markdown",
      "metadata": {},
      "source": "**Nhận xét**: Dựa vào hình trên, ta có thể đưa ra những nhận định rõ ràng hơn về mối tương quan giữa các thuộc tính với tỉ lệ churn như sau:\n- Đối với mối tương quan dương, ta có những thuộc tính có mối tương quan ở mức cao với tỉ lệ churn bao gôm contacts_ct_12_mon và months_inactive_12_mon.\n- Đối với mối tương quan âm, ta có những thuộc tính nổi bật như: total_trans_ct, total_ct_chng_q4_q1, và total_revolving_bal.\n- Những nhận định trên tương đối thực tế, ví dụ như, khách hàng có số lần giao dịch cao thì có ít nguy cơ từ bỏ dịch vụ hơn, hay khách hàng có số tháng không hoạt động cao thì nguy cơ từ bỏ của họ cao hơn mức bình thường. \n- Một điểm thú vị là những khách hàng có số lần liên lạc với ngân hàng nhiều có nguy cơ rời bỏ cao nhất so với những thuộc tính khác. Điều này xảy ra có thể là do việc khách hàng liên lạc nhiều lần có thể là do họ phàn nàn về dịch vụ và sau nhiều lần phàn nàn không thành công thì họ hết kiên nhẫn và rời bỏ dịch vụ đó."
    },
    {
      "cell_type": "markdown",
      "metadata": {},
      "source": "### 5. Kết luận sau khi phân tích EDA\n- Các thuộc tính có mối quan hệ với tỉ lệ churn bao gồm:\n    + contacts_ct_12_mon\n    + months_inactive_12_mon\n    + total_trans_ct.\n    + total_ct_chng_q4_q1.\n    + total_revolving_bal.\n- Thuộc tính credit_limt có mối tương quan tuyến tính mạnh với avg_open_to_buy.\n- Hầu hết khách hàng của ngân hàng là những người có thu nhập thấp, và tệp khách hàng thu nhập thấp cũng có số lượng rời bỏ nhiều hơn"
    },
    {
      "cell_type": "markdown",
      "metadata": {},
      "source": ""
    },
    {
      "cell_type": "markdown",
      "metadata": {},
      "source": "## Tập dữ liệu thứ ba: Telecom Company Churn Rate, Call Center Data"
    },
    {
      "cell_type": "markdown",
      "metadata": {},
      "source": "## 1.Tổng quan về dữ liệu"
    },
    {
      "cell_type": "code",
      "execution_count": 233,
      "metadata": {
        "autoscroll": "auto"
      },
      "outputs": [],
      "source": "%python\nfrom matplotlib import pyplot as plt\nimport seaborn as sns\nimport numpy as np\nimport pandas as pd\nimport seaborn as sns\nfrom matplotlib import pyplot as plt\nfrom collections import Counter"
    },
    {
      "cell_type": "markdown",
      "metadata": {},
      "source": "### 1.1 Load dữ liệu"
    },
    {
      "cell_type": "code",
      "execution_count": 235,
      "metadata": {
        "autoscroll": "auto"
      },
      "outputs": [],
      "source": "%python\nfile_path \u003d\"https://drive.google.com/uc?export\u003ddownload\u0026id\u003d1jMazv2yoYR9tEG1gJ6WF9BdE5EN3T8m_\"\ndf \u003d pd.read_csv(file_path)"
    },
    {
      "cell_type": "markdown",
      "metadata": {},
      "source": "### 1.2 Thông tin về dataset"
    },
    {
      "cell_type": "markdown",
      "metadata": {},
      "source": "Bộ dữ liệu bao gồm thông tin về:\n\n* Khách hàng đã rời đi trong tháng trước – cột có tên là Churn\n* Các dịch vụ mà mỗi khách hàng đã đăng ký – điện thoại, nhiều đường dây, internet, bảo mật trực tuyến, sao lưu trực tuyến, bảo vệ thiết bị, hỗ trợ kỹ thuật và truyền phát trực tuyến TV và phim\n* Thông tin tài khoản khách hàng - họ đã là khách hàng được bao lâu, hợp đồng, phương thức thanh toán, thanh toán không cần giấy tờ, phí hàng tháng và tổng phí\n* Thông tin nhân khẩu học về khách hàng - giới tính, độ tuổi và liệu họ có đối tác và người phụ thuộc hay không"
    },
    {
      "cell_type": "code",
      "execution_count": 238,
      "metadata": {
        "autoscroll": "auto"
      },
      "outputs": [],
      "source": "%python\ndf.info()"
    },
    {
      "cell_type": "markdown",
      "metadata": {},
      "source": "\u003cdiv \u003e\n\u003cul\u003e\n\u003cli\u003eCó tổng cộng 21 cột: 3 cột số, 16 cột phân loại, 1 cột id và 1 cột mục tiêu\n\u003cli\u003e\u0027Tổng phí\u0027 cung cấp một giá trị số, nhưng các số này được lưu trữ dưới dạng đối tượng\n\u003cli\u003eMột số tính năng phân loại được lưu trữ dưới dạng chuỗi\n\u003cli\u003eCó 7043 hàng trong toàn bộ tập dữ liệu\n\u003cli\u003eChurn là biến mục tiêu\n\u003c/ul\u003e\n\u003c/div\u003e"
    },
    {
      "cell_type": "markdown",
      "metadata": {},
      "source": "### 1.3 Khám phá tổng quan về dữ liệu"
    },
    {
      "cell_type": "code",
      "execution_count": 241,
      "metadata": {
        "autoscroll": "auto"
      },
      "outputs": [],
      "source": "%python\ndf.head()"
    },
    {
      "cell_type": "markdown",
      "metadata": {},
      "source": "### 1.4 Thuộc tính dữ liệu"
    },
    {
      "cell_type": "markdown",
      "metadata": {},
      "source": "* \u003ccode\u003ecustomerID\u003c/code\u003e - ID khách hàng\n\n* \u003ccode\u003egender\u003c/code\u003e -giới tính (nữ, nam)\n\n* \u003ccode\u003eSeniorCitizen\u003c/code\u003e - Khách hàng có phải là người cao tuổi hay không (1, 0)\n\n* \u003ccode\u003ePartner\u003c/code\u003e - khách hàng có đối tác hay không (Yes, No)\n\n* \u003ccode\u003eDependents\u003c/code\u003e - Khách hàng có người phụ thuộc hay không (Yes, No)\n\n* \u003ccode\u003etenure\u003c/code\u003e - Số tháng khách hàng đã gắn bó với công ty\n* \u003ccode\u003ePhoneService\u003c/code\u003e - Khách hàng có dịch vụ điện thoại hay không  (Yes, No)\n\n* \u003ccode\u003eMultipleLines\u003c/code\u003e - Khách hàng có dịch vụ đa dòng hay không  (Yes, No, No phone service)\n\n* \u003ccode\u003eInternetService\u003c/code\u003e - Nhà cung cấp dịch vụ internet của khách hàng  (DSL, Fiber optic, No)\n\n* \u003ccode\u003eOnlineSecurity\u003c/code\u003e - Khách hàng có bảo mật trực tuyến hay không  (Yes, No, No internet service)\n\n* \u003ccode\u003eOnlineBackup\u003c/code\u003e - Khách hàng có sao lưu trực tuyến hay không  (Yes, No, No internet service)\n\n* \u003ccode\u003eDeviceProtection\u003c/code\u003e - Khách hàng có bảo vệ thiết bị hay không (Yes, No, No internet service)\n\n* \u003ccode\u003eTechSupport\u003c/code\u003e - Khách hàng có được hỗ trợ kỹ thuật hay không  (Yes, No, No internet service)\n\n* \u003ccode\u003eStreamingTV\u003c/code\u003e - Khách hàng có truyền hình trực tuyến hay không  (Yes, No, No internet service)\n\n* \u003ccode\u003eStreamingMovies\u003c/code\u003e - Khách hàng có streaming phim hay không  (Yes, No, No internet service)\n\n* \u003ccode\u003eContract\u003c/code\u003e - Thời hạn hợp đồng của khách hàng  (Month-to-month, One year, Two year)\n\n* \u003ccode\u003ePaperlessBilling\u003c/code\u003e - Khách hàng có thanh toán không cần giấy tờ hay không  (Yes, No)\n\n* \u003ccode\u003ePaymentMethod\u003c/code\u003e - Phương thức thanh toán của khách hàng (Electronic check, Mailed check, Bank transfer (automatic), Credit card (automatic))\n\n* \u003ccode\u003eMonthlyCharges\u003c/code\u003e - Số tiền phải trả mà khách hàng hàng tháng\n* \u003ccode\u003eTotalCharges\u003c/code\u003e - Tổng số tiền phải trả mà khách hàng\n* \u003ccode\u003eChurn\u003c/code\u003e - Khách hàng có rời bỏ hay không "
    },
    {
      "cell_type": "markdown",
      "metadata": {},
      "source": "## 2. Tiền xử lý dữ liệu"
    },
    {
      "cell_type": "markdown",
      "metadata": {},
      "source": "Ta không cần cột ID khách hàng nên sẽ xóa nó."
    },
    {
      "cell_type": "code",
      "execution_count": 246,
      "metadata": {
        "autoscroll": "auto"
      },
      "outputs": [],
      "source": "%python\ndata\u003ddf.drop(\u0027customerID\u0027, axis\u003d1)"
    },
    {
      "cell_type": "markdown",
      "metadata": {},
      "source": "### 2.1Xử lý các giá trị rỗng"
    },
    {
      "cell_type": "code",
      "execution_count": 248,
      "metadata": {
        "autoscroll": "auto"
      },
      "outputs": [],
      "source": "%python\ndata.isna().sum()"
    },
    {
      "cell_type": "markdown",
      "metadata": {},
      "source": "Không có dữ liệu rỗng trong tập dữ liệu"
    },
    {
      "cell_type": "markdown",
      "metadata": {},
      "source": "### 2.2 Xử lý lỗi: không thể chuyển đổi chuỗi thành float"
    },
    {
      "cell_type": "code",
      "execution_count": 251,
      "metadata": {
        "autoscroll": "auto"
      },
      "outputs": [],
      "source": "%python\n# df[\u0027TotalCharges\u0027] \u003d df[\u0027TotalCharges\u0027].astype(float)"
    },
    {
      "cell_type": "markdown",
      "metadata": {},
      "source": "* Sẽ xảy ra lỗi khi chuyển đổi chuỗi thành float\n* Ta có thể có các chuỗi trống trong cột \u0027TotalCharges\u0027, nhưng vì chúng được xác định là chuỗi nên chúng không xuất hiện dưới dạng Giá trị Null.\n* Ta sẽ loại bỏ các hàng trên khỏi tập dữ liệu và chuyển đổi chuỗi thành float"
    },
    {
      "cell_type": "code",
      "execution_count": 253,
      "metadata": {
        "autoscroll": "auto"
      },
      "outputs": [],
      "source": "%python\nstep1 \u003d [len(i.split()) for i in df[\u0027TotalCharges\u0027]]\nstep2 \u003d [i for i in range(len(step1)) if step1[i] !\u003d 1]\nprint(\u0027Số mục có chuỗi trống: \u0027, len(step2))"
    },
    {
      "cell_type": "code",
      "execution_count": 254,
      "metadata": {
        "autoscroll": "auto"
      },
      "outputs": [],
      "source": "%python\ndata\u003d data.drop(step2, axis \u003d 0).reset_index(drop\u003dTrue)"
    },
    {
      "cell_type": "code",
      "execution_count": 255,
      "metadata": {
        "autoscroll": "auto"
      },
      "outputs": [],
      "source": "%python\ndata[\u0027TotalCharges\u0027] \u003d data[\u0027TotalCharges\u0027].astype(float)"
    },
    {
      "cell_type": "markdown",
      "metadata": {},
      "source": "### 2.3 Xử lý các giá trị trùng lặp"
    },
    {
      "cell_type": "code",
      "execution_count": 257,
      "metadata": {
        "autoscroll": "auto"
      },
      "outputs": [],
      "source": "%python\nprint(\u0027Số lượng giá trị trùng lặp trong tập dữ liệu:\u0027, data.duplicated().sum())"
    },
    {
      "cell_type": "code",
      "execution_count": 258,
      "metadata": {
        "autoscroll": "auto"
      },
      "outputs": [],
      "source": "%python\ndata.drop_duplicates(inplace\u003dTrue)"
    },
    {
      "cell_type": "code",
      "execution_count": 259,
      "metadata": {
        "autoscroll": "auto"
      },
      "outputs": [],
      "source": "%python\ndata.info()"
    },
    {
      "cell_type": "markdown",
      "metadata": {},
      "source": "### 2.4 Label Encoding"
    },
    {
      "cell_type": "code",
      "execution_count": 261,
      "metadata": {
        "autoscroll": "auto"
      },
      "outputs": [],
      "source": "%python\ncolumns \u003d list(data.columns)\n\ncategoric_columns \u003d []\nnumeric_columns \u003d []\n\nfor i in columns:\n    if len(data[i].unique()) \u003e 6:\n        numeric_columns.append(i)\n    else:\n        categoric_columns.append(i)\n\ncategoric_columns \u003d categoric_columns[:-1]"
    },
    {
      "cell_type": "markdown",
      "metadata": {},
      "source": "Các thuộc tính định lượng"
    },
    {
      "cell_type": "code",
      "execution_count": 263,
      "metadata": {
        "autoscroll": "auto"
      },
      "outputs": [],
      "source": "%python\nnumeric_columns"
    },
    {
      "cell_type": "markdown",
      "metadata": {},
      "source": "Các thuộc tính phân loại"
    },
    {
      "cell_type": "code",
      "execution_count": 265,
      "metadata": {
        "autoscroll": "auto"
      },
      "outputs": [],
      "source": "%python\ncategoric_columns"
    },
    {
      "cell_type": "markdown",
      "metadata": {},
      "source": "Cài đặt thư viện sklearn"
    },
    {
      "cell_type": "code",
      "execution_count": 267,
      "metadata": {
        "autoscroll": "auto"
      },
      "outputs": [],
      "source": "%sh\npip install scikit-learn"
    },
    {
      "cell_type": "code",
      "execution_count": 268,
      "metadata": {
        "autoscroll": "auto"
      },
      "outputs": [],
      "source": "%python\nfrom sklearn.preprocessing import LabelEncoder\nle \u003d LabelEncoder()\n\ndf \u003d data.copy()\n\ndf[categoric_columns] \u003d df[categoric_columns].apply(le.fit_transform)\ndf[[\u0027Churn\u0027]] \u003d df[[\u0027Churn\u0027]].apply(le.fit_transform)"
    },
    {
      "cell_type": "code",
      "execution_count": 269,
      "metadata": {
        "autoscroll": "auto"
      },
      "outputs": [],
      "source": "%python\ndf[numeric_columns].describe()"
    },
    {
      "cell_type": "code",
      "execution_count": 270,
      "metadata": {
        "autoscroll": "auto"
      },
      "outputs": [],
      "source": "%python\ndf.info()"
    },
    {
      "cell_type": "markdown",
      "metadata": {},
      "source": "### 2.5 Dummies"
    },
    {
      "cell_type": "code",
      "execution_count": 272,
      "metadata": {
        "autoscroll": "auto"
      },
      "outputs": [],
      "source": "%python\ndf_dummies\u003ddata.copy()\ndf_dummies[\u0027Churn\u0027].replace(to_replace\u003d\u0027Yes\u0027, value\u003d1, inplace\u003dTrue)\ndf_dummies[\u0027Churn\u0027].replace(to_replace\u003d\u0027No\u0027,  value\u003d0, inplace\u003dTrue)\n\ndf_dummies \u003d pd.get_dummies(df_dummies)\ndf_dummies \u003d df_dummies.astype(int)\ndf_dummies.info()"
    },
    {
      "cell_type": "markdown",
      "metadata": {},
      "source": "## 3. Phân tích dữ liệu"
    },
    {
      "cell_type": "markdown",
      "metadata": {},
      "source": "### 3.1 Biến mục tiêu Churn"
    },
    {
      "cell_type": "code",
      "execution_count": 275,
      "metadata": {
        "autoscroll": "auto"
      },
      "outputs": [],
      "source": "%python\nl1 \u003d list(df[\u0027Churn\u0027].value_counts())\npie_values \u003d [l1[0] / sum(l1) * 100, l1[1] / sum(l1) * 100]\ncolorsChurn\u003d [\u0027#BBFFFF\u0027,\u0027#FA8072\u0027]\nplt.pie(pie_values,labels \u003d [\u0027Not-Churn Customers\u0027,\u0027Churn Customers\u0027],autopct \u003d \u0027%1.2f%%\u0027,wedgeprops\u003d {\u0027edgecolor\u0027: \u0027black\u0027,\u0027linewidth\u0027: 1, \u0027antialiased\u0027 : True},colors\u003dcolorsChurn)\nplt.title(\u0027Churn and Not-Churn Customers %\u0027)\nplt.show()\n"
    },
    {
      "cell_type": "markdown",
      "metadata": {},
      "source": "* Bộ dữ liệu mất cân bằng với tỷ lệ gần như 1:4"
    },
    {
      "cell_type": "markdown",
      "metadata": {},
      "source": "### 3.2 Thuộc tính định lượng"
    },
    {
      "cell_type": "markdown",
      "metadata": {},
      "source": "Chỉ có ba cột dữ liệu số: tenure, monthly charges and total charges. Phân bố mật độ xác suất có thể được ước tính bằng cách sử dụng hàm histplot seaborn."
    },
    {
      "cell_type": "code",
      "execution_count": 279,
      "metadata": {
        "autoscroll": "auto"
      },
      "outputs": [],
      "source": "%python\ndef histplot(feature):\n    plt.figure(figsize\u003d(9, 4))\n    plt.title(\"Histogram for {}\".format(feature))\n    sns.histplot(data[data[\u0027Churn\u0027] \u003d\u003d \u0027No\u0027][feature].dropna(), color\u003d \u0027#BBFFFF\u0027,label\u003d \u0027Churn: No\u0027)\n    sns.histplot(data[data[\u0027Churn\u0027] \u003d\u003d \u0027Yes\u0027][feature].dropna(), color\u003d \u0027#FA8072\u0027,label\u003d \u0027Churn: Yes\u0027)\n    plt.legend()\n    plt.xlabel(feature)\n    plt.ylabel(\u0027Density\u0027)\n    plt.show()\nhistplot(\u0027tenure\u0027)\nhistplot(\u0027MonthlyCharges\u0027)\nhistplot(\u0027TotalCharges\u0027)"
    },
    {
      "cell_type": "code",
      "execution_count": 280,
      "metadata": {
        "autoscroll": "auto"
      },
      "outputs": [],
      "source": "%python\nselected_columns \u003d [\u0027tenure\u0027, \u0027MonthlyCharges\u0027, \u0027TotalCharges\u0027]\nsns.pairplot(df[selected_columns])\nplt.show()"
    },
    {
      "cell_type": "markdown",
      "metadata": {},
      "source": "Từ các đồ thị trên ta có thể kết luận rằng:\n\n* Khách hàng có giá trị tenure thấp hoặc TotalCharges thấp có nhiều khả năng rời bỏ\n\n* Khách hàng có Phí hàng tháng(MonthlyCharges) cao hơn cũng có nhiều khả năng rời bỏ hơn\n\n* Tenure và TotalCharges có lẽ là những thuộc tính quan trọng"
    },
    {
      "cell_type": "markdown",
      "metadata": {},
      "source": "## 3.2 Thuộc tính phân loại "
    },
    {
      "cell_type": "markdown",
      "metadata": {},
      "source": "Bộ dữ liệu này có 16 thuộc tính phân loại:\n* Sáu thuộc tính nhị phân (Có/Không)\n* Chín thuộc tính tính với ba giá trị duy nhất cho mỗi thuộc tính (danh mục)\n* Một thuộc tính có bốn giá trị duy nhất"
    },
    {
      "cell_type": "markdown",
      "metadata": {},
      "source": "### 3.3 Về khách hàng"
    },
    {
      "cell_type": "code",
      "execution_count": 285,
      "metadata": {
        "autoscroll": "auto"
      },
      "outputs": [],
      "source": "%python\nl3 \u003d list(data[\u0027gender\u0027].value_counts())\npie_values \u003d [l3[0] / sum(l3) * 100, l3[1] / sum(l3) * 100]\nfig \u003d plt.subplots(nrows \u003d 1,ncols \u003d 2,figsize \u003d (20,7))\ncolors \u003d [\u0027#66b3ff\u0027,\u0027#ff9999\u0027]\nplt.subplot(1,2,1)\nplt.pie(pie_values,labels \u003d [\u0027No\u0027,\u0027Yes\u0027],autopct \u003d \u0027%1.2f%%\u0027,wedgeprops\u003d {\u0027edgecolor\u0027: \u0027black\u0027,\u0027linewidth\u0027: 1, \u0027antialiased\u0027 : True},colors\u003dcolors)\nplt.title(\u0027gender %\u0027)\nplt.subplot(1,2,2)\nax\u003dsns.countplot(data \u003d data, x \u003d \u0027gender\u0027,hue\u003d\u0027Churn\u0027,alpha\u003d0.8,palette\u003dcolorsChurn, edgecolor\u003d\u0027black\u0027, linewidth\u003d1.5)\nfor p in ax.patches:\n    ax.annotate(f\u0027{p.get_height()}\u0027, (p.get_x() + p.get_width() / 2., p.get_height()), ha\u003d\u0027center\u0027, va\u003d\u0027bottom\u0027)\nplt.show()"
    },
    {
      "cell_type": "code",
      "execution_count": 286,
      "metadata": {
        "autoscroll": "auto"
      },
      "outputs": [],
      "source": "%python\nl3 \u003d list(data[\u0027SeniorCitizen\u0027].value_counts())\npie_values \u003d [l3[0] / sum(l3) * 100, l3[1] / sum(l3) * 100]\nfig \u003d plt.subplots(nrows \u003d 1,ncols \u003d 2,figsize \u003d (20,7))\ncolors \u003d [\u0027#66b3ff\u0027,\u0027#ff9999\u0027]\nplt.subplot(1,2,1)\nplt.pie(pie_values,labels \u003d [\u0027No\u0027,\u0027Yes\u0027],autopct \u003d \u0027%1.2f%%\u0027,wedgeprops\u003d {\u0027edgecolor\u0027: \u0027black\u0027,\u0027linewidth\u0027: 1, \u0027antialiased\u0027 : True},colors\u003dcolors)\nplt.title(\u0027SeniorCitizen %\u0027)\nplt.subplot(1,2,2)\nax\u003dsns.countplot(data \u003d data, x \u003d \u0027SeniorCitizen\u0027,hue\u003d\u0027Churn\u0027,alpha\u003d0.8,palette\u003dcolorsChurn, edgecolor\u003d\u0027black\u0027, linewidth\u003d1.5)\nfor p in ax.patches:\n    ax.annotate(f\u0027{p.get_height()}\u0027, (p.get_x() + p.get_width() / 2., p.get_height()), ha\u003d\u0027center\u0027, va\u003d\u0027bottom\u0027)\nplt.show()"
    },
    {
      "cell_type": "markdown",
      "metadata": {},
      "source": "**Nhận xét**:\n* Từ dữ liệu trên, ta có thể nói rằng dữ liệu được cân bằng về giới tính. \n* Giới tính không phải là dấu hiệu của sự rời bỏ.\n* Không có mối quan hệ đặc biệt nào giữa các giá trị phân loại này và các đặc điểm số chính."
    },
    {
      "cell_type": "code",
      "execution_count": 288,
      "metadata": {
        "autoscroll": "auto"
      },
      "outputs": [],
      "source": "%python\nl4 \u003d list(data[\u0027Partner\u0027].value_counts())\npie_values \u003d [l4[0] / sum(l4) * 100, l4[1] / sum(l4) * 100]\nfig \u003d plt.subplots(nrows \u003d 1,ncols \u003d 2,figsize \u003d (20,7))\ncolors \u003d [\u0027#66b3ff\u0027,\u0027#ff9999\u0027]\nplt.subplot(1,2,1)\nplt.pie(pie_values,labels \u003d [\u0027No\u0027,\u0027Yes\u0027],autopct \u003d \u0027%1.2f%%\u0027,wedgeprops\u003d {\u0027edgecolor\u0027: \u0027black\u0027,\u0027linewidth\u0027: 1, \u0027antialiased\u0027 : True},colors\u003dcolors)\nplt.title(\u0027Partner %\u0027)\nplt.subplot(1,2,2)\nax\u003dsns.countplot(data \u003d data, x \u003d \u0027Partner\u0027,hue\u003d\u0027Churn\u0027,alpha\u003d0.8,palette\u003dcolorsChurn, edgecolor\u003d\u0027black\u0027, linewidth\u003d1.5)\nfor p in ax.patches:\n    ax.annotate(f\u0027{p.get_height()}\u0027, (p.get_x() + p.get_width() / 2., p.get_height()), ha\u003d\u0027center\u0027, va\u003d\u0027bottom\u0027)\nplt.show()"
    },
    {
      "cell_type": "code",
      "execution_count": 289,
      "metadata": {
        "autoscroll": "auto"
      },
      "outputs": [],
      "source": "%python\nl5 \u003d list(data[\u0027Dependents\u0027].value_counts())\npie_values \u003d [l5[0] / sum(l5) * 100, l5[1] / sum(l5) * 100]\nfig \u003d plt.subplots(nrows \u003d 1,ncols \u003d 2,figsize \u003d (20,7))\ncolors \u003d [\u0027#66b3ff\u0027,\u0027#ff9999\u0027]\nplt.subplot(1,2,1)\nplt.pie(pie_values,labels \u003d [\u0027No\u0027,\u0027Yes\u0027],autopct \u003d \u0027%1.2f%%\u0027,wedgeprops\u003d {\u0027edgecolor\u0027: \u0027black\u0027,\u0027linewidth\u0027: 1, \u0027antialiased\u0027 : True},colors\u003dcolors)\nplt.title(\u0027Dependents %\u0027)\nplt.subplot(1,2,2)\nax\u003dsns.countplot(data \u003d data, x \u003d \u0027Dependents\u0027,hue\u003d\u0027Churn\u0027,alpha\u003d0.8,palette\u003dcolorsChurn, edgecolor\u003d\u0027black\u0027, linewidth\u003d1.5)\nfor p in ax.patches:\n    ax.annotate(f\u0027{p.get_height()}\u0027, (p.get_x() + p.get_width() / 2., p.get_height()), ha\u003d\u0027center\u0027, va\u003d\u0027bottom\u0027)\nplt.show()"
    },
    {
      "cell_type": "markdown",
      "metadata": {},
      "source": "**Nhận xét**:\n* Khách hàng không có Partner có nhiều khả năng rời bỏ hơn\n* Khách hàng không có Dependents cũng có nhiều khả năng rời bỏ"
    },
    {
      "cell_type": "markdown",
      "metadata": {},
      "source": "### 3.3 Về dịch vụ"
    },
    {
      "cell_type": "markdown",
      "metadata": {},
      "source": "Bây giờ chúng ta hãy nhìn vào các dịch vụ mà khách hàng đang sử dụng. Chỉ có hai dịch vụ chính: PhoneService và InternetService nhưng dịch vụ trước có nhiều dịch vụ bổ sung như OnlineBackup, OnlineSecurity,..."
    },
    {
      "cell_type": "code",
      "execution_count": 293,
      "metadata": {
        "autoscroll": "auto"
      },
      "outputs": [],
      "source": "%python\nphone \u003d data[df[\u0027Churn\u0027] \u003d\u003d 1][\u0027PhoneService\u0027].value_counts()\npie_values1 \u003d [phone[0] / sum(phone) * 100, phone[1] / sum(phone) * 100]\n\nMultipleLines \u003d data[df[\u0027Churn\u0027] \u003d\u003d 1][\u0027MultipleLines\u0027].value_counts()\npie_values2 \u003d [MultipleLines[0] / sum(MultipleLines) * 100, MultipleLines[1] / sum(MultipleLines) * 100, MultipleLines[2] / sum(MultipleLines) * 100]\n\nInternetService \u003d data[df[\u0027Churn\u0027] \u003d\u003d 1][\u0027InternetService\u0027].value_counts()\npie_values3 \u003d [InternetService[0] / sum(InternetService) * 100, InternetService[1] / sum(InternetService) * 100, InternetService[2] / sum(InternetService) * 100]\n\nStreamingTV \u003d data[df[\u0027Churn\u0027] \u003d\u003d 1][\u0027StreamingTV\u0027].value_counts()\npie_values4 \u003d [StreamingTV[0] / sum(StreamingTV) * 100, StreamingTV[1] / sum(StreamingTV) * 100, StreamingTV[2] / sum(StreamingTV) * 100]\n\nStreamingMovies \u003d data[df[\u0027Churn\u0027] \u003d\u003d 1][\u0027StreamingMovies\u0027].value_counts()\npie_values5 \u003d [StreamingMovies[0] / sum(StreamingMovies) * 100, StreamingMovies[1] / sum(StreamingMovies) * 100, StreamingMovies[2] / sum(StreamingMovies) * 100]\n\nOnlineSecurity \u003d data[df[\u0027Churn\u0027] \u003d\u003d 1][\u0027OnlineSecurity\u0027].value_counts()\npie_values6 \u003d [OnlineSecurity[0] / sum(OnlineSecurity) * 100, OnlineSecurity[1] / sum(OnlineSecurity) * 100, OnlineSecurity[2] / sum(OnlineSecurity) * 100]\n\nOnlineBackup \u003d data[df[\u0027Churn\u0027] \u003d\u003d 1][\u0027OnlineBackup\u0027].value_counts()\npie_values7 \u003d [OnlineBackup[0] / sum(OnlineBackup) * 100, OnlineBackup[1] / sum(OnlineBackup) * 100, OnlineBackup[2] / sum(OnlineBackup) * 100]\n\nDeviceProtection \u003d data[df[\u0027Churn\u0027] \u003d\u003d 1][\u0027DeviceProtection\u0027].value_counts()\npie_values8 \u003d [DeviceProtection[0] / sum(DeviceProtection) * 100, DeviceProtection[1] / sum(DeviceProtection) * 100, DeviceProtection[2] / sum(DeviceProtection) * 100]\n\nTechSupport \u003d data[df[\u0027Churn\u0027] \u003d\u003d 1][\u0027TechSupport\u0027].value_counts()\npie_values9 \u003d [TechSupport[0] / sum(TechSupport) * 100, TechSupport[1] / sum(TechSupport) * 100, TechSupport[2] / sum(TechSupport) * 100]"
    },
    {
      "cell_type": "code",
      "execution_count": 294,
      "metadata": {
        "autoscroll": "auto"
      },
      "outputs": [],
      "source": "%python\nfig \u003d plt.figure(figsize\u003d(20,18))\ncolorsSer \u003d [\u0027#66b3ff\u0027,\u0027#ff9999\u0027,\u0027#EE82EE\u0027]\nplt.subplot(3,2,1)\nplt.pie(pie_values1,labels \u003d [\u0027No phone Service\u0027,\u0027Phone Service provided\u0027],\n        autopct\u003d\u0027%1.2f%%\u0027,\n        startangle \u003d 90,\n        explode \u003d (0.1,0),\n        colors\u003dcolorsSer,\n        wedgeprops \u003d {\u0027edgecolor\u0027 : \u0027black\u0027,\u0027linewidth\u0027: 1,\u0027antialiased\u0027 : True})\nplt.title(\u0027Phone service\u0027)\nplt.subplot(3,2,2)\nax\u003dsns.countplot(data \u003d data, x \u003d \u0027PhoneService\u0027,hue\u003d\u0027Churn\u0027,alpha\u003d0.8,palette\u003dcolorsChurn, edgecolor\u003d\u0027black\u0027, linewidth\u003d1.5)\nfor p in ax.patches:\n    ax.annotate(f\u0027{p.get_height()}\u0027, (p.get_x() + p.get_width() / 2., p.get_height()), ha\u003d\u0027center\u0027, va\u003d\u0027bottom\u0027)\n    \nplt.subplot(3,2,3)\nplt.pie(pie_values2,labels \u003d [\u0027No\u0027,\u0027No phone service\u0027,\u0027Yes\u0027],\n        autopct\u003d\u0027%1.2f%%\u0027,\n        startangle \u003d 90,\n        explode \u003d (0.1,0,0.1),\n        colors\u003dcolorsSer,\n        wedgeprops \u003d {\u0027edgecolor\u0027 : \u0027black\u0027,\u0027linewidth\u0027: 1,\u0027antialiased\u0027 : True})\nplt.title(\u0027MultipleLines (Churn)\u0027)\nplt.subplot(3,2,4)\nax\u003dsns.countplot(data \u003d data, x \u003d \u0027MultipleLines\u0027,hue\u003d\u0027Churn\u0027,alpha\u003d0.8,palette\u003dcolorsChurn, edgecolor\u003d\u0027black\u0027, linewidth\u003d1.5)\nfor p in ax.patches:\n    ax.annotate(f\u0027{p.get_height()}\u0027, (p.get_x() + p.get_width() / 2., p.get_height()), ha\u003d\u0027center\u0027, va\u003d\u0027bottom\u0027)\n\nplt.subplot(3,2,5)\nplt.pie(pie_values3,labels \u003d [\u0027DSL\u0027,\u0027Fiber\u0027,\u0027No Internet service\u0027],\n        autopct\u003d\u0027%1.2f%%\u0027,\n        startangle \u003d 90,\n        explode \u003d (0.1,0,0.1),\n        colors\u003dcolorsSer,\n        wedgeprops \u003d {\u0027edgecolor\u0027 : \u0027black\u0027,\u0027linewidth\u0027: 1,\u0027antialiased\u0027 : True})\nplt.title(\u0027InternetService (Churn)\u0027)\nplt.subplot(3,2,6)\nax\u003dsns.countplot(data \u003d data, x \u003d \u0027InternetService\u0027,hue\u003d\u0027Churn\u0027,alpha\u003d0.8,palette\u003dcolorsChurn, edgecolor\u003d\u0027black\u0027, linewidth\u003d1.5)\nfor p in ax.patches:\n    ax.annotate(f\u0027{p.get_height()}\u0027, (p.get_x() + p.get_width() / 2., p.get_height()), ha\u003d\u0027center\u0027, va\u003d\u0027bottom\u0027)"
    },
    {
      "cell_type": "markdown",
      "metadata": {},
      "source": "**Nhận xét**:\n* Rất ít khách hàng không có dịch vụ điện thoại\n* Khách hàng sử dụng dịch vụ MultipleLines có tỷ lệ rời bỏ cao hơn một chút\n* Khách hàng không có internet có tỷ lệ rời bỏ rất thấp\n* Khách hàng sử dụng Fiber có nhiều khả năng rời bỏ hơn những khách hàng có kết nối DSL"
    },
    {
      "cell_type": "code",
      "execution_count": 296,
      "metadata": {
        "autoscroll": "auto"
      },
      "outputs": [],
      "source": "%python\nfig \u003d plt.figure(figsize\u003d(20,18))\nplt.subplot(3,2,1)\nplt.pie(pie_values4,labels \u003d [\u0027No\u0027,\u0027No internet service\u0027,\u0027Yes\u0027],\n        autopct\u003d\u0027%1.2f%%\u0027,\n        startangle \u003d 90,\n        explode \u003d (0.1,0,0.1),\n        colors \u003d colorsSer,\n        wedgeprops \u003d {\u0027edgecolor\u0027 : \u0027black\u0027,\u0027linewidth\u0027: 1,\u0027antialiased\u0027 : True})\nplt.title(\u0027StreamingTV\u0027)\nplt.subplot(3,2,2)\nax\u003dsns.countplot(data \u003d data, x \u003d \u0027StreamingTV\u0027,hue\u003d\u0027Churn\u0027,alpha\u003d0.8,palette\u003dcolorsChurn, edgecolor\u003d\u0027black\u0027, linewidth\u003d1.5)\nfor p in ax.patches:\n    ax.annotate(f\u0027{p.get_height()}\u0027, (p.get_x() + p.get_width() / 2., p.get_height()), ha\u003d\u0027center\u0027, va\u003d\u0027bottom\u0027)\n\nplt.subplot(3,2,3)\nplt.pie(pie_values5,labels \u003d [\u0027No\u0027,\u0027No internet service\u0027,\u0027Yes\u0027],\n        autopct\u003d\u0027%1.2f%%\u0027,\n        startangle \u003d 90,\n        explode \u003d (0.1,0,0.1),\n        colors \u003d colorsSer,\n        wedgeprops \u003d {\u0027edgecolor\u0027 : \u0027black\u0027,\u0027linewidth\u0027: 1,\u0027antialiased\u0027 : True})\nplt.title(\u0027StreamingMovies\u0027)\nplt.subplot(3,2,4)\nax\u003dsns.countplot(data \u003d data, x \u003d \u0027StreamingMovies\u0027,hue\u003d\u0027Churn\u0027,alpha\u003d0.8,palette\u003dcolorsChurn, edgecolor\u003d\u0027black\u0027, linewidth\u003d1.5)\nfor p in ax.patches:\n    ax.annotate(f\u0027{p.get_height()}\u0027, (p.get_x() + p.get_width() / 2., p.get_height()), ha\u003d\u0027center\u0027, va\u003d\u0027bottom\u0027)"
    },
    {
      "cell_type": "code",
      "execution_count": 297,
      "metadata": {
        "autoscroll": "auto"
      },
      "outputs": [],
      "source": "%python\nfig \u003d plt.figure(figsize\u003d(25,13))\n\nplt.subplot(2,2,1)\nplt.pie(pie_values6,labels \u003d [\u0027No\u0027,\u0027No internet service\u0027,\u0027Yes\u0027],\n        autopct\u003d\u0027%1.2f%%\u0027,\n        startangle \u003d 90,\n        explode \u003d (0.1,0,0.1),\n        colors \u003d colorsSer,\n        wedgeprops \u003d {\u0027edgecolor\u0027 : \u0027black\u0027,\u0027linewidth\u0027: 1,\u0027antialiased\u0027 : True})\nplt.title(\u0027OnlineSecurity\u0027)\nplt.subplot(2,2,2)\nax\u003dsns.countplot(data \u003d data, x \u003d \u0027OnlineSecurity\u0027,hue\u003d\u0027Churn\u0027,alpha\u003d0.8,palette\u003dcolorsChurn, edgecolor\u003d\u0027black\u0027, linewidth\u003d1.5)\nfor p in ax.patches:\n    ax.annotate(f\u0027{p.get_height()}\u0027, (p.get_x() + p.get_width() / 2., p.get_height()), ha\u003d\u0027center\u0027, va\u003d\u0027bottom\u0027)\n\nplt.subplot(2,2,3)\nplt.pie(pie_values7,labels \u003d [\u0027No\u0027,\u0027No internet service\u0027,\u0027Yes\u0027],\n        autopct\u003d\u0027%1.2f%%\u0027,\n        startangle \u003d 90,\n        explode \u003d (0.1,0,0.1),\n        colors \u003d colorsSer,\n        wedgeprops \u003d {\u0027edgecolor\u0027 : \u0027black\u0027,\u0027linewidth\u0027: 1,\u0027antialiased\u0027 : True})\nplt.title(\u0027OnlineBackup\u0027)\nplt.subplot(2,2,4)\nax\u003dsns.countplot(data \u003d data, x \u003d \u0027OnlineBackup\u0027,hue\u003d\u0027Churn\u0027,alpha\u003d0.8,palette\u003dcolorsChurn, edgecolor\u003d\u0027black\u0027, linewidth\u003d1.5)\nfor p in ax.patches:\n    ax.annotate(f\u0027{p.get_height()}\u0027, (p.get_x() + p.get_width() / 2., p.get_height()), ha\u003d\u0027center\u0027, va\u003d\u0027bottom\u0027)"
    },
    {
      "cell_type": "code",
      "execution_count": 298,
      "metadata": {
        "autoscroll": "auto"
      },
      "outputs": [],
      "source": "%python\nfig \u003d plt.figure(figsize\u003d(25,13))\nplt.subplot(2,2,1)\nplt.pie(pie_values8,labels \u003d [\u0027No\u0027,\u0027No internet service\u0027,\u0027Yes\u0027],\n        autopct\u003d\u0027%1.2f%%\u0027,\n        startangle \u003d 90,\n        explode \u003d (0.1,0,0.1),\n        colors \u003d colorsSer,\n        wedgeprops \u003d {\u0027edgecolor\u0027 : \u0027black\u0027,\u0027linewidth\u0027: 1,\u0027antialiased\u0027 : True})\nplt.title(\u0027DeviceProtection\u0027)\nplt.subplot(2,2,2)\nax\u003dsns.countplot(data \u003d data, x \u003d \u0027DeviceProtection\u0027,hue\u003d\u0027Churn\u0027,alpha\u003d0.8,palette\u003dcolorsChurn, edgecolor\u003d\u0027black\u0027, linewidth\u003d1.5)\nfor p in ax.patches:\n    ax.annotate(f\u0027{p.get_height()}\u0027, (p.get_x() + p.get_width() / 2., p.get_height()), ha\u003d\u0027center\u0027, va\u003d\u0027bottom\u0027)\n\nplt.subplot(2,2,3)\nplt.pie(pie_values9,labels \u003d [\u0027No\u0027,\u0027No internet service\u0027,\u0027Yes\u0027],\n        autopct\u003d\u0027%1.2f%%\u0027,\n        startangle \u003d 90,\n        explode \u003d (0.1,0,0.1),\n        colors \u003d colorsSer,\n        wedgeprops \u003d {\u0027edgecolor\u0027 : \u0027black\u0027,\u0027linewidth\u0027: 1,\u0027antialiased\u0027 : True})\nplt.title(\u0027TechSupport\u0027)\nplt.subplot(2,2,4)\nax\u003dsns.countplot(data \u003d data, x \u003d \u0027TechSupport\u0027,hue\u003d\u0027Churn\u0027,alpha\u003d0.8,palette\u003dcolorsChurn, edgecolor\u003d\u0027black\u0027, linewidth\u003d1.5)\nfor p in ax.patches:\n    ax.annotate(f\u0027{p.get_height()}\u0027, (p.get_x() + p.get_width() / 2., p.get_height()), ha\u003d\u0027center\u0027, va\u003d\u0027bottom\u0027)"
    },
    {
      "cell_type": "markdown",
      "metadata": {},
      "source": "**Nhận xét**:\n* Những khách hàng có sử dụng dịch vụ TechSupport,DeviceProtection,OnlineBackup,OnlineSecurity có nhiều khả năng rời bỏ hơn\n* Dịch vụ phát trực tuyến không thể dự đoán được tình trạng rời bỏ"
    },
    {
      "cell_type": "markdown",
      "metadata": {},
      "source": "### 3.4 Về thanh toán"
    },
    {
      "cell_type": "code",
      "execution_count": 301,
      "metadata": {
        "autoscroll": "auto"
      },
      "outputs": [],
      "source": "%python\ncontract \u003d data[df[\u0027Churn\u0027] \u003d\u003d 1][\u0027Contract\u0027].value_counts()\npie_values1 \u003d [contract[0] / sum(contract) * 100, contract[1] / sum(contract) * 100, contract[2] / sum(contract) * 100]\n\npaperless \u003d data[df[\u0027Churn\u0027] \u003d\u003d 1][\u0027PaperlessBilling\u0027].value_counts()\npie_values2 \u003d [paperless[0] / sum(paperless) * 100, paperless[1] / sum(paperless) * 100] \n\npayment \u003d data[df[\u0027Churn\u0027] \u003d\u003d 1][\u0027PaymentMethod\u0027].value_counts()\npie_values3 \u003d [payment[0] / sum(payment) * 100, payment[1] / sum(payment) * 100, payment[2] / sum(payment) * 100, payment[3] / sum(payment) * 100] "
    },
    {
      "cell_type": "code",
      "execution_count": 302,
      "metadata": {
        "autoscroll": "auto"
      },
      "outputs": [],
      "source": "%python\nfig \u003d plt.figure(figsize\u003d(25,13))\ncolorsPay \u003d [\u0027#66b3ff\u0027,\u0027#ff9999\u0027,\u0027#EE82EE\u0027,\u0027#54FF9F\u0027]\nplt.subplot(3,2,1)\nplt.pie(pie_values1,labels \u003d [\u0027Monthly\u0027,\u0027Yearly\u0027,\u0027Biyearly\u0027],\n        autopct\u003d\u0027%1.2f%%\u0027,\n        startangle \u003d 90,\n        explode \u003d (0.1,0,0.1),\n        colors \u003d colorsPay,\n        wedgeprops \u003d {\u0027edgecolor\u0027 : \u0027black\u0027,\u0027linewidth\u0027: 1,\u0027antialiased\u0027 : True})\nplt.title(\u0027Contract\u0027)\nplt.subplot(3,2,2)\nax\u003dsns.countplot(data \u003d data, x \u003d \u0027Contract\u0027,hue\u003d\u0027Churn\u0027,alpha\u003d0.8,palette\u003dcolorsChurn, edgecolor\u003d\u0027black\u0027, linewidth\u003d1.5)\nfor p in ax.patches:\n    ax.annotate(f\u0027{p.get_height()}\u0027, (p.get_x() + p.get_width() / 2., p.get_height()), ha\u003d\u0027center\u0027, va\u003d\u0027bottom\u0027)\n\nplt.subplot(3,2,3)\nplt.pie(pie_values2,labels \u003d [\u0027No\u0027,\u0027Yes\u0027],\n        autopct\u003d\u0027%1.2f%%\u0027,\n        startangle \u003d 90,\n        explode \u003d (0.1,0),\n        colors \u003d colorsPay,\n        wedgeprops \u003d {\u0027edgecolor\u0027 : \u0027black\u0027,\u0027linewidth\u0027: 1,\u0027antialiased\u0027 : True})\nplt.title(\u0027Paperless billing\u0027)\nplt.subplot(3,2,4)\nax\u003dsns.countplot(data \u003d data, x \u003d \u0027PaperlessBilling\u0027,hue\u003d\u0027Churn\u0027,alpha\u003d0.8,palette\u003dcolorsChurn, edgecolor\u003d\u0027black\u0027, linewidth\u003d1.5)\nfor p in ax.patches:\n    ax.annotate(f\u0027{p.get_height()}\u0027, (p.get_x() + p.get_width() / 2., p.get_height()), ha\u003d\u0027center\u0027, va\u003d\u0027bottom\u0027)\n\nplt.subplot(3,2,5)\nplt.pie(pie_values3,labels \u003d [\u0027Bank transfer\u0027,\u0027Credit card\u0027,\u0027Electronic check\u0027,\u0027Mailed check\u0027],\n        autopct\u003d\u0027%1.2f%%\u0027,\n        startangle \u003d 90,\n        explode \u003d (0.1,0.1,0,0.1),\n        colors \u003d colorsPay,\n        wedgeprops \u003d {\u0027edgecolor\u0027 : \u0027black\u0027,\u0027linewidth\u0027: 1,\u0027antialiased\u0027 : True})\nplt.title(\u0027Payment method\u0027)\nplt.subplot(3,2,6)\nax\u003dsns.countplot(data \u003d data, x \u003d \u0027PaymentMethod\u0027,hue\u003d\u0027Churn\u0027,alpha\u003d0.8,palette\u003dcolorsChurn, edgecolor\u003d\u0027black\u0027, linewidth\u003d1.5)\nfor p in ax.patches:\n    ax.annotate(f\u0027{p.get_height()}\u0027, (p.get_x() + p.get_width() / 2., p.get_height()), ha\u003d\u0027center\u0027, va\u003d\u0027bottom\u0027)\n"
    },
    {
      "cell_type": "markdown",
      "metadata": {},
      "source": "**Nhận xét**:\n* Hợp đồng ngắn hạn có tỷ lệ rời bỏ cao hơn nhiều.\n* Những khách hàng sử dụng phương thức thanh toán không cần giấy tờ có nhiều khả năng rời bỏ hơn.\n* Khách hàng sử dụng séc điện tử làm phương thức thanh toán có nhiều khả năng rời bỏ hơn."
    },
    {
      "cell_type": "markdown",
      "metadata": {},
      "source": "## 4. Tương quan giữa các thuộc tính"
    },
    {
      "cell_type": "code",
      "execution_count": 305,
      "metadata": {
        "autoscroll": "auto"
      },
      "outputs": [],
      "source": "%python\nplt.figure(figsize\u003d(12, 6))\ncorr \u003d df.apply(lambda x: pd.factorize(x)[0]).corr()\nax \u003d sns.heatmap(corr, xticklabels\u003dcorr.columns, yticklabels\u003dcorr.columns, \n                 linewidths\u003d.2, cmap\u003d\"YlGnBu\")"
    },
    {
      "cell_type": "markdown",
      "metadata": {},
      "source": "**Nhận xét**:\n- Đa phần các thuộc tính có mối tương quan thấp.\n- Các vấn đề về giới tính, tuổi tác,... dường như không có ảnh hưởng đến quyết định rời bỏ dịch vụ\n- Các thuộc tính InternetService, StreamingTV, StreamingMovies, , InternetService, StreamingTV, StreamingMovies có mối tương quan cao, điều đó cho thấy ở về dịch vụ về Internet có vấn đề khiến cho tỷ lệ rời bỏ dịch vụ khách hàng tăng.\n"
    },
    {
      "cell_type": "code",
      "execution_count": 307,
      "metadata": {
        "autoscroll": "auto"
      },
      "outputs": [],
      "source": "%python\nplt.figure(figsize\u003d(15,8))\ndf_dummies.corr()[\u0027Churn\u0027].sort_values(ascending \u003d False).plot(kind\u003d\u0027bar\u0027)"
    },
    {
      "cell_type": "markdown",
      "metadata": {},
      "source": "**Nhận xét**:\n* Contract_Month-to-month, OnlineSecurity_No,TechSupport_No, InternetService_ Fiber Obtic, … dường như có mối tương quan tích cực với khả năng rời bỏ.\n* Tensure, Contract_Two-year,… dường như có mối tương quan nghịch với khả năng rời bỏ.\n* Từ đó, ta có thể giả định rằng những người đăng ký dịch vụ Internet từ Fiber Obtic cùng với các dịch vụ đi kèm có khả năng rời bỏ cao hơn.\n* Điều này đúng với các dữ liệu đã phân tích trên"
    }
  ]
}